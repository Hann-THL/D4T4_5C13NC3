{
 "cells": [
  {
   "cell_type": "code",
   "execution_count": null,
   "metadata": {},
   "outputs": [],
   "source": [
    "import lib._util.visualplot as vp\n",
    "\n",
    "# Pre-processing\n",
    "from lib._class.DFSimpleImputer import DFSimpleImputer\n",
    "from lib._class.DFDuplicateRemoval import DFDuplicateRemoval\n",
    "from lib._class.DFPositiveTransformer import DFPositiveTransformer\n",
    "from lib._class.DFBoxCoxTransformer import DFBoxCoxTransformer\n",
    "\n",
    "# Feature selection\n",
    "from lib._class.DFRegressionThreshold import DFRegressionThreshold\n",
    "\n",
    "# Feature encoding\n",
    "from lib._class.DFOrdinalEncoder import DFOrdinalEncoder\n",
    "\n",
    "# Feature scaling\n",
    "from lib._class.DFStandardScaler import DFStandardScaler\n",
    "from lib._class.DFMinMaxScaler import DFMinMaxScaler"
   ]
  },
  {
   "cell_type": "code",
   "execution_count": null,
   "metadata": {},
   "outputs": [],
   "source": [
    "import pandas as pd\n",
    "pd.set_option('display.max_columns', None)\n",
    "\n",
    "import numpy as np\n",
    "\n",
    "# Scikit-Learn\n",
    "from sklearn.model_selection import train_test_split\n",
    "from sklearn.pipeline import Pipeline\n",
    "from sklearn.ensemble import RandomForestRegressor\n",
    "from sklearn.metrics import mean_absolute_error, mean_squared_error, r2_score\n",
    "\n",
    "# Plotly\n",
    "import plotly.express as px"
   ]
  },
  {
   "cell_type": "markdown",
   "metadata": {},
   "source": [
    "# Constant Variable"
   ]
  },
  {
   "cell_type": "code",
   "execution_count": null,
   "metadata": {},
   "outputs": [],
   "source": [
    "SOURCE_PATH_DATA = 'resources/data/'\n",
    "OUT_PATH_GRAPH   = 'resources/output/graph/'"
   ]
  },
  {
   "cell_type": "markdown",
   "metadata": {},
   "source": [
    "# Phase 1 - Data Loading\n",
    "- Reference: https://www.kaggle.com/pmarcelino/comprehensive-data-exploration-with-python\n",
    "- MSSubClass: The building class\n",
    "- MSZoning: The general zoning classification\n",
    "- LotFrontage: Linear feet of street connected to property\n",
    "- LotArea: Lot size in square feet\n",
    "- Street: Type of road access\n",
    "- Alley: Type of alley access\n",
    "- LotShape: General shape of property\n",
    "- LandContour: Flatness of the property\n",
    "- Utilities: Type of utilities available\n",
    "- LotConfig: Lot configuration\n",
    "- LandSlope: Slope of property\n",
    "- Neighborhood: Physical locations within Ames city limits\n",
    "- Condition1: Proximity to main road or railroad\n",
    "- Condition2: Proximity to main road or railroad (if a second is present)\n",
    "- BldgType: Type of dwelling\n",
    "- HouseStyle: Style of dwelling\n",
    "- OverallQual: Overall material and finish quality\n",
    "- OverallCond: Overall condition rating\n",
    "- YearBuilt: Original construction date\n",
    "- YearRemodAdd: Remodel date\n",
    "- RoofStyle: Type of roof\n",
    "- RoofMatl: Roof material\n",
    "- Exterior1st: Exterior covering on house\n",
    "- Exterior2nd: Exterior covering on house (if more than one material)\n",
    "- MasVnrType: Masonry veneer type\n",
    "- MasVnrArea: Masonry veneer area in square feet\n",
    "- ExterQual: Exterior material quality\n",
    "- ExterCond: Present condition of the material on the exterior\n",
    "- Foundation: Type of foundation\n",
    "- BsmtQual: Height of the basement\n",
    "- BsmtCond: General condition of the basement\n",
    "- BsmtExposure: Walkout or garden level basement walls\n",
    "- BsmtFinType1: Quality of basement finished area\n",
    "- BsmtFinSF1: Type 1 finished square feet\n",
    "- BsmtFinType2: Quality of second finished area (if present)\n",
    "- BsmtFinSF2: Type 2 finished square feet\n",
    "- BsmtUnfSF: Unfinished square feet of basement area\n",
    "- TotalBsmtSF: Total square feet of basement area\n",
    "- Heating: Type of heating\n",
    "- HeatingQC: Heating quality and condition\n",
    "- CentralAir: Central air conditioning\n",
    "- Electrical: Electrical system\n",
    "- 1stFlrSF: First Floor square feet\n",
    "- 2ndFlrSF: Second floor square feet\n",
    "- LowQualFinSF: Low quality finished square feet (all floors)\n",
    "- GrLivArea: Above grade (ground) living area square feet\n",
    "- BsmtFullBath: Basement full bathrooms\n",
    "- BsmtHalfBath: Basement half bathrooms\n",
    "- FullBath: Full bathrooms above grade\n",
    "- HalfBath: Half baths above grade\n",
    "- Bedroom: Number of bedrooms above basement level\n",
    "- Kitchen: Number of kitchens\n",
    "- KitchenQual: Kitchen quality\n",
    "- TotRmsAbvGrd: Total rooms above grade (does not include bathrooms)\n",
    "- Functional: Home functionality rating\n",
    "- Fireplaces: Number of fireplaces\n",
    "- FireplaceQu: Fireplace quality\n",
    "- GarageType: Garage location\n",
    "- GarageYrBlt: Year garage was built\n",
    "- GarageFinish: Interior finish of the garage\n",
    "- GarageCars: Size of garage in car capacity\n",
    "- GarageArea: Size of garage in square feet\n",
    "- GarageQual: Garage quality\n",
    "- GarageCond: Garage condition\n",
    "- PavedDrive: Paved driveway\n",
    "- WoodDeckSF: Wood deck area in square feet\n",
    "- OpenPorchSF: Open porch area in square feet\n",
    "- EnclosedPorch: Enclosed porch area in square feet\n",
    "- 3SsnPorch: Three season porch area in square feet\n",
    "- ScreenPorch: Screen porch area in square feet\n",
    "- PoolArea: Pool area in square feet\n",
    "- PoolQC: Pool quality\n",
    "- Fence: Fence quality\n",
    "- MiscFeature: Miscellaneous feature not covered in other categories\n",
    "- MiscVal: $Value of miscellaneous feature\n",
    "- MoSold: Month Sold\n",
    "- YrSold: Year Sold\n",
    "- SaleType: Type of sale\n",
    "- SaleCondition: Condition of sale\n",
    "- SalePrice: The property's sale price in dollars. This is the target variable that you're trying to predict."
   ]
  },
  {
   "cell_type": "code",
   "execution_count": null,
   "metadata": {},
   "outputs": [],
   "source": [
    "def load_trainset():\n",
    "    df_chunks = pd.read_csv(f'{SOURCE_PATH_DATA}train.csv', sep=',', chunksize=50_000)\n",
    "    return pd.concat(df_chunks)"
   ]
  },
  {
   "cell_type": "code",
   "execution_count": null,
   "metadata": {},
   "outputs": [],
   "source": [
    "data_df = load_trainset()\n",
    "\n",
    "data_df.shape"
   ]
  },
  {
   "cell_type": "code",
   "execution_count": null,
   "metadata": {},
   "outputs": [],
   "source": [
    "data_df.head()"
   ]
  },
  {
   "cell_type": "code",
   "execution_count": null,
   "metadata": {
    "scrolled": true
   },
   "outputs": [],
   "source": [
    "vp.faststat(data_df)"
   ]
  },
  {
   "cell_type": "code",
   "execution_count": null,
   "metadata": {},
   "outputs": [],
   "source": [
    "# Prepare mean & mode of full dataset for test dataset\n",
    "mean_dict = {x: data_df[x].mean() for x in data_df.select_dtypes('number').columns}\n",
    "mode_dict = {x: data_df[x].mode()[0] for x in data_df.select_dtypes('object').columns}\n",
    "\n",
    "len(mean_dict), len(mode_dict)"
   ]
  },
  {
   "cell_type": "code",
   "execution_count": null,
   "metadata": {},
   "outputs": [],
   "source": [
    "# Drop ID feature\n",
    "data_df.drop(columns=['Id'], inplace=True)\n",
    "\n",
    "# Feature stats\n",
    "stat_df = data_df.isna().sum().to_frame(name='N/A Count')\n",
    "stat_df['N/A Ratio'] = stat_df['N/A Count'] / len(data_df)\n",
    "stat_df = stat_df.merge(data_df.dtypes.to_frame(name='Type'), left_index=True, right_index=True, how='left')\n",
    "\n",
    "# Drop features more than 40% N/A\n",
    "data_df.drop(columns=[x for x in data_df.columns if stat_df.at[x, 'N/A Ratio'] > .4], inplace=True)\n",
    "\n",
    "# Data imputation\n",
    "columns      = [x for x in data_df.select_dtypes('number').columns if any(data_df[x].isna())]\n",
    "mean_imputer = DFSimpleImputer(columns=columns, strategy='mean')\n",
    "\n",
    "columns      = [x for x in data_df.select_dtypes('object').columns if any(data_df[x].isna())]\n",
    "mode_imputer = DFSimpleImputer(columns=columns, strategy='most_frequent')\n",
    "\n",
    "steps = [\n",
    "    ('mean_imputer', mean_imputer),\n",
    "    ('mode_imputer', mode_imputer),\n",
    "]\n",
    "data_df = Pipeline(steps).fit_transform(data_df)"
   ]
  },
  {
   "cell_type": "code",
   "execution_count": null,
   "metadata": {
    "scrolled": true
   },
   "outputs": [],
   "source": [
    "vp.faststat(data_df)"
   ]
  },
  {
   "cell_type": "markdown",
   "metadata": {},
   "source": [
    "###### Histogram"
   ]
  },
  {
   "cell_type": "code",
   "execution_count": null,
   "metadata": {},
   "outputs": [],
   "source": [
    "vp.histogram(data_df,\n",
    "             bin_algo='count',\n",
    "             max_col=4,\n",
    "             title='Phase 1 - Histogram',\n",
    "             out_path=OUT_PATH_GRAPH,\n",
    "             layout_kwargs={'height': 4000})"
   ]
  },
  {
   "cell_type": "markdown",
   "metadata": {},
   "source": [
    "###### Box"
   ]
  },
  {
   "cell_type": "code",
   "execution_count": null,
   "metadata": {},
   "outputs": [],
   "source": [
    "vp.box(data_df,\n",
    "       max_col=4,\n",
    "       title='Phase 1 - Box',\n",
    "       out_path=OUT_PATH_GRAPH,\n",
    "       layout_kwargs={\n",
    "           'height': 2000,\n",
    "           'legend_orientation': 'h'\n",
    "       })"
   ]
  },
  {
   "cell_type": "markdown",
   "metadata": {},
   "source": [
    "# Phase 2 - Data Preparation\n",
    "- Remove outliers"
   ]
  },
  {
   "cell_type": "markdown",
   "metadata": {},
   "source": [
    "###### Correlation Matrix"
   ]
  },
  {
   "cell_type": "code",
   "execution_count": null,
   "metadata": {},
   "outputs": [],
   "source": [
    "vp.corrmat(data_df,\n",
    "           absolute=True,\n",
    "           matrix_type='upper',\n",
    "           title='Phase 2 - Correlation Matrix',\n",
    "           out_path=OUT_PATH_GRAPH,\n",
    "           heatmap_kwargs={\n",
    "               'reversescale': True\n",
    "           })"
   ]
  },
  {
   "cell_type": "markdown",
   "metadata": {},
   "source": [
    "###### Scatter"
   ]
  },
  {
   "cell_type": "code",
   "execution_count": null,
   "metadata": {},
   "outputs": [],
   "source": [
    "vp.scatter(data_df,\n",
    "           xy_tuples=[(x, 'SalePrice') for x in data_df.select_dtypes('number').columns if x != 'SalePrice'],\n",
    "           max_col=4,\n",
    "           title='Phase 2 - Scatter',\n",
    "           out_path=OUT_PATH_GRAPH,\n",
    "           scatter_kwargs={\n",
    "               'trendline': 'ols',\n",
    "               'trendline_color_override': 'red'\n",
    "           },\n",
    "           layout_kwargs={\n",
    "               'height': 2000,\n",
    "               'legend_orientation': 'h'\n",
    "           })"
   ]
  },
  {
   "cell_type": "code",
   "execution_count": null,
   "metadata": {},
   "outputs": [],
   "source": [
    "# Remove outliers\n",
    "data_df = data_df[~data_df['LotFrontage'].isin([313])]\n",
    "data_df = data_df[~data_df['LotArea'].isin([115_149, 159_000, 164_660, 215_245])]\n",
    "data_df = data_df[~data_df['MasVnrArea'].isin([1600])]\n",
    "data_df = data_df[~data_df['BsmtFinSF1'].isin([5644])]\n",
    "data_df = data_df[~data_df['TotalBsmtSF'].isin([6110])]\n",
    "data_df = data_df[~data_df['1stFlrSF'].isin([4692])]\n",
    "data_df = data_df[~data_df['GrLivArea'].isin([4676, 5642])]\n",
    "data_df = data_df[~data_df['GarageArea'].isin([1248, 1356, 1390, 1418])]\n",
    "data_df = data_df[~data_df['OpenPorchSF'].isin([523])]\n",
    "data_df = data_df[~data_df['EnclosedPorch'].isin([552])]"
   ]
  },
  {
   "cell_type": "markdown",
   "metadata": {},
   "source": [
    "###### Scatter"
   ]
  },
  {
   "cell_type": "code",
   "execution_count": null,
   "metadata": {},
   "outputs": [],
   "source": [
    "vp.scatter(data_df,\n",
    "           xy_tuples=[(x, 'SalePrice') for x in data_df.select_dtypes('number').columns if x != 'SalePrice'],\n",
    "           max_col=4,\n",
    "           title='Phase 2 - Scatter - No Outlier',\n",
    "           out_path=OUT_PATH_GRAPH,\n",
    "           scatter_kwargs={\n",
    "               'trendline': 'ols',\n",
    "               'trendline_color_override': 'red'\n",
    "           },\n",
    "           layout_kwargs={\n",
    "               'height': 2000,\n",
    "               'legend_orientation': 'h'\n",
    "           })"
   ]
  },
  {
   "cell_type": "markdown",
   "metadata": {},
   "source": [
    "###### Correlation Matrix"
   ]
  },
  {
   "cell_type": "code",
   "execution_count": null,
   "metadata": {},
   "outputs": [],
   "source": [
    "vp.corrmat(data_df,\n",
    "           absolute=True,\n",
    "           matrix_type='upper',\n",
    "           title='Phase 2 - Correlation Matrix - No Outlier',\n",
    "           out_path=OUT_PATH_GRAPH,\n",
    "           heatmap_kwargs={\n",
    "               'reversescale': True\n",
    "           })"
   ]
  },
  {
   "cell_type": "markdown",
   "metadata": {},
   "source": [
    "# Phase 3 - Data Preparation\n",
    "- Categorical encoding"
   ]
  },
  {
   "cell_type": "markdown",
   "metadata": {},
   "source": [
    "###### Box"
   ]
  },
  {
   "cell_type": "code",
   "execution_count": null,
   "metadata": {},
   "outputs": [],
   "source": [
    "vp.box_categorical(data_df,\n",
    "                   y='SalePrice',\n",
    "                   title='Phase 3 - Box',\n",
    "                   out_path=OUT_PATH_GRAPH,\n",
    "                   max_col=4,\n",
    "                   layout_kwargs={'height': 2500})"
   ]
  },
  {
   "cell_type": "markdown",
   "metadata": {},
   "source": [
    "###### Bar"
   ]
  },
  {
   "cell_type": "code",
   "execution_count": null,
   "metadata": {},
   "outputs": [],
   "source": [
    "vp.meandist(data_df,\n",
    "            y='SalePrice',\n",
    "            title='Phase 3 - Bar - Mean Distribution',\n",
    "            out_path=OUT_PATH_GRAPH,\n",
    "            max_col=2,\n",
    "            layout_kwargs={'height': 6500})"
   ]
  },
  {
   "cell_type": "code",
   "execution_count": null,
   "metadata": {},
   "outputs": [],
   "source": [
    "# Ordinal encoding based on mean\n",
    "mapper_dict = {\n",
    "    'MSZoning': {\n",
    "        'C (all)': 1,\n",
    "        'RM': 2,\n",
    "        'RH': 2,\n",
    "        'RL': 3,\n",
    "        'FV': 3,\n",
    "    },\n",
    "    'Street': {\n",
    "        'Grvl': 1,\n",
    "        'Pave': 2,\n",
    "    },\n",
    "    'LotShape': {\n",
    "        'Reg': 1,\n",
    "        'IR1': 2,\n",
    "        'IR3': 2,\n",
    "        'IR2': 3,\n",
    "    },\n",
    "    'LandContour': {\n",
    "        'Bnk': 1,\n",
    "        'Lvl': 2,\n",
    "        'Low': 2,\n",
    "        'HLS': 3,\n",
    "    },\n",
    "    'Utilities': {\n",
    "        'NoSeWa': 1,\n",
    "        'AllPub': 2,\n",
    "    },\n",
    "    'LotConfig': {\n",
    "        'Inside': 1,\n",
    "        'FR2': 1,\n",
    "        'Corner': 1,\n",
    "        'FR3': 2,\n",
    "        'CulDSac': 2,\n",
    "    },\n",
    "    'LandSlope': {\n",
    "        'Sev': 1,\n",
    "        'Gtl': 2,\n",
    "        'Mod': 3,\n",
    "    },\n",
    "    'Neighborhood': {\n",
    "        'MeadowV': 1,\n",
    "        'IDOTRR': 1,\n",
    "        'BrDale': 1,\n",
    "        'BrkSide': 2,\n",
    "        'Edwards': 2,\n",
    "        'OldTown': 2,\n",
    "        'Sawyer': 2,\n",
    "        'Blueste': 2,\n",
    "        'SWISU': 2,\n",
    "        'NPkVill': 2,\n",
    "        'NAmes': 2,\n",
    "        'Mitchel': 2,\n",
    "        'SawyerW': 3,\n",
    "        'NWAmes': 3,\n",
    "        'Gilbert': 3,\n",
    "        'Blmngtn': 3,\n",
    "        'CollgCr': 3,\n",
    "        'ClearCr': 3,\n",
    "        'Crawfor': 3,\n",
    "        'Somerst': 3,\n",
    "        'Veenker': 3,\n",
    "        'Timber': 3,\n",
    "        'StoneBr': 4,\n",
    "        'NridgHt': 4,\n",
    "        'NoRidge': 4,\n",
    "    },\n",
    "    'Condition1': {\n",
    "        'Artery': 1,\n",
    "        'RRAe': 1,\n",
    "        'Feedr': 1,\n",
    "        'Norm': 2,\n",
    "        'RRAn': 2,\n",
    "        'RRNe': 3,\n",
    "        'RRNn': 3,\n",
    "        'PosN': 3,\n",
    "        'PosA': 3,\n",
    "    },\n",
    "    'Condition2': {\n",
    "        'RRNn': 1,\n",
    "        'Artery': 1,\n",
    "        'Feedr': 1,\n",
    "        'RRAn': 1,\n",
    "        'Norm': 2,\n",
    "        'RRAe': 2,\n",
    "        'PosA': 3,\n",
    "        'PosN': 3,\n",
    "    },\n",
    "    'BldgType': {\n",
    "        '2fmCon': 1,\n",
    "        'Duplex': 1,\n",
    "        'Twnhs': 1,\n",
    "        'TwnhsE': 2,\n",
    "        '1Fam': 2,\n",
    "    },\n",
    "    'HouseStyle': {\n",
    "        '1.5Unf': 1,\n",
    "        'SFoyer': 1,\n",
    "        '1.5Fin': 1,\n",
    "        '2.5Unf': 1,\n",
    "        'SLvl': 2,\n",
    "        '1Story': 2,\n",
    "        '2Story': 3,\n",
    "        '2.5Fin': 3,\n",
    "    },\n",
    "    'RoofStyle': {\n",
    "        'Gambrel': 1,\n",
    "        'Gable': 2,\n",
    "        'Mansard': 2,\n",
    "        'Flat': 2,\n",
    "        'Hip': 3,\n",
    "        'Shed': 3,\n",
    "    },\n",
    "    'RoofMatl': {\n",
    "        'Roll': 1,\n",
    "        'CompShg': 2,\n",
    "        'Tar&Grv': 2,\n",
    "        'Metal': 2,\n",
    "        'WdShake': 3,\n",
    "        'Membran': 3,\n",
    "        'WdShngl': 4,\n",
    "    },\n",
    "    'Exterior1st': {\n",
    "        'BrkComm': 1,\n",
    "        'AsphShn': 2,\n",
    "        'CBlock': 2,\n",
    "        'AsbShng': 2,\n",
    "        'Wd Sdng': 3,\n",
    "        'MetalSd': 3,\n",
    "        'WdShing': 3,\n",
    "        'Stucco': 4,\n",
    "        'HdBoard': 4,\n",
    "        'Plywood': 4,\n",
    "        'BrkFace': 5,\n",
    "        'VinylSd': 5,\n",
    "        'CemntBd': 5,\n",
    "        'Stone': 6,\n",
    "        'ImStucc': 6,\n",
    "    },\n",
    "    'Exterior2nd': {\n",
    "        'CBlock': 1,\n",
    "        'AsbShng': 1,\n",
    "        'Brk Cmn': 2,\n",
    "        'AsphShn': 3,\n",
    "        'Wd Sdng': 3,\n",
    "        'MetalSd': 3,\n",
    "        'Stucco': 3,\n",
    "        'Stone': 4,\n",
    "        'Wd Shng': 4,\n",
    "        'Plywood': 4,\n",
    "        'HdBoard': 4,\n",
    "        'BrkFace': 5,\n",
    "        'VinylSd': 6,\n",
    "        'CmentBd': 6,\n",
    "        'ImStucc': 6,\n",
    "        'Other': 7,\n",
    "    },\n",
    "    'MasVnrType': {\n",
    "        'BrkCmn': 1,\n",
    "        'None': 1,\n",
    "        'BrkFace': 2,\n",
    "        'Stone': 3,\n",
    "    },\n",
    "    'ExterQual': {\n",
    "        'Fa': 1,\n",
    "        'TA': 2,\n",
    "        'Gd': 3,\n",
    "        'Ex': 4,\n",
    "    },\n",
    "    'ExterCond': {\n",
    "        'Po': 1,\n",
    "        'Fa': 1,\n",
    "        'Gd': 2,\n",
    "        'TA': 2,\n",
    "        'Ex': 2,\n",
    "    },\n",
    "    'Foundation': {\n",
    "        'Slab': 1,\n",
    "        'BrkTil': 2,\n",
    "        'CBlock': 2,\n",
    "        'Stone': 3,\n",
    "        'Wood': 3,\n",
    "        'PConc': 4,\n",
    "    },\n",
    "    'BsmtQual': {\n",
    "        'Fa': 1,\n",
    "        'TA': 1,\n",
    "        'Gd': 2,\n",
    "        'Ex': 3,\n",
    "    },\n",
    "    'BsmtCond': {\n",
    "        'Po': 1,\n",
    "        'Fa': 2,\n",
    "        'TA': 3,\n",
    "        'Gd': 4,\n",
    "    },\n",
    "    'BsmtExposure': {\n",
    "        'No': 1,\n",
    "        'Mn': 2,\n",
    "        'Av': 2,\n",
    "        'Gd': 3,\n",
    "    },\n",
    "    'BsmtFinType1': {\n",
    "        'Rec': 1,\n",
    "        'BLQ': 1,\n",
    "        'LwQ': 1,\n",
    "        'ALQ': 2,\n",
    "        'Unf': 2,\n",
    "        'GLQ': 3,\n",
    "    },\n",
    "    'BsmtFinType2': {\n",
    "        'BLQ': 1,\n",
    "        'Rec': 2,\n",
    "        'LwQ': 2,\n",
    "        'GLQ': 3,\n",
    "        'Unf': 3,\n",
    "        'ALQ': 4,\n",
    "    },\n",
    "    'Heating': {\n",
    "        'Floor': 1,\n",
    "        'Grav': 1,\n",
    "        'Wall': 2,\n",
    "        'OthW': 3,\n",
    "        'GasW': 4,\n",
    "        'GasA': 5,\n",
    "    },\n",
    "    'HeatingQC': {\n",
    "        'Po': 1,\n",
    "        'Fa': 2,\n",
    "        'TA': 2,\n",
    "        'Gd': 2,\n",
    "        'Ex': 3,\n",
    "    },\n",
    "    'CentralAir': {\n",
    "        'N': 1,\n",
    "        'Y': 2,\n",
    "    },\n",
    "    'Electrical': {\n",
    "        'Mix': 1,\n",
    "        'FuseP': 2,\n",
    "        'FuseF': 2,\n",
    "        'FuseA': 2,\n",
    "        'SBrkr': 3,\n",
    "    },\n",
    "    'KitchenQual': {\n",
    "        'Fa': 1,\n",
    "        'TA': 1,\n",
    "        'Gd': 2,\n",
    "        'Ex': 3,\n",
    "    },\n",
    "    'Functional': {\n",
    "        'Maj2': 1,\n",
    "        'Sev': 2,\n",
    "        'Min2': 3,\n",
    "        'Min1': 3,\n",
    "        'Maj1': 3,\n",
    "        'Mod': 4,\n",
    "        'Typ': 4,\n",
    "    },\n",
    "    'GarageType': {\n",
    "        'CarPort': 1,\n",
    "        'Detchd': 2,\n",
    "        '2Types': 2,\n",
    "        'Basment': 2,\n",
    "        'Attchd': 3,\n",
    "        'BuiltIn': 4,\n",
    "    },\n",
    "    'GarageFinish': {\n",
    "        'Unf': 1,\n",
    "        'RFn': 2,\n",
    "        'Fin': 3,\n",
    "    },\n",
    "    'GarageQual': {\n",
    "        'Po': 1,\n",
    "        'Fa': 1,\n",
    "        'TA': 2,\n",
    "        'Gd': 3,\n",
    "        'Ex': 3,\n",
    "    },\n",
    "    'GarageCond': {\n",
    "        'Po': 1,\n",
    "        'Fa': 1,\n",
    "        'Ex': 1,\n",
    "        'Gd': 2,\n",
    "        'TA': 2,\n",
    "    },\n",
    "    'PavedDrive': {\n",
    "        'N': 1,\n",
    "        'P': 1,\n",
    "        'Y': 2,\n",
    "    },\n",
    "    'SaleType': {\n",
    "        'Oth': 1,\n",
    "        'ConLw': 1,\n",
    "        'COD': 1,\n",
    "        'ConLD': 1,\n",
    "        'WD': 2,\n",
    "        'ConLI': 3,\n",
    "        'CWD': 3,\n",
    "        'Con': 4,\n",
    "        'New': 4,\n",
    "    },\n",
    "    'SaleCondition': {\n",
    "        'AdjLand': 1,\n",
    "        'Abnorml': 1,\n",
    "        'Family': 1,\n",
    "        'Alloca': 1,\n",
    "        'Normal': 1,\n",
    "        'Partial': 2,\n",
    "    }\n",
    "}\n",
    "\n",
    "ordinal_encoder = DFOrdinalEncoder(mapper_dict)\n",
    "data_df         = ordinal_encoder.fit_transform(data_df)"
   ]
  },
  {
   "cell_type": "code",
   "execution_count": null,
   "metadata": {
    "scrolled": true
   },
   "outputs": [],
   "source": [
    "vp.faststat(data_df)"
   ]
  },
  {
   "cell_type": "markdown",
   "metadata": {},
   "source": [
    "###### Scatter"
   ]
  },
  {
   "cell_type": "code",
   "execution_count": null,
   "metadata": {},
   "outputs": [],
   "source": [
    "vp.scatter(data_df,\n",
    "           xy_tuples=[(x, 'SalePrice') for x in mapper_dict.keys()],\n",
    "           max_col=4,\n",
    "           title='Phase 3 - Scatter',\n",
    "           out_path=OUT_PATH_GRAPH,\n",
    "           scatter_kwargs={\n",
    "               'trendline': 'ols',\n",
    "               'trendline_color_override': 'red'\n",
    "           },\n",
    "           layout_kwargs={\n",
    "               'height': 2000,\n",
    "               'legend_orientation': 'h'\n",
    "           })"
   ]
  },
  {
   "cell_type": "markdown",
   "metadata": {},
   "source": [
    "# Phase 4 - Data Preparation\n",
    "- Feature selection"
   ]
  },
  {
   "cell_type": "code",
   "execution_count": null,
   "metadata": {},
   "outputs": [],
   "source": [
    "# Remove features with low r2 or high p-value\n",
    "data_df = DFRegressionThreshold('SalePrice').fit_transform(data_df)\n",
    "\n",
    "data_df.shape"
   ]
  },
  {
   "cell_type": "code",
   "execution_count": null,
   "metadata": {},
   "outputs": [],
   "source": [
    "vp.faststat(data_df)"
   ]
  },
  {
   "cell_type": "markdown",
   "metadata": {},
   "source": [
    "###### Scatter"
   ]
  },
  {
   "cell_type": "code",
   "execution_count": null,
   "metadata": {},
   "outputs": [],
   "source": [
    "vp.scatter(data_df,\n",
    "           xy_tuples=[(x, 'SalePrice') for x in data_df.columns if x != 'SalePrice'],\n",
    "           max_col=4,\n",
    "           title='Phase 4 - Scatter',\n",
    "           out_path=OUT_PATH_GRAPH,\n",
    "           scatter_kwargs={\n",
    "               'trendline': 'ols',\n",
    "               'trendline_color_override': 'red'\n",
    "           },\n",
    "           layout_kwargs={\n",
    "               'height': 1000,\n",
    "               'legend_orientation': 'h'\n",
    "           })"
   ]
  },
  {
   "cell_type": "markdown",
   "metadata": {},
   "source": [
    "###### Correlation Matrix"
   ]
  },
  {
   "cell_type": "code",
   "execution_count": null,
   "metadata": {},
   "outputs": [],
   "source": [
    "vp.corrmat(data_df,\n",
    "           absolute=True,\n",
    "           matrix_type='upper',\n",
    "           title='Phase 4 - Correlation Matrix',\n",
    "           out_path=OUT_PATH_GRAPH,\n",
    "           heatmap_kwargs={\n",
    "               'reversescale': True\n",
    "           })"
   ]
  },
  {
   "cell_type": "code",
   "execution_count": null,
   "metadata": {},
   "outputs": [],
   "source": [
    "# Remove high correlated features\n",
    "data_df.drop(columns=['TotRmsAbvGrd', '1stFlrSF', 'GarageArea', 'GarageYrBlt'], inplace=True)\n",
    "\n",
    "data_df.shape"
   ]
  },
  {
   "cell_type": "code",
   "execution_count": null,
   "metadata": {},
   "outputs": [],
   "source": [
    "vp.faststat(data_df)"
   ]
  },
  {
   "cell_type": "markdown",
   "metadata": {},
   "source": [
    "###### Correlation Matrix"
   ]
  },
  {
   "cell_type": "code",
   "execution_count": null,
   "metadata": {},
   "outputs": [],
   "source": [
    "vp.corrmat(data_df,\n",
    "           absolute=True,\n",
    "           matrix_type='upper',\n",
    "           title='Phase 4 - Correlation Matrix - Low Correlated',\n",
    "           out_path=OUT_PATH_GRAPH,\n",
    "           heatmap_kwargs={\n",
    "               'reversescale': True\n",
    "           })"
   ]
  },
  {
   "cell_type": "markdown",
   "metadata": {},
   "source": [
    "# Phase 5 - Data Preparation\n",
    "- Remove duplicated data"
   ]
  },
  {
   "cell_type": "code",
   "execution_count": null,
   "metadata": {},
   "outputs": [],
   "source": [
    "duplicate_removal = DFDuplicateRemoval(keep='mean', target='SalePrice')\n",
    "duplicate_removal.fit(data_df)"
   ]
  },
  {
   "cell_type": "code",
   "execution_count": null,
   "metadata": {},
   "outputs": [],
   "source": [
    "# Observe duplicated data\n",
    "duplicate_df = duplicate_removal.duplicate_df\n",
    "\n",
    "duplicate_df"
   ]
  },
  {
   "cell_type": "code",
   "execution_count": null,
   "metadata": {},
   "outputs": [],
   "source": [
    "# Observe target's mean of duplicated data\n",
    "duplicate_df.groupby([x for x in duplicate_df.columns if x != 'SalePrice']).agg(\n",
    "    SalePrice=('SalePrice', 'mean')\n",
    ").reset_index()"
   ]
  },
  {
   "cell_type": "code",
   "execution_count": null,
   "metadata": {},
   "outputs": [],
   "source": [
    "# Remove duplicated data & take target's mean\n",
    "data_df = duplicate_removal.transform(data_df)\n",
    "\n",
    "data_df.shape"
   ]
  },
  {
   "cell_type": "code",
   "execution_count": null,
   "metadata": {},
   "outputs": [],
   "source": [
    "vp.faststat(data_df)"
   ]
  },
  {
   "cell_type": "markdown",
   "metadata": {},
   "source": [
    "###### Scatter"
   ]
  },
  {
   "cell_type": "code",
   "execution_count": null,
   "metadata": {},
   "outputs": [],
   "source": [
    "vp.scatter(data_df,\n",
    "           xy_tuples=[(x, 'SalePrice') for x in data_df.columns if x != 'SalePrice'],\n",
    "           max_col=4,\n",
    "           title='Phase 5 - Scatter',\n",
    "           out_path=OUT_PATH_GRAPH,\n",
    "           scatter_kwargs={\n",
    "               'trendline': 'ols',\n",
    "               'trendline_color_override': 'red'\n",
    "           },\n",
    "           layout_kwargs={\n",
    "               'height': 1000,\n",
    "               'legend_orientation': 'h'\n",
    "           })"
   ]
  },
  {
   "cell_type": "markdown",
   "metadata": {},
   "source": [
    "###### Correlation Matrix"
   ]
  },
  {
   "cell_type": "code",
   "execution_count": null,
   "metadata": {},
   "outputs": [],
   "source": [
    "vp.corrmat(data_df,\n",
    "           absolute=True,\n",
    "           matrix_type='upper',\n",
    "           title='Phase 5 - Correlation Matrix',\n",
    "           out_path=OUT_PATH_GRAPH,\n",
    "           heatmap_kwargs={\n",
    "               'reversescale': True\n",
    "           })"
   ]
  },
  {
   "cell_type": "markdown",
   "metadata": {},
   "source": [
    "# Phase 6 - Data Preparation\n",
    "- Handle skewness"
   ]
  },
  {
   "cell_type": "markdown",
   "metadata": {},
   "source": [
    "###### Histogram"
   ]
  },
  {
   "cell_type": "code",
   "execution_count": null,
   "metadata": {},
   "outputs": [],
   "source": [
    "vp.histogram(data_df,\n",
    "             bin_algo='count',\n",
    "             max_col=4,\n",
    "             title='Phase 6 - Histogram',\n",
    "             out_path=OUT_PATH_GRAPH,\n",
    "             layout_kwargs={'height': 1000})"
   ]
  },
  {
   "cell_type": "markdown",
   "metadata": {},
   "source": [
    "###### Probability"
   ]
  },
  {
   "cell_type": "code",
   "execution_count": null,
   "metadata": {},
   "outputs": [],
   "source": [
    "vp.prob(data_df,\n",
    "        max_col=4,\n",
    "        title='Phase 6 - Probability',\n",
    "        out_path=OUT_PATH_GRAPH,\n",
    "        layout_kwargs={'height': 1000})"
   ]
  },
  {
   "cell_type": "code",
   "execution_count": null,
   "metadata": {},
   "outputs": [],
   "source": [
    "# Observe skewness & kurtosis\n",
    "boxcox_columns = ['GrLivArea', 'TotalBsmtSF', 'YearBuilt', 'YearRemodAdd', 'MasVnrArea', 'SalePrice']\n",
    "DFBoxCoxTransformer(columns=boxcox_columns).fit(data_df).stat_df"
   ]
  },
  {
   "cell_type": "code",
   "execution_count": null,
   "metadata": {},
   "outputs": [],
   "source": [
    "# Exclude approximately normal distributed features\n",
    "boxcox_columns = [x for x in boxcox_columns if x not in ['TotalBsmtSF', 'YearBuilt', 'YearRemodAdd']]\n",
    "boxcox_columns"
   ]
  },
  {
   "cell_type": "code",
   "execution_count": null,
   "metadata": {},
   "outputs": [],
   "source": [
    "# Features with negative or zero value\n",
    "negative_columns = [x for x in boxcox_columns if data_df[x].min() <= 0]\n",
    "negative_columns"
   ]
  },
  {
   "cell_type": "code",
   "execution_count": null,
   "metadata": {},
   "outputs": [],
   "source": [
    "# Handle skewness\n",
    "positive_transformer = DFPositiveTransformer(columns=negative_columns)\n",
    "boxcox_transformer   = DFBoxCoxTransformer(columns=boxcox_columns)\n",
    "\n",
    "steps = [\n",
    "    ('positive_transformer', positive_transformer),\n",
    "    ('boxcox_transformer', boxcox_transformer),\n",
    "]\n",
    "data_df = Pipeline(steps).fit_transform(data_df)"
   ]
  },
  {
   "cell_type": "code",
   "execution_count": null,
   "metadata": {},
   "outputs": [],
   "source": [
    "vp.faststat(data_df)"
   ]
  },
  {
   "cell_type": "code",
   "execution_count": null,
   "metadata": {},
   "outputs": [],
   "source": [
    "boxcox_transformer.stat_df"
   ]
  },
  {
   "cell_type": "markdown",
   "metadata": {},
   "source": [
    "###### Histogram"
   ]
  },
  {
   "cell_type": "code",
   "execution_count": null,
   "metadata": {},
   "outputs": [],
   "source": [
    "vp.histogram(data_df,\n",
    "             bin_algo='count',\n",
    "             max_col=4,\n",
    "             title='Phase 6 - Histogram - Box Cox',\n",
    "             out_path=OUT_PATH_GRAPH,\n",
    "             layout_kwargs={'height': 1000})"
   ]
  },
  {
   "cell_type": "markdown",
   "metadata": {},
   "source": [
    "###### Probability"
   ]
  },
  {
   "cell_type": "code",
   "execution_count": null,
   "metadata": {},
   "outputs": [],
   "source": [
    "vp.prob(data_df,\n",
    "        max_col=4,\n",
    "        title='Phase 6 - Probability - Box Cox',\n",
    "        out_path=OUT_PATH_GRAPH,\n",
    "        layout_kwargs={'height': 1000})"
   ]
  },
  {
   "cell_type": "markdown",
   "metadata": {},
   "source": [
    "# Phase 7 - Regression\n",
    "- Separate features & target\n",
    "- Feature scaling\n",
    "- Regression"
   ]
  },
  {
   "cell_type": "code",
   "execution_count": null,
   "metadata": {},
   "outputs": [],
   "source": [
    "# Separate features & target\n",
    "X_train = data_df[[x for x in data_df.columns if x != 'SalePrice']]\n",
    "y_train = data_df['SalePrice']\n",
    "\n",
    "X_train.shape, y_train.shape"
   ]
  },
  {
   "cell_type": "code",
   "execution_count": null,
   "metadata": {},
   "outputs": [],
   "source": [
    "# Feature scaling\n",
    "standard_scaler = DFStandardScaler()\n",
    "minmax_scaler   = DFMinMaxScaler()\n",
    "\n",
    "steps = [\n",
    "    ('standard_scaler', standard_scaler),\n",
    "    ('minmax_scaler', minmax_scaler),\n",
    "]\n",
    "X_train = Pipeline(steps).fit_transform(X_train)"
   ]
  },
  {
   "cell_type": "code",
   "execution_count": null,
   "metadata": {},
   "outputs": [],
   "source": [
    "def eval_regress(X, y, model):\n",
    "    y_pred = model.predict(X)\n",
    "    y_true = y\n",
    "    \n",
    "    # Reference: https://medium.com/acing-ai/how-to-evaluate-regression-models-d183b4f5853d\n",
    "    mae = mean_absolute_error(y_true, y_pred)\n",
    "    mse = mean_squared_error(y_true, y_pred)\n",
    "    r2  = r2_score(y_true, y_pred)\n",
    "    \n",
    "    print(f'MAE: {mae :.5f}')\n",
    "    print(f'MSE: {mse :.5f}')\n",
    "    print(f'R2 : {r2 :.5f}')\n",
    "    \n",
    "    return pd.DataFrame({\n",
    "        'y_true': y_true,\n",
    "        'y_pred': y_pred\n",
    "    })"
   ]
  },
  {
   "cell_type": "code",
   "execution_count": null,
   "metadata": {},
   "outputs": [],
   "source": [
    "# Regression\n",
    "model = RandomForestRegressor(n_estimators=500, random_state=0)\n",
    "model.fit(X_train, y_train)"
   ]
  },
  {
   "cell_type": "markdown",
   "metadata": {},
   "source": [
    "###### Scatter"
   ]
  },
  {
   "cell_type": "code",
   "execution_count": null,
   "metadata": {},
   "outputs": [],
   "source": [
    "vp.scatter(eval_regress(X_train, y_train, model),\n",
    "           xy_tuples=[('y_true', 'y_pred')],\n",
    "           max_col=1,\n",
    "           title='Phase 7 - Scatter - Train',\n",
    "           out_path=OUT_PATH_GRAPH,\n",
    "           scatter_kwargs={\n",
    "               'trendline': 'ols',\n",
    "               'trendline_color_override': 'red'\n",
    "           })"
   ]
  },
  {
   "cell_type": "markdown",
   "metadata": {},
   "source": [
    "# Phase 8 - Regression (Test)"
   ]
  },
  {
   "cell_type": "code",
   "execution_count": null,
   "metadata": {},
   "outputs": [],
   "source": [
    "def load_testset():\n",
    "    df_chunks  = pd.read_csv(f'{SOURCE_PATH_DATA}test.csv', sep=',', chunksize=50_000)\n",
    "    feature_df = pd.concat(df_chunks)\n",
    "    \n",
    "    df_chunks = pd.read_csv(f'{SOURCE_PATH_DATA}sample_submission.csv', sep=',', chunksize=50_000)\n",
    "    target_df = pd.concat(df_chunks)\n",
    "    \n",
    "    return feature_df.merge(target_df, on='Id', how='left')"
   ]
  },
  {
   "cell_type": "code",
   "execution_count": null,
   "metadata": {},
   "outputs": [],
   "source": [
    "test_df = load_testset()\n",
    "\n",
    "test_df.shape"
   ]
  },
  {
   "cell_type": "code",
   "execution_count": null,
   "metadata": {
    "scrolled": true
   },
   "outputs": [],
   "source": [
    "vp.faststat(test_df)"
   ]
  },
  {
   "cell_type": "code",
   "execution_count": null,
   "metadata": {},
   "outputs": [],
   "source": [
    "# Data imputation (based on train dataset)\n",
    "steps = [\n",
    "    ('mean_imputer', mean_imputer),\n",
    "    ('mode_imputer', mode_imputer),\n",
    "]\n",
    "test_df = Pipeline(steps).transform(test_df)"
   ]
  },
  {
   "cell_type": "code",
   "execution_count": null,
   "metadata": {
    "scrolled": true
   },
   "outputs": [],
   "source": [
    "vp.faststat(test_df)"
   ]
  },
  {
   "cell_type": "code",
   "execution_count": null,
   "metadata": {},
   "outputs": [],
   "source": [
    "# Data imputation (not imputed on train dataset)\n",
    "columns = [x for x in test_df.select_dtypes('number').columns if any(test_df[x].isna())]\n",
    "for column in columns:\n",
    "    test_df[column].fillna(mean_dict[column], inplace=True)\n",
    "\n",
    "columns = [x for x in test_df.select_dtypes('object').columns if any(test_df[x].isna())]\n",
    "for column in columns:\n",
    "    test_df[column].fillna(mode_dict[column], inplace=True)"
   ]
  },
  {
   "cell_type": "code",
   "execution_count": null,
   "metadata": {
    "scrolled": true
   },
   "outputs": [],
   "source": [
    "vp.faststat(test_df)"
   ]
  },
  {
   "cell_type": "code",
   "execution_count": null,
   "metadata": {},
   "outputs": [],
   "source": [
    "# Pre-process pipeline\n",
    "steps = [\n",
    "    ('ordinal_encoder', ordinal_encoder),\n",
    "    ('positive_transformer', positive_transformer),\n",
    "    ('boxcox_transformer', boxcox_transformer),\n",
    "]\n",
    "test_df = Pipeline(steps).transform(test_df)"
   ]
  },
  {
   "cell_type": "code",
   "execution_count": null,
   "metadata": {
    "scrolled": true
   },
   "outputs": [],
   "source": [
    "vp.faststat(test_df)"
   ]
  },
  {
   "cell_type": "code",
   "execution_count": null,
   "metadata": {},
   "outputs": [],
   "source": [
    "# Feature selection\n",
    "test_df = test_df[data_df.columns].copy()\n",
    "\n",
    "test_df.shape"
   ]
  },
  {
   "cell_type": "code",
   "execution_count": null,
   "metadata": {},
   "outputs": [],
   "source": [
    "vp.faststat(test_df)"
   ]
  },
  {
   "cell_type": "code",
   "execution_count": null,
   "metadata": {},
   "outputs": [],
   "source": [
    "# Separate features & target\n",
    "X_test = test_df[[x for x in test_df.columns if x != 'SalePrice']]\n",
    "y_test = test_df['SalePrice']\n",
    "\n",
    "X_test.shape, y_test.shape"
   ]
  },
  {
   "cell_type": "code",
   "execution_count": null,
   "metadata": {},
   "outputs": [],
   "source": [
    "# Feature scaling\n",
    "steps = [\n",
    "    ('standard_scaler', standard_scaler),\n",
    "    ('minmax_scaler', minmax_scaler),\n",
    "]\n",
    "X_test = Pipeline(steps).transform(X_test)"
   ]
  },
  {
   "cell_type": "markdown",
   "metadata": {},
   "source": [
    "###### Scatter"
   ]
  },
  {
   "cell_type": "code",
   "execution_count": null,
   "metadata": {},
   "outputs": [],
   "source": [
    "vp.scatter(eval_regress(X_test, y_test, model),\n",
    "           xy_tuples=[('y_true', 'y_pred')],\n",
    "           max_col=1,\n",
    "           title='Phase 8 - Scatter - Test',\n",
    "           out_path=OUT_PATH_GRAPH,\n",
    "           scatter_kwargs={\n",
    "               'trendline': 'ols',\n",
    "               'trendline_color_override': 'red'\n",
    "           })"
   ]
  },
  {
   "cell_type": "code",
   "execution_count": null,
   "metadata": {},
   "outputs": [],
   "source": []
  }
 ],
 "metadata": {
  "kernelspec": {
   "display_name": "Python 3",
   "language": "python",
   "name": "python3"
  },
  "language_info": {
   "codemirror_mode": {
    "name": "ipython",
    "version": 3
   },
   "file_extension": ".py",
   "mimetype": "text/x-python",
   "name": "python",
   "nbconvert_exporter": "python",
   "pygments_lexer": "ipython3",
   "version": "3.7.4"
  }
 },
 "nbformat": 4,
 "nbformat_minor": 2
}
