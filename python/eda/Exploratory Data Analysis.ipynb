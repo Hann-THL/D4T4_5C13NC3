{
 "cells": [
  {
   "cell_type": "code",
   "execution_count": null,
   "metadata": {},
   "outputs": [],
   "source": [
    "from sklearn import datasets\n",
    "\n",
    "import pandas as pd\n",
    "import numpy as np\n",
    "import os\n",
    "\n",
    "# Plotly\n",
    "from plotly.offline import init_notebook_mode, iplot, plot\n",
    "from plotly.subplots import make_subplots\n",
    "import plotly.graph_objects as go\n",
    "import plotly.figure_factory as ff\n",
    "import colorlover as cl\n",
    "init_notebook_mode(connected=True)"
   ]
  },
  {
   "cell_type": "markdown",
   "metadata": {},
   "source": [
    "# Data Loading"
   ]
  },
  {
   "cell_type": "code",
   "execution_count": null,
   "metadata": {},
   "outputs": [],
   "source": [
    "def load_data():\n",
    "    dataset = datasets.load_iris()\n",
    "    df = pd.DataFrame(dataset['data'], columns=dataset['feature_names'])\n",
    "    df['target'] = dataset['target']\n",
    "    df['target name'] = df['target'].map({i: x for i,x in enumerate(dataset['target_names'])})\n",
    "    \n",
    "    return df"
   ]
  },
  {
   "cell_type": "code",
   "execution_count": null,
   "metadata": {},
   "outputs": [],
   "source": [
    "df = load_data()"
   ]
  },
  {
   "cell_type": "markdown",
   "metadata": {},
   "source": [
    "# EDA"
   ]
  },
  {
   "cell_type": "code",
   "execution_count": null,
   "metadata": {},
   "outputs": [],
   "source": [
    "OUT_PATH_GRAPH = 'resources/output/graph/'"
   ]
  },
  {
   "cell_type": "code",
   "execution_count": null,
   "metadata": {},
   "outputs": [],
   "source": [
    "def create_directory(out_path):\n",
    "    if not os.path.exists(out_path):\n",
    "        os.makedirs(out_path)\n",
    "\n",
    "def plot_graph(data, title, x_label=None, y_label=None, generate_file=True, hovermode=None,\n",
    "               gridcolor='rgb(159, 197, 232)', plot_bgcolor='rgba(0, 0, 0, 0)', histogram=False):\n",
    "    layout = go.Layout(\n",
    "        title = title,\n",
    "        xaxis = dict(\n",
    "            title=x_label,\n",
    "            gridcolor=gridcolor\n",
    "        ),\n",
    "        yaxis = dict(\n",
    "            title=y_label,\n",
    "            gridcolor=gridcolor\n",
    "        ),\n",
    "        hovermode=hovermode,\n",
    "        showlegend=True,\n",
    "        legend_orientation='h',\n",
    "        plot_bgcolor=plot_bgcolor\n",
    "    )\n",
    "\n",
    "    fig = go.Figure(data=data, layout=layout)\n",
    "    if histogram:\n",
    "        fig.update_layout(barmode='overlay')\n",
    "    \n",
    "    if generate_file:\n",
    "        generate_plot(fig, f'{OUT_PATH_GRAPH}', f'{title}.html')\n",
    "    else:\n",
    "        generate_plot(fig)\n",
    "\n",
    "def generate_plot(fig, out_path=None, out_filename=None, axis_count=None,\n",
    "                  gridcolor='rgb(159, 197, 232)', plot_bgcolor='rgba(0, 0, 0, 0)'):\n",
    "    if axis_count is not None:\n",
    "        update_axis(fig, axis_count, gridcolor)\n",
    "        fig.update_layout(plot_bgcolor=plot_bgcolor)\n",
    "    \n",
    "    if out_path is None:\n",
    "        iplot(fig)\n",
    "    else:\n",
    "        create_directory(out_path)\n",
    "        out_file = f'{out_path}{out_filename}'\n",
    "        plot(fig, filename=out_file, auto_open=False)\n",
    "        \n",
    "        print(f'Generated: {out_file}')\n",
    "\n",
    "def update_axis(fig, axis_count, gridcolor='rgb(159, 197, 232)', axis_labels=None):\n",
    "    for x in range(axis_count):\n",
    "        suffix = x+1 if x != 0 else ''\n",
    "        fig['layout'][f'xaxis{suffix}']['gridcolor'] = gridcolor\n",
    "        fig['layout'][f'yaxis{suffix}']['gridcolor'] = gridcolor\n",
    "        \n",
    "        if axis_labels is not None:\n",
    "            fig['layout'][f'xaxis{suffix}']['title'] = axis_labels[x][0]\n",
    "            fig['layout'][f'yaxis{suffix}']['title'] = axis_labels[x][1]\n",
    "\n",
    "def plot_subplots(data, max_col, out_filename, subplot_titles=None, layout_height=None):\n",
    "    max_row = int(np.ceil(len(data) / max_col))\n",
    "    \n",
    "    fig = make_subplots(rows=max_row, cols=max_col, subplot_titles=subplot_titles)\n",
    "    for index, d in enumerate(data):\n",
    "        col = index +1\n",
    "\n",
    "        if col <= max_col:\n",
    "            row = 1\n",
    "        else:\n",
    "            quotient = int(col / max_col)\n",
    "            col -= (max_col * quotient)\n",
    "            if col == 0:\n",
    "                col = max_col\n",
    "            elif col == 1:\n",
    "                row += 1\n",
    "\n",
    "        fig.add_trace(d, row=row, col=col)\n",
    "\n",
    "    fig.update_layout(showlegend=False, height=layout_height)\n",
    "    generate_plot(fig, out_path=OUT_PATH_GRAPH, out_filename=out_filename, axis_count=len(data))\n",
    "    \n",
    "def nested_subplots(groups_data, max_col, out_filename, subplot_titles=None, layout_height=None, axis_labels=None):\n",
    "    max_row = int(np.ceil(len(groups_data) / max_col))\n",
    "    \n",
    "    fig = make_subplots(rows=max_row, cols=max_col, subplot_titles=subplot_titles)\n",
    "    for index, group in enumerate(groups_data):\n",
    "        col = index +1\n",
    "\n",
    "        if col <= max_col:\n",
    "            row = 1\n",
    "        else:\n",
    "            quotient = int(col / max_col)\n",
    "            col -= (max_col * quotient)\n",
    "            if col == 0:\n",
    "                col = max_col\n",
    "            elif col == 1:\n",
    "                row += 1\n",
    "\n",
    "        for data in group:\n",
    "            fig.add_trace(data, row=row, col=col)\n",
    "\n",
    "    fig.update_layout(height=layout_height, barmode='overlay', plot_bgcolor='rgba(0, 0, 0, 0)')\n",
    "    update_axis(fig, len(groups_data), axis_labels=axis_labels)\n",
    "    \n",
    "    generate_plot(fig, out_path=OUT_PATH_GRAPH, out_filename=out_filename, axis_count=len(groups_data))"
   ]
  },
  {
   "cell_type": "markdown",
   "metadata": {},
   "source": [
    "### Number of Data & Features"
   ]
  },
  {
   "cell_type": "code",
   "execution_count": null,
   "metadata": {},
   "outputs": [],
   "source": [
    "df.shape"
   ]
  },
  {
   "cell_type": "markdown",
   "metadata": {},
   "source": [
    "### N/A Values"
   ]
  },
  {
   "cell_type": "code",
   "execution_count": null,
   "metadata": {},
   "outputs": [],
   "source": [
    "na_df = pd.DataFrame({\n",
    "    'na_percent': df.isna().sum() / len(df),\n",
    "    'na_count': df.isna().sum()\n",
    "})\n",
    "\n",
    "data = []\n",
    "data.append(go.Bar(\n",
    "    x=na_df.index,\n",
    "    y=na_df['na_percent']\n",
    "))\n",
    "data.append(go.Bar(\n",
    "    x=na_df.index,\n",
    "    y=na_df['na_count']\n",
    "))\n",
    "\n",
    "max_col = 2\n",
    "out_filename = 'EDA - NULL.html'\n",
    "subplot_titles = ['N/A Percent', 'N/A Count']\n",
    "\n",
    "plot_subplots(data, max_col, out_filename, subplot_titles=subplot_titles)"
   ]
  },
  {
   "cell_type": "markdown",
   "metadata": {},
   "source": [
    "## Univariate Visualization"
   ]
  },
  {
   "cell_type": "markdown",
   "metadata": {},
   "source": [
    "- Analyze one feature at a time."
   ]
  },
  {
   "cell_type": "markdown",
   "metadata": {},
   "source": [
    "### Histogram"
   ]
  },
  {
   "cell_type": "markdown",
   "metadata": {},
   "source": [
    "- Plot the frequency of a feature."
   ]
  },
  {
   "cell_type": "code",
   "execution_count": null,
   "metadata": {},
   "outputs": [],
   "source": [
    "data = []\n",
    "\n",
    "for column in df.columns:\n",
    "    data.append(go.Histogram(\n",
    "        x=df[column]\n",
    "    ))\n",
    "\n",
    "max_col = 2\n",
    "out_filename = 'EDA - Histogram.html'\n",
    "subplot_titles = [f'{x.title()}' for x in df.columns]\n",
    "\n",
    "plot_subplots(data, max_col, out_filename, subplot_titles=subplot_titles)"
   ]
  },
  {
   "cell_type": "markdown",
   "metadata": {},
   "source": [
    "### Box-Plot"
   ]
  },
  {
   "attachments": {
    "image.png": {
     "image/png": "[encoded data removed]"
    }
   },
   "cell_type": "markdown",
   "metadata": {},
   "source": [
    "- __Mean__\n",
    "  - The average value in dataset.\n",
    "  - Will be corrupted by outliers easily.\n",
    "- __Standard Deviation__\n",
    "  - The average square distance of each data from the mean.\n",
    "  - Will be corrupted by outliers easily.\n",
    "- __Median (Q2 / 50th Percentile)__\n",
    "  - The middle value or average if middle value of sorted dataset.\n",
    "  - Will not get corrupted by outliers easily, unless outliers is more than 50%.\n",
    "- __1st Quartile (Q1 / 25th Percentile)__\n",
    "  - The middle value between the smallest value (not the \"minimum\" whisker) and the median.\n",
    "- __3rd Quartile (Q3 / 75th Percentile)__\n",
    "  - The middle value between the median and the highest value (not the \"maximum\" whisker).\n",
    "- __Inter Quartile Range (IQR)__\n",
    "  - Difference between 75th & 25th percentile.\n",
    "- __Minimum Whisker__\n",
    "  - Q1 - 1.5 * IQR\n",
    "- __Maximum Whisker__\n",
    "  - Q3 + 1.5 * IQR\n",
    "- Reference:\n",
    "  - https://towardsdatascience.com/understanding-boxplots-5e2df7bcbd51z\n",
    "  - https://www.appliedaicourse.com/lecture/11/applied-machine-learning-online-course/2824/box-plot-with-whiskers/2/module-2-data-science-exploratory-data-analysis-and-data-visualization\n",
    "  - https://www.appliedaicourse.com/lecture/11/applied-machine-learning-online-course/2822/percentiles-and-quantiles/2/module-2-data-science-exploratory-data-analysis-and-data-visualization\n",
    "  - https://www.appliedaicourse.com/lecture/11/applied-machine-learning-online-course/2820/mean-variance-and-standard-deviation/2/module-2-data-science-exploratory-data-analysis-and-data-visualization\n",
    "\n",
    "![image.png](attachment:image.png)"
   ]
  },
  {
   "cell_type": "code",
   "execution_count": null,
   "metadata": {},
   "outputs": [],
   "source": [
    "data = []\n",
    "\n",
    "for column in df.columns:\n",
    "    data.append(go.Box(\n",
    "        y=df[column],\n",
    "        boxpoints='all', # all, outliers, suspectedoutliers\n",
    "        boxmean=True\n",
    "    ))\n",
    "\n",
    "max_col = 2\n",
    "out_filename = 'EDA - Box-Plot.html'\n",
    "subplot_titles = [f'{x.title()}' for x in df.columns]\n",
    "\n",
    "plot_subplots(data, max_col, out_filename, subplot_titles=subplot_titles)"
   ]
  },
  {
   "cell_type": "markdown",
   "metadata": {},
   "source": [
    "### Violin-Plot"
   ]
  },
  {
   "cell_type": "markdown",
   "metadata": {},
   "source": [
    "- Combination of Box-Plot & PDF\n",
    "- Probability Density Function (PDF)\n",
    "  - Used to specify the probability of the variable falling within a particular range of values, as opposed to taking on any one value.\n",
    "  - It is given by the area under the density function but above the horizontal axis and between the lowest & greatest values of the range."
   ]
  },
  {
   "cell_type": "code",
   "execution_count": null,
   "metadata": {},
   "outputs": [],
   "source": [
    "data = []\n",
    "\n",
    "for column in df.columns:\n",
    "    data.append(go.Violin(\n",
    "        y=df[column],\n",
    "        box_visible=True,\n",
    "        meanline_visible=True,\n",
    "        points='all' # all, outliers, suspectedoutliers\n",
    "    ))\n",
    "\n",
    "max_col = 2\n",
    "out_filename = 'EDA - Violin-Plot.html'\n",
    "subplot_titles = [f'{x.title()}' for x in df.columns]\n",
    "\n",
    "plot_subplots(data, max_col, out_filename, subplot_titles=subplot_titles)"
   ]
  },
  {
   "cell_type": "markdown",
   "metadata": {},
   "source": [
    "## Bivariate Visualization"
   ]
  },
  {
   "cell_type": "markdown",
   "metadata": {},
   "source": [
    "- Analyze 2 features at a time"
   ]
  },
  {
   "cell_type": "markdown",
   "metadata": {},
   "source": [
    "### Pair-Plot"
   ]
  },
  {
   "cell_type": "markdown",
   "metadata": {},
   "source": [
    "- Create nC2 plots where n is the number of features.\n",
    "- nC2 Calculator: https://www.calculatorsoup.com/calculators/discretemathematics/combinations.php\n",
    "- If there's many features, it is not practical to analyze all the pairs, therefore it is required to use PCA / t-SNE to perform dimensionality reduction, and then analyze the pair-plots.\n",
    "- Reference: https://www.appliedaicourse.com/lecture/11/applied-machine-learning-online-course/2815/pair-plots/2/module-2-data-science-exploratory-data-analysis-and-data-visualization"
   ]
  },
  {
   "cell_type": "code",
   "execution_count": null,
   "metadata": {},
   "outputs": [],
   "source": [
    "target_fields = ['target', 'target name']\n",
    "target_column = 'target name'\n",
    "columns = [x for x in df.columns if x not in target_fields]\n",
    "\n",
    "data = []\n",
    "dimensions = []\n",
    "\n",
    "for column in [x for x in columns]:\n",
    "    dimensions.append({\n",
    "        'label': column,\n",
    "        'values': df[column]\n",
    "    })\n",
    "\n",
    "data.append(go.Splom(\n",
    "    dimensions=dimensions,\n",
    "    showupperhalf=False,\n",
    "    text=df[target_column],\n",
    "    marker=dict(\n",
    "        color=df[target_column].astype('category').cat.codes,\n",
    "        opacity=.5\n",
    "    )\n",
    "))\n",
    "\n",
    "title = 'EDA - Pair-Plot'\n",
    "plot_graph(data, title, gridcolor=None, plot_bgcolor=None)"
   ]
  },
  {
   "cell_type": "markdown",
   "metadata": {},
   "source": [
    "### Pair-Plot - Custom"
   ]
  },
  {
   "cell_type": "code",
   "execution_count": null,
   "metadata": {},
   "outputs": [],
   "source": [
    "target_fields = ['target', 'target name']\n",
    "target_column = 'target name'\n",
    "columns = [x for x in df.columns if x not in target_fields]\n",
    "\n",
    "data = []\n",
    "axis_labels = []\n",
    "colors = cl.scales['9']['qual']['Set1']\n",
    "\n",
    "for y_index, y_column in enumerate(columns):\n",
    "    for x_index, x_column in enumerate(columns):\n",
    "        axis_labels.append((x_column, y_column))\n",
    "        \n",
    "        pair_data = []\n",
    "        targets = []\n",
    "        targets_x = []\n",
    "        targets_y = []\n",
    "\n",
    "        for target in df[target_column].unique():\n",
    "            tmp_df = df[df[target_column] == target]\n",
    "\n",
    "            targets.append(target)\n",
    "            targets_x.append(tmp_df[x_column].values)\n",
    "            targets_y.append(tmp_df[y_column].values)\n",
    "        \n",
    "        for index, target in enumerate(targets):\n",
    "            pair_data.append(go.Scattergl(\n",
    "                x = targets_x[index],\n",
    "                y = targets_y[index],\n",
    "                mode = 'markers',\n",
    "                opacity = .5,\n",
    "                name=target,\n",
    "                legendgroup=target,\n",
    "                marker=dict(\n",
    "                    color=[colors[index] for _ in targets_x[index]]\n",
    "                ),\n",
    "                showlegend=y_index == 0 and x_index == 0\n",
    "            ))\n",
    "\n",
    "        data.append(pair_data)\n",
    "\n",
    "max_col = len(columns)\n",
    "out_filename = 'EDA - Pair-Plot - Custom.html'\n",
    "\n",
    "nested_subplots(data, max_col, out_filename, axis_labels=axis_labels)"
   ]
  },
  {
   "cell_type": "markdown",
   "metadata": {},
   "source": [
    "### Bivariate Histogram"
   ]
  },
  {
   "cell_type": "markdown",
   "metadata": {},
   "source": [
    "- use PDF line to determine manually the correct cluster or classification error rate.\n",
    "  - if there's overlapping between features of different target, then use the intersaction point of PDF.\n",
    "- Reference: https://www.appliedaicourse.com/lecture/11/applied-machine-learning-online-course/2819/cdfcumulative-distribution-function/2/module-2-data-science-exploratory-data-analysis-and-data-visualization"
   ]
  },
  {
   "cell_type": "code",
   "execution_count": null,
   "metadata": {},
   "outputs": [],
   "source": [
    "target_fields = ['target', 'target name']\n",
    "target_column = 'target name'\n",
    "columns = [x for x in df.columns if x not in target_fields]\n",
    "\n",
    "fig_data = []\n",
    "\n",
    "for column in columns:\n",
    "    hist_data = []\n",
    "    group_labels = []\n",
    "    \n",
    "    for target in df[target_column].unique():\n",
    "        tmp_df = df[df[target_column] == target]\n",
    "\n",
    "        hist_data.append(tmp_df[column])\n",
    "        group_labels.append(target)\n",
    "\n",
    "    fig = ff.create_distplot(hist_data, group_labels, show_rug=False, bin_size=.1)\n",
    "    fig_data.append(fig['data'])\n",
    "    \n",
    "max_col = 2\n",
    "out_filename = 'EDA - Bivariate Histogram.html'\n",
    "subplot_titles = [f'{x.title()}' for x in columns]\n",
    "\n",
    "nested_subplots(fig_data, max_col, out_filename, subplot_titles)"
   ]
  },
  {
   "cell_type": "markdown",
   "metadata": {},
   "source": [
    "### Bivariate Histogram - Custom"
   ]
  },
  {
   "cell_type": "code",
   "execution_count": null,
   "metadata": {},
   "outputs": [],
   "source": [
    "target_fields = ['target', 'target name']\n",
    "target_column = 'target name'\n",
    "columns = [x for x in df.columns if x not in target_fields]\n",
    "\n",
    "data = []\n",
    "colors = cl.scales['9']['qual']['Set1']\n",
    "\n",
    "for col_index, column in enumerate(columns):\n",
    "    hist_data = []\n",
    "    targets = []\n",
    "    targets_values = []\n",
    "    \n",
    "    for target in df[target_column].unique():\n",
    "        tmp_df = df[df[target_column] == target]\n",
    "\n",
    "        targets.append(target)\n",
    "        targets_values.append(tmp_df[column].values)\n",
    "        \n",
    "    for index, values in enumerate(targets_values):\n",
    "        # Histogram\n",
    "        target = targets[index]\n",
    "        \n",
    "        # Determine bins size, .1 for fractional values and 1 for integer values\n",
    "        size = 1 if len([x for x in values if x % 1 == 0]) == len(values) else .1\n",
    "        \n",
    "        hist_data.append(go.Histogram(\n",
    "            x=values,\n",
    "            opacity=.5,\n",
    "            xbins=dict(\n",
    "                size=size\n",
    "            ),\n",
    "            name=target,\n",
    "            legendgroup=target,\n",
    "            marker=dict(\n",
    "                color=[colors[index] for _ in values]\n",
    "            ),\n",
    "            histnorm='probability density',\n",
    "            showlegend=col_index == 0\n",
    "        ))\n",
    "        \n",
    "    data.append(hist_data)\n",
    "    \n",
    "max_col = 2\n",
    "out_filename = 'EDA - Bivariate Histogram - Custom.html'\n",
    "subplot_titles = [f'{x.title()}' for x in columns]\n",
    "\n",
    "nested_subplots(data, max_col, out_filename, subplot_titles)"
   ]
  },
  {
   "cell_type": "code",
   "execution_count": null,
   "metadata": {},
   "outputs": [],
   "source": []
  }
 ],
 "metadata": {
  "kernelspec": {
   "display_name": "Python 3",
   "language": "python",
   "name": "python3"
  },
  "language_info": {
   "codemirror_mode": {
    "name": "ipython",
    "version": 3
   },
   "file_extension": ".py",
   "mimetype": "text/x-python",
   "name": "python",
   "nbconvert_exporter": "python",
   "pygments_lexer": "ipython3",
   "version": "3.7.3"
  }
 },
 "nbformat": 4,
 "nbformat_minor": 2
}
