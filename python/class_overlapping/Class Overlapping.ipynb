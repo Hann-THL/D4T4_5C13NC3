{
 "cells": [
  {
   "cell_type": "code",
   "execution_count": null,
   "metadata": {},
   "outputs": [],
   "source": [
    "import lib._util.visualplot as vp\n",
    "\n",
    "# Feature scaling\n",
    "from lib._class.DFStandardScaler import DFStandardScaler\n",
    "from lib._class.DFMinMaxScaler import DFMinMaxScaler\n",
    "\n",
    "# Feature extraction\n",
    "from lib._class.DFPCA import DFPCA\n",
    "from lib._class.DFIvis import DFIvis"
   ]
  },
  {
   "cell_type": "code",
   "execution_count": null,
   "metadata": {},
   "outputs": [],
   "source": [
    "import numpy as np\n",
    "import pandas as pd\n",
    "\n",
    "# Imbalanced-Learn\n",
    "from imblearn.pipeline import Pipeline\n",
    "\n",
    "# Scikit-Learn\n",
    "from sklearn.datasets import make_blobs\n",
    "\n",
    "# Plotly\n",
    "import plotly.express as px"
   ]
  },
  {
   "cell_type": "code",
   "execution_count": null,
   "metadata": {},
   "outputs": [],
   "source": [
    "OUT_PATH_GRAPH = 'resources/output/graph/'\n",
    "\n",
    "def custom_blobs(n_samples, n_features=2, weights=[.5, .5], **kwargs):\n",
    "    if weights is not None:\n",
    "        assert np.sum(weights) == 1, 'sum of weights must be 1.'\n",
    "    else:\n",
    "        weights = [1]\n",
    "    \n",
    "    X, y = make_blobs(n_samples=[int(np.round(x * n_samples)) for x in weights],\n",
    "                      n_features=n_features,\n",
    "                      **kwargs)\n",
    "    \n",
    "    data_df = to_frame(X, y)\n",
    "    X = data_df.drop(columns=['target']).copy()\n",
    "    y = data_df['target'].copy()\n",
    "    \n",
    "    return X, y\n",
    "\n",
    "def to_frame(X, y):\n",
    "    data_df = pd.DataFrame(X, columns=[f'feature_{x+1}' for x in range(X.shape[1])])\n",
    "    data_df['target'] = y\n",
    "    \n",
    "    return data_df\n",
    "\n",
    "def class_ratio(y):\n",
    "    return {k: round(v,2) for k,v in sorted(y.value_counts(normalize=True).to_dict().items())}"
   ]
  },
  {
   "cell_type": "code",
   "execution_count": null,
   "metadata": {},
   "outputs": [],
   "source": [
    "data_groups    = []\n",
    "subplot_titles = []\n",
    "\n",
    "# Generate balanced dataset\n",
    "X, y = custom_blobs(n_samples=10_000,\n",
    "                    n_features=10,\n",
    "                    weights=[.99, .01],\n",
    "                    centers=[[0,0],[1,1]],\n",
    "                    random_state=0)\n",
    "\n",
    "X.shape, y.shape"
   ]
  },
  {
   "cell_type": "code",
   "execution_count": null,
   "metadata": {},
   "outputs": [],
   "source": [
    "vp.value_count(y.to_frame(), 'target')"
   ]
  },
  {
   "cell_type": "code",
   "execution_count": null,
   "metadata": {},
   "outputs": [],
   "source": [
    "fig = px.scatter(pd.concat([DFStandardScaler().fit_transform(X), y.astype(str)], axis=1).sort_values(by='target'),\n",
    "                 x='feature_1', y='feature_2', color='target')\n",
    "\n",
    "data_groups.append(fig['data'])\n",
    "subplot_titles.append(f'Original Dataset {class_ratio(y)}')"
   ]
  },
  {
   "cell_type": "markdown",
   "metadata": {},
   "source": [
    "# 1. Feature Extraction\n",
    "- Original dataset"
   ]
  },
  {
   "cell_type": "markdown",
   "metadata": {},
   "source": [
    "### 1.1. PCA"
   ]
  },
  {
   "cell_type": "code",
   "execution_count": null,
   "metadata": {},
   "outputs": [],
   "source": [
    "steps = [\n",
    "    ('standard_scaler', DFStandardScaler()),\n",
    "    ('pca', DFPCA(n_components=2,\n",
    "                  rescale_with_mean=False, rescale_with_std=False)),\n",
    "]\n",
    "new_X = Pipeline(steps, verbose=True).fit_transform(X)\n",
    "\n",
    "new_X.shape"
   ]
  },
  {
   "cell_type": "code",
   "execution_count": null,
   "metadata": {},
   "outputs": [],
   "source": [
    "fig = px.scatter(pd.concat([new_X, y.astype(str)], axis=1).sort_values(by='target'),\n",
    "                 x='pca_0', y='pca_1', color='target')\n",
    "\n",
    "data_groups.append(fig['data'])\n",
    "subplot_titles.append(f'PCA {class_ratio(y)}')"
   ]
  },
  {
   "cell_type": "markdown",
   "metadata": {},
   "source": [
    "### 1.2. Ivis"
   ]
  },
  {
   "cell_type": "code",
   "execution_count": null,
   "metadata": {
    "scrolled": true
   },
   "outputs": [],
   "source": [
    "steps = [\n",
    "    ('standard_scaler', DFStandardScaler()),\n",
    "    ('minmax_scaler', DFMinMaxScaler()),\n",
    "    ('ivis', DFIvis(embedding_dims=2,\n",
    "                    epochs=500, verbose=2,\n",
    "                    supervision_weight=.5, supervision_metric='binary_crossentropy',\n",
    "                    k=15, n_epochs_without_progress=15, model='szubert')),\n",
    "]\n",
    "new_X = Pipeline(steps, verbose=True).fit_transform(X, y)\n",
    "\n",
    "new_X.shape"
   ]
  },
  {
   "cell_type": "code",
   "execution_count": null,
   "metadata": {},
   "outputs": [],
   "source": [
    "fig = px.scatter(pd.concat([new_X, y.astype(str)], axis=1).sort_values(by='target'),\n",
    "                 x='ivis_0', y='ivis_1', color='target')\n",
    "\n",
    "data_groups.append(fig['data'])\n",
    "subplot_titles.append(f'Ivis {class_ratio(y)}')"
   ]
  },
  {
   "cell_type": "markdown",
   "metadata": {},
   "source": [
    "### 1.3. PCA + Ivis"
   ]
  },
  {
   "cell_type": "code",
   "execution_count": null,
   "metadata": {
    "scrolled": true
   },
   "outputs": [],
   "source": [
    "steps = [\n",
    "    ('standard_scaler', DFStandardScaler()),\n",
    "    ('pca', DFPCA(n_components=2,\n",
    "                  rescale_with_mean=False, rescale_with_std=False)),\n",
    "    ('minmax_scaler', DFMinMaxScaler()),\n",
    "    ('ivis', DFIvis(embedding_dims=2,\n",
    "                    epochs=500, verbose=2,\n",
    "                    supervision_weight=.5, supervision_metric='binary_crossentropy',\n",
    "                    k=15, n_epochs_without_progress=15, model='szubert')),\n",
    "]\n",
    "new_X = Pipeline(steps, verbose=True).fit_transform(X, y)\n",
    "\n",
    "new_X.shape"
   ]
  },
  {
   "cell_type": "code",
   "execution_count": null,
   "metadata": {},
   "outputs": [],
   "source": [
    "fig = px.scatter(pd.concat([new_X, y.astype(str)], axis=1).sort_values(by='target'),\n",
    "                 x='ivis_0', y='ivis_1', color='target')\n",
    "\n",
    "data_groups.append(fig['data'])\n",
    "subplot_titles.append(f'PCA + Ivis {class_ratio(y)}')"
   ]
  },
  {
   "cell_type": "code",
   "execution_count": null,
   "metadata": {},
   "outputs": [],
   "source": [
    "# Scatter plot\n",
    "vp.datagroups_subplots(\n",
    "    data_groups,\n",
    "    max_col=3,\n",
    "    title='Original Dataset',\n",
    "    out_path=OUT_PATH_GRAPH,\n",
    "    subplot_kwargs={\n",
    "        'subplot_titles': subplot_titles,\n",
    "        'vertical_spacing': .05\n",
    "    },\n",
    "    layout_kwargs={'height': 1500})"
   ]
  },
  {
   "cell_type": "markdown",
   "metadata": {},
   "source": [
    "# 2. Feature Extraction\n",
    "- Balanced dataset"
   ]
  },
  {
   "cell_type": "code",
   "execution_count": null,
   "metadata": {},
   "outputs": [],
   "source": [
    "data_groups    = []\n",
    "subplot_titles = []\n",
    "\n",
    "fig = px.scatter(pd.concat([DFStandardScaler().fit_transform(X), y.astype(str)], axis=1).sort_values(by='target'),\n",
    "                 x='feature_1', y='feature_2', color='target')\n",
    "\n",
    "data_groups.append(fig['data'])\n",
    "subplot_titles.append(f'Original Dataset {class_ratio(y)}')"
   ]
  },
  {
   "cell_type": "markdown",
   "metadata": {},
   "source": [
    "### 2.1. SMOTE + ENN + Ivis"
   ]
  },
  {
   "cell_type": "code",
   "execution_count": null,
   "metadata": {},
   "outputs": [],
   "source": [
    "from imblearn.combine import SMOTEENN"
   ]
  },
  {
   "cell_type": "code",
   "execution_count": null,
   "metadata": {
    "scrolled": true
   },
   "outputs": [],
   "source": [
    "steps = [\n",
    "    ('standard_scaler', DFStandardScaler()),\n",
    "    ('smote_enn', SMOTEENN(random_state=0, n_jobs=-1)),\n",
    "]\n",
    "new_X, new_y = Pipeline(steps, verbose=True).fit_resample(X, y)\n",
    "print(f'Balanced: {new_X.shape, new_y.shape}')\n",
    "\n",
    "steps = [\n",
    "    ('minmax_scaler', DFMinMaxScaler()),\n",
    "    ('ivis', DFIvis(embedding_dims=2,\n",
    "                    epochs=500, verbose=2,\n",
    "                    supervision_weight=.5, supervision_metric='binary_crossentropy',\n",
    "                    k=15, n_epochs_without_progress=15, model='szubert')),\n",
    "]\n",
    "new_X = Pipeline(steps, verbose=True).fit_transform(new_X, new_y)\n",
    "\n",
    "new_X.shape"
   ]
  },
  {
   "cell_type": "code",
   "execution_count": null,
   "metadata": {},
   "outputs": [],
   "source": [
    "vp.value_count(new_y.to_frame(), 'target')"
   ]
  },
  {
   "cell_type": "code",
   "execution_count": null,
   "metadata": {},
   "outputs": [],
   "source": [
    "fig = px.scatter(pd.concat([new_X, new_y.astype(str)], axis=1).sort_values(by='target'),\n",
    "                 x='ivis_0', y='ivis_1', color='target')\n",
    "\n",
    "data_groups.append(fig['data'])\n",
    "subplot_titles.append(f'SMOTE + ENN + Ivis {class_ratio(new_y)}')"
   ]
  },
  {
   "cell_type": "markdown",
   "metadata": {},
   "source": [
    "### 2.2. SMOTE + Tomek + Ivis"
   ]
  },
  {
   "cell_type": "code",
   "execution_count": null,
   "metadata": {},
   "outputs": [],
   "source": [
    "from imblearn.combine import SMOTETomek"
   ]
  },
  {
   "cell_type": "code",
   "execution_count": null,
   "metadata": {
    "scrolled": true
   },
   "outputs": [],
   "source": [
    "steps = [\n",
    "    ('standard_scaler', DFStandardScaler()),\n",
    "    ('smote_tomek', SMOTETomek(random_state=0, n_jobs=-1)),\n",
    "]\n",
    "new_X, new_y = Pipeline(steps, verbose=True).fit_resample(X, y)\n",
    "print(f'Balanced: {new_X.shape, new_y.shape}')\n",
    "\n",
    "steps = [\n",
    "    ('minmax_scaler', DFMinMaxScaler()),\n",
    "    ('ivis', DFIvis(embedding_dims=2,\n",
    "                    epochs=500, verbose=2,\n",
    "                    supervision_weight=.5, supervision_metric='binary_crossentropy',\n",
    "                    k=15, n_epochs_without_progress=15, model='szubert')),\n",
    "]\n",
    "new_X = Pipeline(steps, verbose=True).fit_transform(new_X, new_y)\n",
    "\n",
    "new_X.shape"
   ]
  },
  {
   "cell_type": "code",
   "execution_count": null,
   "metadata": {},
   "outputs": [],
   "source": [
    "vp.value_count(new_y.to_frame(), 'target')"
   ]
  },
  {
   "cell_type": "code",
   "execution_count": null,
   "metadata": {},
   "outputs": [],
   "source": [
    "fig = px.scatter(pd.concat([new_X, new_y.astype(str)], axis=1).sort_values(by='target'),\n",
    "                 x='ivis_0', y='ivis_1', color='target')\n",
    "\n",
    "data_groups.append(fig['data'])\n",
    "subplot_titles.append(f'SMOTE + Tomek + Ivis {class_ratio(new_y)}')"
   ]
  },
  {
   "cell_type": "markdown",
   "metadata": {},
   "source": [
    "### 2.3. ADASYN + ENN + Ivis"
   ]
  },
  {
   "cell_type": "code",
   "execution_count": null,
   "metadata": {},
   "outputs": [],
   "source": [
    "from imblearn.over_sampling import ADASYN\n",
    "from imblearn.under_sampling import EditedNearestNeighbours"
   ]
  },
  {
   "cell_type": "code",
   "execution_count": null,
   "metadata": {
    "scrolled": true
   },
   "outputs": [],
   "source": [
    "steps = [\n",
    "    ('standard_scaler', DFStandardScaler()),\n",
    "    ('adasyn', ADASYN(random_state=0, n_jobs=-1)),\n",
    "    ('enn', EditedNearestNeighbours(n_jobs=-1, sampling_strategy='all')),\n",
    "]\n",
    "new_X, new_y = Pipeline(steps, verbose=True).fit_resample(X, y)\n",
    "print(f'Balanced: {new_X.shape, new_y.shape}')\n",
    "\n",
    "steps = [\n",
    "    ('minmax_scaler', DFMinMaxScaler()),\n",
    "    ('ivis', DFIvis(embedding_dims=2,\n",
    "                    epochs=500, verbose=2,\n",
    "                    supervision_weight=.5, supervision_metric='binary_crossentropy',\n",
    "                    k=15, n_epochs_without_progress=15, model='szubert')),\n",
    "]\n",
    "new_X = Pipeline(steps, verbose=True).fit_transform(new_X, new_y)\n",
    "\n",
    "new_X.shape"
   ]
  },
  {
   "cell_type": "code",
   "execution_count": null,
   "metadata": {},
   "outputs": [],
   "source": [
    "vp.value_count(new_y.to_frame(), 'target')"
   ]
  },
  {
   "cell_type": "code",
   "execution_count": null,
   "metadata": {},
   "outputs": [],
   "source": [
    "fig = px.scatter(pd.concat([new_X, new_y.astype(str)], axis=1).sort_values(by='target'),\n",
    "                 x='ivis_0', y='ivis_1', color='target')\n",
    "\n",
    "data_groups.append(fig['data'])\n",
    "subplot_titles.append(f'ADASYN + ENN + Ivis {class_ratio(new_y)}')"
   ]
  },
  {
   "cell_type": "markdown",
   "metadata": {},
   "source": [
    "### 2.4. ADASYN + Tomek + Ivis"
   ]
  },
  {
   "cell_type": "code",
   "execution_count": null,
   "metadata": {},
   "outputs": [],
   "source": [
    "from imblearn.over_sampling import ADASYN\n",
    "from imblearn.under_sampling import TomekLinks"
   ]
  },
  {
   "cell_type": "code",
   "execution_count": null,
   "metadata": {
    "scrolled": true
   },
   "outputs": [],
   "source": [
    "steps = [\n",
    "    ('standard_scaler', DFStandardScaler()),\n",
    "    ('adasyn', ADASYN(random_state=0, n_jobs=-1)),\n",
    "    ('tomek', TomekLinks(n_jobs=-1, sampling_strategy='all')),\n",
    "]\n",
    "new_X, new_y = Pipeline(steps, verbose=True).fit_resample(X, y)\n",
    "print(f'Balanced: {new_X.shape, new_y.shape}')\n",
    "\n",
    "steps = [\n",
    "    ('minmax_scaler', DFMinMaxScaler()),\n",
    "    ('ivis', DFIvis(embedding_dims=2,\n",
    "                    epochs=500, verbose=2,\n",
    "                    supervision_weight=.5, supervision_metric='binary_crossentropy',\n",
    "                    k=15, n_epochs_without_progress=15, model='szubert')),\n",
    "]\n",
    "new_X = Pipeline(steps, verbose=True).fit_transform(new_X, new_y)\n",
    "\n",
    "new_X.shape"
   ]
  },
  {
   "cell_type": "code",
   "execution_count": null,
   "metadata": {},
   "outputs": [],
   "source": [
    "vp.value_count(new_y.to_frame(), 'target')"
   ]
  },
  {
   "cell_type": "code",
   "execution_count": null,
   "metadata": {},
   "outputs": [],
   "source": [
    "fig = px.scatter(pd.concat([new_X, new_y.astype(str)], axis=1).sort_values(by='target'),\n",
    "                 x='ivis_0', y='ivis_1', color='target')\n",
    "\n",
    "data_groups.append(fig['data'])\n",
    "subplot_titles.append(f'ADASYN + Tomek + Ivis {class_ratio(new_y)}')"
   ]
  },
  {
   "cell_type": "markdown",
   "metadata": {},
   "source": [
    "### 2.5. Borderline SMOTE + ENN + Ivis"
   ]
  },
  {
   "cell_type": "code",
   "execution_count": null,
   "metadata": {},
   "outputs": [],
   "source": [
    "from imblearn.over_sampling import BorderlineSMOTE\n",
    "from imblearn.under_sampling import EditedNearestNeighbours"
   ]
  },
  {
   "cell_type": "code",
   "execution_count": null,
   "metadata": {
    "scrolled": true
   },
   "outputs": [],
   "source": [
    "steps = [\n",
    "    ('standard_scaler', DFStandardScaler()),\n",
    "    ('borderline_smote', BorderlineSMOTE(random_state=0, n_jobs=-1)),\n",
    "    ('enn', EditedNearestNeighbours(n_jobs=-1, sampling_strategy='all')),\n",
    "]\n",
    "new_X, new_y = Pipeline(steps, verbose=True).fit_resample(X, y)\n",
    "print(f'Balanced: {new_X.shape, new_y.shape}')\n",
    "\n",
    "steps = [\n",
    "    ('minmax_scaler', DFMinMaxScaler()),\n",
    "    ('ivis', DFIvis(embedding_dims=2,\n",
    "                    epochs=500, verbose=2,\n",
    "                    supervision_weight=.5, supervision_metric='binary_crossentropy',\n",
    "                    k=15, n_epochs_without_progress=15, model='szubert')),\n",
    "]\n",
    "new_X = Pipeline(steps, verbose=True).fit_transform(new_X, new_y)\n",
    "\n",
    "new_X.shape"
   ]
  },
  {
   "cell_type": "code",
   "execution_count": null,
   "metadata": {},
   "outputs": [],
   "source": [
    "vp.value_count(new_y.to_frame(), 'target')"
   ]
  },
  {
   "cell_type": "code",
   "execution_count": null,
   "metadata": {},
   "outputs": [],
   "source": [
    "fig = px.scatter(pd.concat([new_X, new_y.astype(str)], axis=1).sort_values(by='target'),\n",
    "                 x='ivis_0', y='ivis_1', color='target')\n",
    "\n",
    "data_groups.append(fig['data'])\n",
    "subplot_titles.append(f'Borderline SMOTE + ENN + Ivis {class_ratio(new_y)}')"
   ]
  },
  {
   "cell_type": "markdown",
   "metadata": {},
   "source": [
    "### 2.6. Borderline SMOTE + Tomek + Ivis"
   ]
  },
  {
   "cell_type": "code",
   "execution_count": null,
   "metadata": {},
   "outputs": [],
   "source": [
    "from imblearn.over_sampling import BorderlineSMOTE\n",
    "from imblearn.under_sampling import TomekLinks"
   ]
  },
  {
   "cell_type": "code",
   "execution_count": null,
   "metadata": {
    "scrolled": true
   },
   "outputs": [],
   "source": [
    "steps = [\n",
    "    ('standard_scaler', DFStandardScaler()),\n",
    "    ('borderline_smote', BorderlineSMOTE(random_state=0, n_jobs=-1)),\n",
    "    ('tomek', TomekLinks(n_jobs=-1, sampling_strategy='all')),\n",
    "]\n",
    "new_X, new_y = Pipeline(steps, verbose=True).fit_resample(X, y)\n",
    "print(f'Balanced: {new_X.shape, new_y.shape}')\n",
    "\n",
    "steps = [\n",
    "    ('minmax_scaler', DFMinMaxScaler()),\n",
    "    ('ivis', DFIvis(embedding_dims=2,\n",
    "                    epochs=500, verbose=2,\n",
    "                    supervision_weight=.5, supervision_metric='binary_crossentropy',\n",
    "                    k=15, n_epochs_without_progress=15, model='szubert')),\n",
    "]\n",
    "new_X = Pipeline(steps, verbose=True).fit_transform(new_X, new_y)\n",
    "\n",
    "new_X.shape"
   ]
  },
  {
   "cell_type": "code",
   "execution_count": null,
   "metadata": {},
   "outputs": [],
   "source": [
    "vp.value_count(new_y.to_frame(), 'target')"
   ]
  },
  {
   "cell_type": "code",
   "execution_count": null,
   "metadata": {},
   "outputs": [],
   "source": [
    "fig = px.scatter(pd.concat([new_X, new_y.astype(str)], axis=1).sort_values(by='target'),\n",
    "                 x='ivis_0', y='ivis_1', color='target')\n",
    "\n",
    "data_groups.append(fig['data'])\n",
    "subplot_titles.append(f'Borderline SMOTE + Tomek + Ivis {class_ratio(new_y)}')"
   ]
  },
  {
   "cell_type": "markdown",
   "metadata": {},
   "source": [
    "### 2.7. K-Means SMOTE + ENN + Ivis"
   ]
  },
  {
   "cell_type": "code",
   "execution_count": null,
   "metadata": {},
   "outputs": [],
   "source": [
    "from imblearn.over_sampling import KMeansSMOTE\n",
    "from imblearn.under_sampling import EditedNearestNeighbours"
   ]
  },
  {
   "cell_type": "code",
   "execution_count": null,
   "metadata": {
    "scrolled": true
   },
   "outputs": [],
   "source": [
    "steps = [\n",
    "    ('standard_scaler', DFStandardScaler()),\n",
    "    ('kmeans_smote', KMeansSMOTE(random_state=0, n_jobs=-1, cluster_balance_threshold=.05)),\n",
    "    ('enn', EditedNearestNeighbours(n_jobs=-1, sampling_strategy='all')),\n",
    "]\n",
    "new_X, new_y = Pipeline(steps, verbose=True).fit_resample(X, y)\n",
    "print(f'Balanced: {new_X.shape, new_y.shape}')\n",
    "\n",
    "steps = [\n",
    "    ('minmax_scaler', DFMinMaxScaler()),\n",
    "    ('ivis', DFIvis(embedding_dims=2,\n",
    "                    epochs=500, verbose=2,\n",
    "                    supervision_weight=.5, supervision_metric='binary_crossentropy',\n",
    "                    k=15, n_epochs_without_progress=15, model='szubert')),\n",
    "]\n",
    "new_X = Pipeline(steps, verbose=True).fit_transform(new_X, new_y)\n",
    "\n",
    "new_X.shape"
   ]
  },
  {
   "cell_type": "code",
   "execution_count": null,
   "metadata": {},
   "outputs": [],
   "source": [
    "vp.value_count(new_y.to_frame(), 'target')"
   ]
  },
  {
   "cell_type": "code",
   "execution_count": null,
   "metadata": {},
   "outputs": [],
   "source": [
    "fig = px.scatter(pd.concat([new_X, new_y.astype(str)], axis=1).sort_values(by='target'),\n",
    "                 x='ivis_0', y='ivis_1', color='target')\n",
    "\n",
    "data_groups.append(fig['data'])\n",
    "subplot_titles.append(f'K-Means SMOTE + ENN + Ivis {class_ratio(new_y)}')"
   ]
  },
  {
   "cell_type": "markdown",
   "metadata": {},
   "source": [
    "### 2.8. K-Means SMOTE + Tomek + Ivis"
   ]
  },
  {
   "cell_type": "code",
   "execution_count": null,
   "metadata": {},
   "outputs": [],
   "source": [
    "from imblearn.over_sampling import KMeansSMOTE\n",
    "from imblearn.under_sampling import TomekLinks"
   ]
  },
  {
   "cell_type": "code",
   "execution_count": null,
   "metadata": {
    "scrolled": true
   },
   "outputs": [],
   "source": [
    "steps = [\n",
    "    ('standard_scaler', DFStandardScaler()),\n",
    "    ('kmeans_smote', KMeansSMOTE(random_state=0, n_jobs=-1, cluster_balance_threshold=.05)),\n",
    "    ('tomek', TomekLinks(n_jobs=-1, sampling_strategy='all')),\n",
    "]\n",
    "new_X, new_y = Pipeline(steps, verbose=True).fit_resample(X, y)\n",
    "print(f'Balanced: {new_X.shape, new_y.shape}')\n",
    "\n",
    "steps = [\n",
    "    ('minmax_scaler', DFMinMaxScaler()),\n",
    "    ('ivis', DFIvis(embedding_dims=2,\n",
    "                    epochs=500, verbose=2,\n",
    "                    supervision_weight=.5, supervision_metric='binary_crossentropy',\n",
    "                    k=15, n_epochs_without_progress=15, model='szubert')),\n",
    "]\n",
    "new_X = Pipeline(steps, verbose=True).fit_transform(new_X, new_y)\n",
    "\n",
    "new_X.shape"
   ]
  },
  {
   "cell_type": "code",
   "execution_count": null,
   "metadata": {},
   "outputs": [],
   "source": [
    "vp.value_count(new_y.to_frame(), 'target')"
   ]
  },
  {
   "cell_type": "code",
   "execution_count": null,
   "metadata": {},
   "outputs": [],
   "source": [
    "fig = px.scatter(pd.concat([new_X, new_y.astype(str)], axis=1).sort_values(by='target'),\n",
    "                 x='ivis_0', y='ivis_1', color='target')\n",
    "\n",
    "data_groups.append(fig['data'])\n",
    "subplot_titles.append(f'K-Means SMOTE + Tomek + Ivis {class_ratio(new_y)}')"
   ]
  },
  {
   "cell_type": "markdown",
   "metadata": {},
   "source": [
    "### 2.9. SVM SMOTE + ENN + Ivis"
   ]
  },
  {
   "cell_type": "code",
   "execution_count": null,
   "metadata": {},
   "outputs": [],
   "source": [
    "from imblearn.over_sampling import SVMSMOTE\n",
    "from imblearn.under_sampling import EditedNearestNeighbours"
   ]
  },
  {
   "cell_type": "code",
   "execution_count": null,
   "metadata": {
    "scrolled": true
   },
   "outputs": [],
   "source": [
    "steps = [\n",
    "    ('standard_scaler', DFStandardScaler()),\n",
    "    ('svm_smote', SVMSMOTE(random_state=0, n_jobs=-1)),\n",
    "    ('enn', EditedNearestNeighbours(n_jobs=-1, sampling_strategy='all')),\n",
    "]\n",
    "new_X, new_y = Pipeline(steps, verbose=True).fit_resample(X, y)\n",
    "print(f'Balanced: {new_X.shape, new_y.shape}')\n",
    "\n",
    "steps = [\n",
    "    ('minmax_scaler', DFMinMaxScaler()),\n",
    "    ('ivis', DFIvis(embedding_dims=2,\n",
    "                    epochs=500, verbose=2,\n",
    "                    supervision_weight=.5, supervision_metric='binary_crossentropy',\n",
    "                    k=15, n_epochs_without_progress=15, model='szubert')),\n",
    "]\n",
    "new_X = Pipeline(steps, verbose=True).fit_transform(new_X, new_y)\n",
    "\n",
    "new_X.shape"
   ]
  },
  {
   "cell_type": "code",
   "execution_count": null,
   "metadata": {},
   "outputs": [],
   "source": [
    "vp.value_count(new_y.to_frame(), 'target')"
   ]
  },
  {
   "cell_type": "code",
   "execution_count": null,
   "metadata": {},
   "outputs": [],
   "source": [
    "fig = px.scatter(pd.concat([new_X, new_y.astype(str)], axis=1).sort_values(by='target'),\n",
    "                 x='ivis_0', y='ivis_1', color='target')\n",
    "\n",
    "data_groups.append(fig['data'])\n",
    "subplot_titles.append(f'SVM SMOTE + ENN + Ivis {class_ratio(new_y)}')"
   ]
  },
  {
   "cell_type": "markdown",
   "metadata": {},
   "source": [
    "### 2.10. SVM SMOTE + Tomek + Ivis"
   ]
  },
  {
   "cell_type": "code",
   "execution_count": null,
   "metadata": {},
   "outputs": [],
   "source": [
    "from imblearn.over_sampling import SVMSMOTE\n",
    "from imblearn.under_sampling import TomekLinks"
   ]
  },
  {
   "cell_type": "code",
   "execution_count": null,
   "metadata": {
    "scrolled": true
   },
   "outputs": [],
   "source": [
    "steps = [\n",
    "    ('standard_scaler', DFStandardScaler()),\n",
    "    ('svm_smote', SVMSMOTE(random_state=0, n_jobs=-1)),\n",
    "    ('tomek', TomekLinks(n_jobs=-1, sampling_strategy='all')),\n",
    "]\n",
    "new_X, new_y = Pipeline(steps, verbose=True).fit_resample(X, y)\n",
    "print(f'Balanced: {new_X.shape, new_y.shape}')\n",
    "\n",
    "steps = [\n",
    "    ('minmax_scaler', DFMinMaxScaler()),\n",
    "    ('ivis', DFIvis(embedding_dims=2,\n",
    "                    epochs=500, verbose=2,\n",
    "                    supervision_weight=.5, supervision_metric='binary_crossentropy',\n",
    "                    k=15, n_epochs_without_progress=15, model='szubert')),\n",
    "]\n",
    "new_X = Pipeline(steps, verbose=True).fit_transform(new_X, new_y)\n",
    "\n",
    "new_X.shape"
   ]
  },
  {
   "cell_type": "code",
   "execution_count": null,
   "metadata": {},
   "outputs": [],
   "source": [
    "vp.value_count(new_y.to_frame(), 'target')"
   ]
  },
  {
   "cell_type": "code",
   "execution_count": null,
   "metadata": {},
   "outputs": [],
   "source": [
    "fig = px.scatter(pd.concat([new_X, new_y.astype(str)], axis=1).sort_values(by='target'),\n",
    "                 x='ivis_0', y='ivis_1', color='target')\n",
    "\n",
    "data_groups.append(fig['data'])\n",
    "subplot_titles.append(f'SVM SMOTE + Tomek + Ivis {class_ratio(new_y)}')"
   ]
  },
  {
   "cell_type": "code",
   "execution_count": null,
   "metadata": {},
   "outputs": [],
   "source": [
    "# Scatter plot\n",
    "vp.datagroups_subplots(\n",
    "    data_groups,\n",
    "    max_col=3,\n",
    "    title='Re-Sampling Dataset',\n",
    "    out_path=OUT_PATH_GRAPH,\n",
    "    subplot_kwargs={\n",
    "        'subplot_titles': subplot_titles,\n",
    "        'vertical_spacing': .08\n",
    "    },\n",
    "    layout_kwargs={'height': 1250})"
   ]
  },
  {
   "cell_type": "code",
   "execution_count": null,
   "metadata": {},
   "outputs": [],
   "source": []
  }
 ],
 "metadata": {
  "kernelspec": {
   "display_name": "Python 3",
   "language": "python",
   "name": "python3"
  },
  "language_info": {
   "codemirror_mode": {
    "name": "ipython",
    "version": 3
   },
   "file_extension": ".py",
   "mimetype": "text/x-python",
   "name": "python",
   "nbconvert_exporter": "python",
   "pygments_lexer": "ipython3",
   "version": "3.7.4"
  }
 },
 "nbformat": 4,
 "nbformat_minor": 2
}
