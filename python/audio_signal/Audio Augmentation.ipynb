{
 "cells": [
  {
   "cell_type": "markdown",
   "metadata": {},
   "source": [
    "Reference:\n",
    "- https://towardsdatascience.com/speech-emotion-recognition-with-convolution-neural-network-1e6bb7130ce3\n",
    "- https://www.kaggle.com/CVxTz/audio-data-augmentation/data\n",
    "- https://www.kaggle.com/haqishen/augmentation-methods-for-audio"
   ]
  },
  {
   "cell_type": "code",
   "execution_count": null,
   "metadata": {},
   "outputs": [],
   "source": [
    "import lib._util.visualplot as vp"
   ]
  },
  {
   "cell_type": "code",
   "execution_count": null,
   "metadata": {},
   "outputs": [],
   "source": [
    "import pandas as pd\n",
    "pd.set_option('display.max_columns', None)\n",
    "\n",
    "import numpy as np\n",
    "\n",
    "import IPython\n",
    "from IPython.display import Audio\n",
    "\n",
    "# Plotly\n",
    "import plotly.express as px\n",
    "import plotly.graph_objects as go\n",
    "\n",
    "# LibROSA\n",
    "import librosa"
   ]
  },
  {
   "cell_type": "markdown",
   "metadata": {},
   "source": [
    "# Constant Variable"
   ]
  },
  {
   "cell_type": "code",
   "execution_count": null,
   "metadata": {},
   "outputs": [],
   "source": [
    "SOURCE_PATH_DATA = 'resources/data/augmentation/'\n",
    "OUT_PATH_GRAPH   = 'resources/output/augmentation/graph/'"
   ]
  },
  {
   "cell_type": "markdown",
   "metadata": {},
   "source": [
    "# Data Loading"
   ]
  },
  {
   "cell_type": "code",
   "execution_count": null,
   "metadata": {},
   "outputs": [],
   "source": [
    "data_df = pd.read_csv(f'{SOURCE_PATH_DATA}audio.csv', sep=',')\n",
    "data_df.set_index('fname', inplace=True)\n",
    "\n",
    "data_df"
   ]
  },
  {
   "cell_type": "markdown",
   "metadata": {},
   "source": [
    "# Original Audio"
   ]
  },
  {
   "cell_type": "code",
   "execution_count": null,
   "metadata": {},
   "outputs": [],
   "source": [
    "# Audio\n",
    "for row in data_df.itertuples():\n",
    "    print(row.label)\n",
    "    IPython.display.display(Audio(f'{SOURCE_PATH_DATA}wav/{row.Index}'))"
   ]
  },
  {
   "cell_type": "code",
   "execution_count": null,
   "metadata": {},
   "outputs": [],
   "source": [
    "# Create columns to hold array\n",
    "for column in ['amplitude', 'mel_spectogram']:\n",
    "    data_df[column] = data_df.apply(lambda x: [], axis=1)\n",
    "\n",
    "# Audio signals\n",
    "for row in data_df.itertuples():\n",
    "    signals, rate = librosa.load(f'{SOURCE_PATH_DATA}wav/{row.Index}', sr=None)\n",
    "    \n",
    "    data_df.at[row.Index, 'rate']      = rate\n",
    "    data_df.at[row.Index, 'amplitude'] = signals\n",
    "    \n",
    "    # Mel Spectogram\n",
    "    data_df.at[row.Index, 'mel_spectogram'] = librosa.feature.melspectrogram(y=signals, sr=rate)\n",
    "    data_df.at[row.Index, 'mel_spectogram'] = librosa.power_to_db(data_df.at[row.Index, 'mel_spectogram'], ref=np.max)"
   ]
  },
  {
   "cell_type": "markdown",
   "metadata": {},
   "source": [
    "### Wave-Plot"
   ]
  },
  {
   "cell_type": "code",
   "execution_count": null,
   "metadata": {},
   "outputs": [],
   "source": [
    "# Signal\n",
    "vp.wave(\n",
    "    data_df.reset_index().set_index('label'),\n",
    "    amplitude='amplitude',\n",
    "    title='Audio Signal',\n",
    "    out_path=OUT_PATH_GRAPH\n",
    ")"
   ]
  },
  {
   "cell_type": "markdown",
   "metadata": {},
   "source": [
    "### Mel Spectogram"
   ]
  },
  {
   "cell_type": "code",
   "execution_count": null,
   "metadata": {},
   "outputs": [],
   "source": [
    "# Mel Spectogram\n",
    "vp.spectogram(\n",
    "    data_df.reset_index().set_index('label'),\n",
    "    z='mel_spectogram',\n",
    "    title='Mel Spectogram',\n",
    "    y_title='Frequency (Hz)',\n",
    "    out_path=OUT_PATH_GRAPH\n",
    ")"
   ]
  },
  {
   "cell_type": "markdown",
   "metadata": {},
   "source": [
    "# Audio Augmentation"
   ]
  },
  {
   "cell_type": "markdown",
   "metadata": {},
   "source": [
    "### Noise Injection"
   ]
  },
  {
   "cell_type": "code",
   "execution_count": null,
   "metadata": {},
   "outputs": [],
   "source": [
    "# Add white noise\n",
    "def inject_noise(signals, noise_factor=.005):\n",
    "    noise       = np.random.randn(len(signals))\n",
    "    new_signals = signals + noise_factor * noise\n",
    "    \n",
    "    return new_signals.astype(signals.dtype)"
   ]
  },
  {
   "cell_type": "code",
   "execution_count": null,
   "metadata": {},
   "outputs": [],
   "source": [
    "tmp_df = data_df.copy()\n",
    "for row in tmp_df.itertuples():\n",
    "    signals = inject_noise(row.amplitude)\n",
    "    rate    = row.rate\n",
    "    \n",
    "    tmp_df.at[row.Index, 'amplitude'] = signals\n",
    "    \n",
    "    # Mel Spectogram\n",
    "    tmp_df.at[row.Index, 'mel_spectogram'] = librosa.feature.melspectrogram(y=signals, sr=rate)\n",
    "    tmp_df.at[row.Index, 'mel_spectogram'] = librosa.power_to_db(tmp_df.at[row.Index, 'mel_spectogram'], ref=np.max)"
   ]
  },
  {
   "cell_type": "code",
   "execution_count": null,
   "metadata": {},
   "outputs": [],
   "source": [
    "# Audio\n",
    "for row in tmp_df.itertuples():\n",
    "    print(row.label)\n",
    "    IPython.display.display(Audio(row.amplitude, rate=row.rate))"
   ]
  },
  {
   "cell_type": "code",
   "execution_count": null,
   "metadata": {},
   "outputs": [],
   "source": [
    "# Signal\n",
    "vp.wave(\n",
    "    tmp_df.reset_index().set_index('label'),\n",
    "    amplitude='amplitude',\n",
    "    title='Audio Signal - Noise Injection',\n",
    "    out_path=OUT_PATH_GRAPH\n",
    ")"
   ]
  },
  {
   "cell_type": "code",
   "execution_count": null,
   "metadata": {},
   "outputs": [],
   "source": [
    "# Mel Spectogram\n",
    "vp.spectogram(\n",
    "    tmp_df.reset_index().set_index('label'),\n",
    "    z='mel_spectogram',\n",
    "    title='Mel Spectogram - Noise Injection',\n",
    "    y_title='Frequency (Hz)',\n",
    "    out_path=OUT_PATH_GRAPH\n",
    ")"
   ]
  },
  {
   "cell_type": "markdown",
   "metadata": {},
   "source": [
    "### Time Shifting\n",
    "- Shift audio to left/right with a random second\n",
    "- Shifting audio to left (fast forward) with x seconds, first x seconds will mark as 0 (i.e. silence)\n",
    "- Shifting audio to right (back forward) with x seconds, last x seconds will mark as 0 (i.e. silence)\n",
    "- Reference: https://medium.com/@makcedward/data-augmentation-for-audio-76912b01fdf6"
   ]
  },
  {
   "cell_type": "code",
   "execution_count": null,
   "metadata": {},
   "outputs": [],
   "source": [
    "def time_shift(signals, rate, shift_ratio=.1, shift_direction='both'):\n",
    "    shift_directions = ['both', 'left', 'right']\n",
    "    assert shift_direction in shift_directions, f'shift_direction not in valid list: {shift_directions}'\n",
    "    \n",
    "    assert shift_ratio >= 0 and shift_ratio <= 1, 'shift_ratio not in valid range: [0, 1]'\n",
    "    \n",
    "    # Left shift by default\n",
    "    shift = np.random.randint(rate * shift_ratio)\n",
    "    \n",
    "    # Right shift\n",
    "    if shift_direction == 'right':\n",
    "        shift = -shift\n",
    "        \n",
    "    # Randomly determine left/right shift\n",
    "    elif shift_direction == 'both':\n",
    "        direction = np.random.randint(0, 2)\n",
    "        if direction == 1:\n",
    "            shift = -shift\n",
    "    new_signals = np.roll(signals, shift)\n",
    "    \n",
    "    # Silence heading due on left shift\n",
    "    if shift >= 0:\n",
    "        new_signals[:shift] = 0\n",
    "        \n",
    "    # Silence ending due on right shift\n",
    "    else:\n",
    "        new_signals[shift:] = 0\n",
    "        \n",
    "    return new_signals"
   ]
  },
  {
   "cell_type": "code",
   "execution_count": null,
   "metadata": {},
   "outputs": [],
   "source": [
    "tmp_df = data_df.copy()\n",
    "for row in tmp_df.itertuples():\n",
    "    signals = time_shift(row.amplitude, row.rate)\n",
    "    rate    = row.rate\n",
    "    \n",
    "    tmp_df.at[row.Index, 'amplitude'] = signals\n",
    "    \n",
    "    # Mel Spectogram\n",
    "    tmp_df.at[row.Index, 'mel_spectogram'] = librosa.feature.melspectrogram(y=signals, sr=rate)\n",
    "    tmp_df.at[row.Index, 'mel_spectogram'] = librosa.power_to_db(tmp_df.at[row.Index, 'mel_spectogram'], ref=np.max)"
   ]
  },
  {
   "cell_type": "code",
   "execution_count": null,
   "metadata": {},
   "outputs": [],
   "source": [
    "# Audio\n",
    "for row in tmp_df.itertuples():\n",
    "    print(row.label)\n",
    "    IPython.display.display(Audio(row.amplitude, rate=row.rate))"
   ]
  },
  {
   "cell_type": "code",
   "execution_count": null,
   "metadata": {},
   "outputs": [],
   "source": [
    "# Signal\n",
    "vp.wave(\n",
    "    tmp_df.reset_index().set_index('label'),\n",
    "    amplitude='amplitude',\n",
    "    title='Audio Signal - Time Shifting',\n",
    "    out_path=OUT_PATH_GRAPH\n",
    ")"
   ]
  },
  {
   "cell_type": "code",
   "execution_count": null,
   "metadata": {},
   "outputs": [],
   "source": [
    "# Mel Spectogram\n",
    "vp.spectogram(\n",
    "    tmp_df.reset_index().set_index('label'),\n",
    "    z='mel_spectogram',\n",
    "    title='Mel Spectogram - Time Shifting',\n",
    "    y_title='Frequency (Hz)',\n",
    "    out_path=OUT_PATH_GRAPH\n",
    ")"
   ]
  },
  {
   "cell_type": "markdown",
   "metadata": {},
   "source": [
    "### Speed Changing"
   ]
  },
  {
   "cell_type": "code",
   "execution_count": null,
   "metadata": {},
   "outputs": [],
   "source": [
    "tmp_df = data_df.copy()\n",
    "for row in tmp_df.itertuples():\n",
    "    # Rate > 1 = Speed up, Rate < 1 = Slow down\n",
    "    speed_factor = 3\n",
    "    signals = librosa.effects.time_stretch(row.amplitude, rate=speed_factor)\n",
    "    rate    = row.rate\n",
    "    \n",
    "    tmp_df.at[row.Index, 'amplitude'] = signals\n",
    "    \n",
    "    # Mel Spectogram\n",
    "    tmp_df.at[row.Index, 'mel_spectogram'] = librosa.feature.melspectrogram(y=signals, sr=rate)\n",
    "    tmp_df.at[row.Index, 'mel_spectogram'] = librosa.power_to_db(tmp_df.at[row.Index, 'mel_spectogram'], ref=np.max)"
   ]
  },
  {
   "cell_type": "code",
   "execution_count": null,
   "metadata": {},
   "outputs": [],
   "source": [
    "# Audio\n",
    "for row in tmp_df.itertuples():\n",
    "    print(row.label)\n",
    "    IPython.display.display(Audio(row.amplitude, rate=row.rate))"
   ]
  },
  {
   "cell_type": "code",
   "execution_count": null,
   "metadata": {},
   "outputs": [],
   "source": [
    "# Signal\n",
    "vp.wave(\n",
    "    tmp_df.reset_index().set_index('label'),\n",
    "    amplitude='amplitude',\n",
    "    title='Audio Signal - Speed Changing',\n",
    "    out_path=OUT_PATH_GRAPH\n",
    ")"
   ]
  },
  {
   "cell_type": "code",
   "execution_count": null,
   "metadata": {},
   "outputs": [],
   "source": [
    "# Mel Spectogram\n",
    "vp.spectogram(\n",
    "    tmp_df.reset_index().set_index('label'),\n",
    "    z='mel_spectogram',\n",
    "    title='Mel Spectogram - Speed Changing',\n",
    "    y_title='Frequency (Hz)',\n",
    "    out_path=OUT_PATH_GRAPH\n",
    ")"
   ]
  },
  {
   "cell_type": "markdown",
   "metadata": {},
   "source": [
    "### Pitch Shifting"
   ]
  },
  {
   "cell_type": "code",
   "execution_count": null,
   "metadata": {},
   "outputs": [],
   "source": [
    "tmp_df = data_df.copy()\n",
    "for row in tmp_df.itertuples():\n",
    "    pitch_factor = 5\n",
    "    signals = librosa.effects.pitch_shift(row.amplitude, row.rate, n_steps=pitch_factor)\n",
    "    rate    = row.rate\n",
    "    \n",
    "    tmp_df.at[row.Index, 'amplitude'] = signals\n",
    "    \n",
    "    # Mel Spectogram\n",
    "    tmp_df.at[row.Index, 'mel_spectogram'] = librosa.feature.melspectrogram(y=signals, sr=rate)\n",
    "    tmp_df.at[row.Index, 'mel_spectogram'] = librosa.power_to_db(tmp_df.at[row.Index, 'mel_spectogram'], ref=np.max)"
   ]
  },
  {
   "cell_type": "code",
   "execution_count": null,
   "metadata": {},
   "outputs": [],
   "source": [
    "# Audio\n",
    "for row in tmp_df.itertuples():\n",
    "    print(row.label)\n",
    "    IPython.display.display(Audio(row.amplitude, rate=row.rate))"
   ]
  },
  {
   "cell_type": "code",
   "execution_count": null,
   "metadata": {},
   "outputs": [],
   "source": [
    "# Signal\n",
    "vp.wave(\n",
    "    tmp_df.reset_index().set_index('label'),\n",
    "    amplitude='amplitude',\n",
    "    title='Audio Signal - Pitch Shifting',\n",
    "    out_path=OUT_PATH_GRAPH\n",
    ")"
   ]
  },
  {
   "cell_type": "code",
   "execution_count": null,
   "metadata": {},
   "outputs": [],
   "source": [
    "# Mel Spectogram\n",
    "vp.spectogram(\n",
    "    tmp_df.reset_index().set_index('label'),\n",
    "    z='mel_spectogram',\n",
    "    title='Mel Spectogram - Pitch Shifting',\n",
    "    y_title='Frequency (Hz)',\n",
    "    out_path=OUT_PATH_GRAPH\n",
    ")"
   ]
  },
  {
   "cell_type": "code",
   "execution_count": null,
   "metadata": {},
   "outputs": [],
   "source": []
  }
 ],
 "metadata": {
  "kernelspec": {
   "display_name": "Python 3",
   "language": "python",
   "name": "python3"
  },
  "language_info": {
   "codemirror_mode": {
    "name": "ipython",
    "version": 3
   },
   "file_extension": ".py",
   "mimetype": "text/x-python",
   "name": "python",
   "nbconvert_exporter": "python",
   "pygments_lexer": "ipython3",
   "version": "3.7.3"
  }
 },
 "nbformat": 4,
 "nbformat_minor": 2
}
