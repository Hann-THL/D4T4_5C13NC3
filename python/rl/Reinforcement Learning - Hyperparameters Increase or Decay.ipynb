{
 "cells": [
  {
   "cell_type": "code",
   "execution_count": null,
   "metadata": {},
   "outputs": [],
   "source": [
    "import numpy as np"
   ]
  },
  {
   "cell_type": "code",
   "execution_count": null,
   "metadata": {},
   "outputs": [],
   "source": [
    "hyperparams_dict = {\n",
    "    # Determine to perform exploration or exploitation\n",
    "    # Ranged from 0 - 1\n",
    "    # 0 = Exploit, 1 = Explore\n",
    "    'EPSILON': {\n",
    "        'MIN': .1,\n",
    "        'MAX': 1,\n",
    "        'DECAY_RATE': .001\n",
    "    },\n",
    "    \n",
    "    \n",
    "    'ALPHA': {\n",
    "        'MIN': .01,\n",
    "        'MAX': .9,\n",
    "        'DECAY_RATE': .001\n",
    "    },\n",
    "    \n",
    "    'GAMMA': {\n",
    "        'MIN': .1,\n",
    "        'MAX': .9,\n",
    "        'INCREASE_RATE': .001\n",
    "    }\n",
    "}"
   ]
  },
  {
   "cell_type": "code",
   "execution_count": null,
   "metadata": {},
   "outputs": [],
   "source": [
    "episodes = 10000\n",
    "show_every = 500"
   ]
  },
  {
   "cell_type": "markdown",
   "metadata": {},
   "source": [
    "# Increase or Decay Algorithm"
   ]
  },
  {
   "cell_type": "code",
   "execution_count": null,
   "metadata": {},
   "outputs": [],
   "source": [
    "def increase_or_decay(param_name, hyperparams_dict, episode):\n",
    "    key = param_name.upper()\n",
    "    \n",
    "    if (param_name == 'epsilon') | (param_name == 'alpha'):\n",
    "        min_value = hyperparams_dict[key]['MIN']\n",
    "        max_value = hyperparams_dict[key]['MAX']\n",
    "        rate      = hyperparams_dict[key]['DECAY_RATE']\n",
    "        \n",
    "    elif param_name == 'gamma':\n",
    "        # Swap min. max. for incrementing\n",
    "        min_value = hyperparams_dict[key]['MAX']\n",
    "        max_value = hyperparams_dict[key]['MIN']\n",
    "        rate      = hyperparams_dict[key]['INCREASE_RATE']\n",
    "        \n",
    "    return min_value + (max_value - min_value) * np.exp(-rate * episode)"
   ]
  },
  {
   "cell_type": "code",
   "execution_count": null,
   "metadata": {},
   "outputs": [],
   "source": [
    "epsilon = hyperparams_dict['EPSILON']['MAX']\n",
    "alpha   = hyperparams_dict['ALPHA']['MAX']\n",
    "gamma   = hyperparams_dict['GAMMA']['MIN']\n",
    "\n",
    "for episode in range(episodes):\n",
    "    if (episode % show_every == 0) | (episode == episodes -1):\n",
    "        print(f'Episode: {episode :<4} | ϵ: {epsilon :.10f} | α: {alpha :.10f} | γ: {gamma :.10f}')\n",
    "        \n",
    "    epsilon = increase_or_decay('epsilon', hyperparams_dict, episode)\n",
    "    alpha   = increase_or_decay('alpha',   hyperparams_dict, episode)\n",
    "    gamma   = increase_or_decay('gamma',   hyperparams_dict, episode)"
   ]
  },
  {
   "cell_type": "code",
   "execution_count": null,
   "metadata": {},
   "outputs": [],
   "source": []
  }
 ],
 "metadata": {
  "kernelspec": {
   "display_name": "Python 3",
   "language": "python",
   "name": "python3"
  },
  "language_info": {
   "codemirror_mode": {
    "name": "ipython",
    "version": 3
   },
   "file_extension": ".py",
   "mimetype": "text/x-python",
   "name": "python",
   "nbconvert_exporter": "python",
   "pygments_lexer": "ipython3",
   "version": "3.7.3"
  }
 },
 "nbformat": 4,
 "nbformat_minor": 2
}
