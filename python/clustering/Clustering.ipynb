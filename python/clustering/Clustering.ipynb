{
 "cells": [
  {
   "cell_type": "code",
   "execution_count": null,
   "metadata": {},
   "outputs": [],
   "source": [
    "import numpy as np\n",
    "import pandas as pd\n",
    "\n",
    "# Plotly\n",
    "from plotly.offline import init_notebook_mode, iplot, plot\n",
    "from plotly.subplots import make_subplots\n",
    "import plotly.graph_objects as go\n",
    "init_notebook_mode(connected=True)\n",
    "\n",
    "# Sscikit-Learn\n",
    "from sklearn.preprocessing import MinMaxScaler\n",
    "from sklearn.decomposition import PCA\n",
    "from sklearn.manifold import TSNE\n",
    "from sklearn.cluster import KMeans, MeanShift, AgglomerativeClustering\n",
    "from sklearn.mixture import GaussianMixture\n",
    "from sklearn.metrics import silhouette_score"
   ]
  },
  {
   "cell_type": "markdown",
   "metadata": {},
   "source": [
    "# Sample Data"
   ]
  },
  {
   "cell_type": "code",
   "execution_count": null,
   "metadata": {},
   "outputs": [],
   "source": [
    "def populate_sample(size):\n",
    "    np.random.seed(1)\n",
    "\n",
    "    genders = ['male', 'female']\n",
    "    countries = ['MY', 'CY', 'US', 'SG', 'FR', 'EU']\n",
    "\n",
    "    return pd.DataFrame({\n",
    "        'gender': [genders[x] for x in np.random.randint(low=0, high=len(genders), size=size)],\n",
    "        'age': np.random.randint(low=1, high=99, size=size),\n",
    "        'country': [countries[x] for x in np.random.randint(low=0, high=len(countries), size=size)],\n",
    "        'balance': np.random.uniform(low=.00, high=10_000, size=size)\n",
    "    })"
   ]
  },
  {
   "cell_type": "code",
   "execution_count": null,
   "metadata": {},
   "outputs": [],
   "source": [
    "sample_df = populate_sample(1_000)\n",
    "sample_df.shape"
   ]
  },
  {
   "cell_type": "code",
   "execution_count": null,
   "metadata": {},
   "outputs": [],
   "source": [
    "sample_df.head()"
   ]
  },
  {
   "cell_type": "markdown",
   "metadata": {},
   "source": [
    "# Exploratory Data Analysis"
   ]
  },
  {
   "cell_type": "code",
   "execution_count": null,
   "metadata": {},
   "outputs": [],
   "source": [
    "def plot_graph(data, title, x_label=None, y_label=None):\n",
    "    layout = go.Layout(\n",
    "        title = title,\n",
    "        xaxis = dict(\n",
    "            title=x_label,\n",
    "            gridcolor='rgb(159, 197, 232)'\n",
    "        ),\n",
    "        yaxis = dict(\n",
    "            title=y_label,\n",
    "            gridcolor='rgb(159, 197, 232)'\n",
    "        ),\n",
    "        showlegend=True,\n",
    "        legend_orientation='h',\n",
    "        plot_bgcolor='rgba(0, 0, 0, 0)'\n",
    "    )\n",
    "\n",
    "    fig = go.Figure(data=data, layout=layout)\n",
    "    iplot(fig)\n",
    "    \n",
    "def plot_subplots(data, max_col, subplot_titles=None):\n",
    "    max_row = int(np.ceil(len(data) / max_col))\n",
    "    \n",
    "    fig = make_subplots(rows=max_row, cols=max_col, subplot_titles=subplot_titles)\n",
    "    for index, d in enumerate(data):\n",
    "        col = index +1\n",
    "\n",
    "        if col <= max_col:\n",
    "            row = 1\n",
    "        else:\n",
    "            quotient = int(col / max_col)\n",
    "            col -= (max_col * quotient)\n",
    "            if col == 0:\n",
    "                col = max_col\n",
    "            elif col == 1:\n",
    "                row += 1\n",
    "\n",
    "        fig.add_trace(d, row=row, col=col)\n",
    "\n",
    "    fig.update_layout(showlegend=False)\n",
    "    iplot(fig)\n",
    "    \n",
    "def exploratory_analysis(df):\n",
    "    data = []\n",
    "    for column in df.columns:\n",
    "        data.append(go.Histogram(x=df[column]))\n",
    "        \n",
    "    subplot_titles = [f'{x.title()} Distribution' for x in df.columns]\n",
    "    plot_subplots(data, max_col=2, subplot_titles=subplot_titles)"
   ]
  },
  {
   "cell_type": "code",
   "execution_count": null,
   "metadata": {},
   "outputs": [],
   "source": [
    "exploratory_analysis(sample_df)"
   ]
  },
  {
   "cell_type": "markdown",
   "metadata": {},
   "source": [
    "# One-Hot Encoding"
   ]
  },
  {
   "cell_type": "code",
   "execution_count": null,
   "metadata": {},
   "outputs": [],
   "source": [
    "def onehot_encoding(df, fields):\n",
    "    onehot_df = df.copy()\n",
    "    \n",
    "    for field in fields:\n",
    "        onehot_df[field] = pd.Categorical(onehot_df[field])\n",
    "        onehot_df = pd.concat([onehot_df, pd.get_dummies(onehot_df[field], prefix=field)], axis=1)\n",
    "        \n",
    "    onehot_df.drop(columns=fields, inplace=True)\n",
    "    return onehot_df"
   ]
  },
  {
   "cell_type": "code",
   "execution_count": null,
   "metadata": {},
   "outputs": [],
   "source": [
    "onehot_df = onehot_encoding(sample_df, ['gender', 'country'])\n",
    "onehot_df.head()"
   ]
  },
  {
   "cell_type": "markdown",
   "metadata": {},
   "source": [
    "# Feature Selection"
   ]
  },
  {
   "cell_type": "markdown",
   "metadata": {},
   "source": [
    "### High Correlation Filter"
   ]
  },
  {
   "cell_type": "code",
   "execution_count": null,
   "metadata": {},
   "outputs": [],
   "source": [
    "# NOTE: consider dropping variables if correlation between a pair of variables is greater than 0.5 - 0.6\n",
    "corr_df = onehot_df.corr()\n",
    "corr_df"
   ]
  },
  {
   "cell_type": "code",
   "execution_count": null,
   "metadata": {},
   "outputs": [],
   "source": [
    "data = go.Heatmap(\n",
    "    x = corr_df.columns,\n",
    "    y = corr_df.index,\n",
    "    z = corr_df.values,\n",
    "    colorscale='Reds'\n",
    ")\n",
    "plot_graph(data, 'Feature Correlation Matrix')"
   ]
  },
  {
   "cell_type": "markdown",
   "metadata": {},
   "source": [
    "# Data Normalization"
   ]
  },
  {
   "cell_type": "code",
   "execution_count": null,
   "metadata": {},
   "outputs": [],
   "source": [
    "scaler = MinMaxScaler()\n",
    "scaled_df = pd.DataFrame(scaler.fit_transform(onehot_df), columns=onehot_df.columns)\n",
    "scaled_df"
   ]
  },
  {
   "cell_type": "markdown",
   "metadata": {},
   "source": [
    "# Dimensionality Reduction"
   ]
  },
  {
   "cell_type": "code",
   "execution_count": null,
   "metadata": {},
   "outputs": [],
   "source": [
    "def reduce_dim(df, n_components, method):\n",
    "    methods = ['pca', 'tsne']\n",
    "    assert method in methods, f'method is not in valid list: {methods}'\n",
    "    \n",
    "    random_state = 0\n",
    "    reducer = None\n",
    "    \n",
    "    if method == 'pca':\n",
    "        reducer = PCA(n_components=n_components, random_state=random_state)\n",
    "        \n",
    "    elif method == 'tsne':\n",
    "        reducer = TSNE(n_components=n_components, random_state=random_state)\n",
    "        \n",
    "    reduce_values = reducer.fit_transform(df.values)\n",
    "    reduced_df = pd.DataFrame(reduce_values, columns=['x', 'y'])\n",
    "    return reduced_df, reducer\n",
    "\n",
    "def plot_reduced_dim(df, title):\n",
    "    data = []\n",
    "    data.append(go.Scattergl(\n",
    "        x = df['x'],\n",
    "        y = df['y'],\n",
    "        mode = 'markers',\n",
    "        marker = dict(\n",
    "            opacity=.5\n",
    "        ),\n",
    "\n",
    "        hovertext=[f'Index: {row.Index}<br />Gender: {row.gender}<br />Age: {row.age}<br />Country: {row.country}<br />Balance: {row.balance}'\n",
    "                   for row in df.itertuples()],\n",
    "        hoverinfo='text'\n",
    "    ))\n",
    "    plot_graph(data, title)"
   ]
  },
  {
   "cell_type": "markdown",
   "metadata": {},
   "source": [
    "### PCA (Principal Component Analysis)"
   ]
  },
  {
   "cell_type": "code",
   "execution_count": null,
   "metadata": {},
   "outputs": [],
   "source": [
    "reduced_df, reducer = reduce_dim(scaled_df, n_components=2, method='pca')\n",
    "reduced_df.head()"
   ]
  },
  {
   "cell_type": "code",
   "execution_count": null,
   "metadata": {},
   "outputs": [],
   "source": [
    "# Inverse transform\n",
    "pd.DataFrame(reducer.inverse_transform(reduced_df), columns=scaled_df.columns).head()"
   ]
  },
  {
   "cell_type": "code",
   "execution_count": null,
   "metadata": {},
   "outputs": [],
   "source": [
    "# Map transformed values to samples\n",
    "pca_map_df = sample_df.merge(reduced_df, how='left', left_index=True, right_index=True)\n",
    "pca_map_df.head()"
   ]
  },
  {
   "cell_type": "code",
   "execution_count": null,
   "metadata": {},
   "outputs": [],
   "source": [
    "# Visualization\n",
    "plot_reduced_dim(pca_map_df, 'PCA')"
   ]
  },
  {
   "cell_type": "markdown",
   "metadata": {},
   "source": [
    "### t-SNE (t-Distributed Stochastic Neighbor Embedding)"
   ]
  },
  {
   "cell_type": "code",
   "execution_count": null,
   "metadata": {},
   "outputs": [],
   "source": [
    "# NOTE: t-SNE takes longer to train\n",
    "reduced_df, reducer = reduce_dim(scaled_df, n_components=2, method='tsne')\n",
    "reduced_df.head()"
   ]
  },
  {
   "cell_type": "code",
   "execution_count": null,
   "metadata": {},
   "outputs": [],
   "source": [
    "# Inverse transform is not supported by t-SNE"
   ]
  },
  {
   "cell_type": "code",
   "execution_count": null,
   "metadata": {},
   "outputs": [],
   "source": [
    "# Map transformed values to samples\n",
    "tsne_map_df = sample_df.merge(reduced_df, how='left', left_index=True, right_index=True)\n",
    "tsne_map_df.head()"
   ]
  },
  {
   "cell_type": "code",
   "execution_count": null,
   "metadata": {},
   "outputs": [],
   "source": [
    "# Visualization\n",
    "plot_reduced_dim(tsne_map_df, 't-SNE')"
   ]
  },
  {
   "cell_type": "markdown",
   "metadata": {},
   "source": [
    "# Clustering"
   ]
  },
  {
   "cell_type": "code",
   "execution_count": null,
   "metadata": {},
   "outputs": [],
   "source": [
    "def plot_cluster(df, cluster_column, title):\n",
    "    data = []\n",
    "    for cluster in df[cluster_column].unique():\n",
    "        cluster_df = df[df[cluster_column] == cluster]\n",
    "        \n",
    "        data.append(go.Scattergl(\n",
    "            x = cluster_df['x'],\n",
    "            y = cluster_df['y'],\n",
    "            mode = 'markers',\n",
    "            name = f'Cluster {cluster}',\n",
    "            marker = dict(\n",
    "                opacity=.5\n",
    "            ),\n",
    "\n",
    "            hovertext=[f'Index: {row.Index}<br />Gender: {row.gender}<br />Age: {row.age}<br />Country: {row.country}<br />Balance: {row.balance}'\n",
    "                       for row in cluster_df.itertuples()],\n",
    "            hoverinfo='text'\n",
    "        ))\n",
    "    plot_graph(data, title)\n",
    "    \n",
    "def clustering(df, n_clusters, method):\n",
    "    methods = ['kmeans', 'meanshift', 'hierarchy', 'gmm']\n",
    "    assert method in methods, f'method is not in valid list: {methods}'\n",
    "    \n",
    "    if method == 'kmeans':\n",
    "        cluster = KMeans(n_clusters=n_clusters)\n",
    "        clusters = cluster.fit(df[['x', 'y']].values).predict(df[['x', 'y']].values)\n",
    "        \n",
    "    elif method == 'meanshift':\n",
    "        cluster = MeanShift()\n",
    "        clusters = cluster.fit(df[['x', 'y']].values).predict(df[['x', 'y']].values)\n",
    "        \n",
    "    elif method == 'hierarchy':\n",
    "        cluster = AgglomerativeClustering(n_clusters=n_clusters)\n",
    "        clusters = cluster.fit(df[['x', 'y']].values).labels_\n",
    "        \n",
    "    elif method == 'gmm':\n",
    "        cluster = GaussianMixture(n_components=n_clusters)\n",
    "        clusters = cluster.fit(df[['x', 'y']].values).predict(df[['x', 'y']].values)\n",
    "        \n",
    "    cluster_df = df.copy()\n",
    "    cluster_df[f'{method}_cluster'] = clusters\n",
    "    \n",
    "    return cluster_df"
   ]
  },
  {
   "cell_type": "markdown",
   "metadata": {},
   "source": [
    "### K-Means"
   ]
  },
  {
   "cell_type": "code",
   "execution_count": null,
   "metadata": {},
   "outputs": [],
   "source": [
    "# Reference: https://towardsdatascience.com/clustering-metrics-better-than-the-elbow-method-6926e1f723a6\n",
    "def kmeans_evaluation(df, ranges):\n",
    "    sum_squared_distances = []\n",
    "    silhouette_scores = []\n",
    "    \n",
    "    for k in ranges:\n",
    "        values = df[['x', 'y']].values\n",
    "        kmeans = KMeans(n_clusters=k).fit(values)\n",
    "        sum_squared_distances.append(kmeans.inertia_)\n",
    "        silhouette_scores.append( silhouette_score(values, kmeans.predict(values), metric='euclidean') )\n",
    "        \n",
    "    return sum_squared_distances, silhouette_scores"
   ]
  },
  {
   "cell_type": "code",
   "execution_count": null,
   "metadata": {},
   "outputs": [],
   "source": [
    "ranges = [x for x in range(2,11)]\n",
    "pca_inertias, pca_scores = kmeans_evaluation(pca_map_df, ranges)\n",
    "tsne_inertias, tsne_scores = kmeans_evaluation(tsne_map_df, ranges)\n",
    "\n",
    "data = []\n",
    "for eval_result in [pca_inertias, tsne_inertias, pca_scores, tsne_scores]:\n",
    "    data.append(go.Scatter(\n",
    "        x = ranges,\n",
    "        y = eval_result,\n",
    "        mode = 'lines+markers'\n",
    "    ))\n",
    "\n",
    "reduce_type = ['PCA', 't-SNE']\n",
    "subplot_titles = [f'Elbow Method - {x}' for x in reduce_type]\n",
    "subplot_titles += [f'Silhouette Scores - {x}' for x in reduce_type]\n",
    "plot_subplots(data, max_col=2, subplot_titles=subplot_titles)"
   ]
  },
  {
   "cell_type": "code",
   "execution_count": null,
   "metadata": {},
   "outputs": [],
   "source": [
    "method = 'kmeans'\n",
    "pca_cluster_df = clustering(pca_map_df, n_clusters=6, method=method)\n",
    "plot_cluster(pca_cluster_df.sort_values(by=[f'{method}_cluster']), f'{method}_cluster', 'K-Means Cluster - PCA')"
   ]
  },
  {
   "cell_type": "code",
   "execution_count": null,
   "metadata": {},
   "outputs": [],
   "source": [
    "method = 'kmeans'\n",
    "tsne_cluster_df = clustering(tsne_map_df, n_clusters=10, method=method)\n",
    "plot_cluster(tsne_cluster_df.sort_values(by=[f'{method}_cluster']), f'{method}_cluster', 'K-Means Cluster - t-SNE')"
   ]
  },
  {
   "cell_type": "markdown",
   "metadata": {},
   "source": [
    "### Mean-Shift"
   ]
  },
  {
   "cell_type": "code",
   "execution_count": null,
   "metadata": {},
   "outputs": [],
   "source": [
    "method = 'meanshift'\n",
    "pca_cluster_df = clustering(pca_cluster_df, n_clusters=None, method=method)\n",
    "plot_cluster(pca_cluster_df.sort_values(by=[f'{method}_cluster']), f'{method}_cluster', 'Mean-Shift Cluster - PCA')"
   ]
  },
  {
   "cell_type": "code",
   "execution_count": null,
   "metadata": {},
   "outputs": [],
   "source": [
    "method = 'meanshift'\n",
    "tsne_cluster_df = clustering(tsne_cluster_df, n_clusters=None, method=method)\n",
    "plot_cluster(tsne_cluster_df.sort_values(by=[f'{method}_cluster']), f'{method}_cluster', 'Mean-Shift Cluster - t-SNE')"
   ]
  },
  {
   "cell_type": "markdown",
   "metadata": {},
   "source": [
    "### Agglomerative Hierarchical"
   ]
  },
  {
   "cell_type": "code",
   "execution_count": null,
   "metadata": {},
   "outputs": [],
   "source": [
    "method = 'hierarchy'\n",
    "pca_cluster_df = clustering(pca_cluster_df, n_clusters=6, method=method)\n",
    "plot_cluster(pca_cluster_df.sort_values(by=[f'{method}_cluster']), f'{method}_cluster', 'Hierarchical Cluster - PCA')"
   ]
  },
  {
   "cell_type": "code",
   "execution_count": null,
   "metadata": {},
   "outputs": [],
   "source": [
    "method = 'hierarchy'\n",
    "tsne_cluster_df = clustering(tsne_cluster_df, n_clusters=10, method=method)\n",
    "plot_cluster(tsne_cluster_df.sort_values(by=[f'{method}_cluster']), f'{method}_cluster', 'Hierarchical Cluster - t-SNE')"
   ]
  },
  {
   "cell_type": "markdown",
   "metadata": {},
   "source": [
    "### Gaussian Mixture"
   ]
  },
  {
   "cell_type": "code",
   "execution_count": null,
   "metadata": {},
   "outputs": [],
   "source": [
    "method = 'gmm'\n",
    "pca_cluster_df = clustering(pca_cluster_df, n_clusters=6, method=method)\n",
    "plot_cluster(pca_cluster_df.sort_values(by=[f'{method}_cluster']), f'{method}_cluster', 'GMM Cluster - PCA')"
   ]
  },
  {
   "cell_type": "code",
   "execution_count": null,
   "metadata": {},
   "outputs": [],
   "source": [
    "method = 'gmm'\n",
    "tsne_cluster_df = clustering(tsne_cluster_df, n_clusters=10, method=method)\n",
    "plot_cluster(tsne_cluster_df.sort_values(by=[f'{method}_cluster']), f'{method}_cluster', 'GMM Cluster - t-SNE')"
   ]
  },
  {
   "cell_type": "code",
   "execution_count": null,
   "metadata": {},
   "outputs": [],
   "source": []
  }
 ],
 "metadata": {
  "kernelspec": {
   "display_name": "Python 3",
   "language": "python",
   "name": "python3"
  },
  "language_info": {
   "codemirror_mode": {
    "name": "ipython",
    "version": 3
   },
   "file_extension": ".py",
   "mimetype": "text/x-python",
   "name": "python",
   "nbconvert_exporter": "python",
   "pygments_lexer": "ipython3",
   "version": "3.7.3"
  }
 },
 "nbformat": 4,
 "nbformat_minor": 2
}
