{
 "cells": [
  {
   "cell_type": "code",
   "execution_count": null,
   "metadata": {},
   "outputs": [],
   "source": [
    "# Plotly\n",
    "from plotly.offline import init_notebook_mode, iplot\n",
    "import plotly.graph_objects as go\n",
    "init_notebook_mode(connected=True)"
   ]
  },
  {
   "cell_type": "markdown",
   "metadata": {},
   "source": [
    "# Line Chart"
   ]
  },
  {
   "cell_type": "code",
   "execution_count": null,
   "metadata": {},
   "outputs": [],
   "source": [
    "import numpy as np\n",
    "import pandas as pd\n",
    "\n",
    "from bokeh.sampledata.stocks import AAPL, GOOG, MSFT, IBM"
   ]
  },
  {
   "cell_type": "code",
   "execution_count": null,
   "metadata": {},
   "outputs": [],
   "source": [
    "df_dict = dict()\n",
    "df_dict['AAPL'] = pd.DataFrame.from_dict(AAPL).astype({ 'date': np.datetime64 })\n",
    "df_dict['GOOG'] = pd.DataFrame.from_dict(GOOG).astype({ 'date': np.datetime64 })\n",
    "df_dict['MSFT'] = pd.DataFrame.from_dict(MSFT).astype({ 'date': np.datetime64 })\n",
    "df_dict['IBM'] = pd.DataFrame.from_dict(IBM).astype({ 'date': np.datetime64 })"
   ]
  },
  {
   "cell_type": "code",
   "execution_count": null,
   "metadata": {},
   "outputs": [],
   "source": [
    "data = []\n",
    "for key in df_dict.keys():\n",
    "    df = df_dict[key]\n",
    "    data.append(go.Scattergl(\n",
    "        x = df['date'],\n",
    "        y = df['adj_close'],\n",
    "        mode = 'lines',\n",
    "        name = key,\n",
    "        \n",
    "        # Optional\n",
    "        hovertext=[f'Date Time: {row.date}<br />Price: {row.adj_close}' for row in df.itertuples()],\n",
    "        hoverinfo='text',\n",
    "    ))\n",
    "\n",
    "layout = go.Layout(\n",
    "    title = 'Stock Closing Prices',\n",
    "    xaxis = dict(\n",
    "        title='Date',\n",
    "        gridcolor='rgb(159, 197, 232)'\n",
    "    ),\n",
    "    yaxis = dict(\n",
    "        title='Price',\n",
    "        gridcolor='rgb(159, 197, 232)'\n",
    "    ),\n",
    "    hovermode='x',\n",
    "    showlegend=True,\n",
    "    legend_orientation='h',\n",
    "    plot_bgcolor='rgba(0, 0, 0, 0)'\n",
    ")\n",
    "\n",
    "fig = go.Figure(data=data, layout=layout)\n",
    "fig.update_yaxes(hoverformat=\".5f\")\n",
    "\n",
    "iplot(fig)"
   ]
  },
  {
   "cell_type": "markdown",
   "metadata": {},
   "source": [
    "# Candlestick Chart"
   ]
  },
  {
   "cell_type": "code",
   "execution_count": null,
   "metadata": {},
   "outputs": [],
   "source": [
    "import numpy as np\n",
    "import pandas as pd\n",
    "\n",
    "from bokeh.sampledata.stocks import AAPL"
   ]
  },
  {
   "cell_type": "code",
   "execution_count": null,
   "metadata": {},
   "outputs": [],
   "source": [
    "df = pd.DataFrame.from_dict(AAPL).astype({ 'date': np.datetime64 })"
   ]
  },
  {
   "cell_type": "code",
   "execution_count": null,
   "metadata": {},
   "outputs": [],
   "source": [
    "data = [go.Candlestick(\n",
    "    x = df['date'],\n",
    "    open = df['open'],\n",
    "    high = df['high'],\n",
    "    low = df['low'],\n",
    "    close = df['close'],\n",
    "    name='AAPL'\n",
    ")]\n",
    "\n",
    "layout = go.Layout(\n",
    "    title = 'Apple Stock OHLC',\n",
    "    xaxis = dict(\n",
    "        title='Date',\n",
    "        gridcolor='rgb(159, 197, 232)'\n",
    "    ),\n",
    "    yaxis = dict(\n",
    "        title='Price',\n",
    "        gridcolor='rgb(159, 197, 232)'\n",
    "    ),\n",
    "    hovermode='x',\n",
    "    showlegend=True,\n",
    "    legend_orientation='h',\n",
    "    plot_bgcolor='rgba(0, 0, 0, 0)',\n",
    "    \n",
    "    xaxis_rangeslider_visible=False # Show/Hide range slider\n",
    ")\n",
    "\n",
    "fig = go.Figure(data=data, layout=layout)\n",
    "\n",
    "iplot(fig)"
   ]
  },
  {
   "cell_type": "markdown",
   "metadata": {},
   "source": [
    "# Stacked Area Chart"
   ]
  },
  {
   "cell_type": "code",
   "execution_count": null,
   "metadata": {},
   "outputs": [],
   "source": [
    "import numpy as np\n",
    "import pandas as pd"
   ]
  },
  {
   "cell_type": "code",
   "execution_count": null,
   "metadata": {},
   "outputs": [],
   "source": [
    "N = 5\n",
    "X = 10\n",
    "prefix = 'Y'\n",
    "\n",
    "data = np.random.randint(10, 100, size=(X, N))\n",
    "df = pd.DataFrame(data).add_prefix(prefix)"
   ]
  },
  {
   "cell_type": "code",
   "execution_count": null,
   "metadata": {},
   "outputs": [],
   "source": [
    "data = []\n",
    "for column in df.columns:\n",
    "    data.append(go.Scattergl(\n",
    "        x = df.index,\n",
    "        y = df[column],\n",
    "        mode = 'lines',\n",
    "        name = column,\n",
    "        stackgroup='one' # Define stack group\n",
    "    ))\n",
    "    \n",
    "layout = go.Layout(\n",
    "    title = 'Stacked Area (Value)',\n",
    "    xaxis = dict(\n",
    "        title='X',\n",
    "        gridcolor='rgb(159, 197, 232)'\n",
    "    ),\n",
    "    yaxis = dict(\n",
    "        title='Y',\n",
    "        gridcolor='rgb(159, 197, 232)'\n",
    "    ),\n",
    "    hovermode='x',\n",
    "    showlegend=True,\n",
    "    legend_orientation='h',\n",
    "    plot_bgcolor='rgba(0, 0, 0, 0)'\n",
    ")\n",
    "\n",
    "fig = go.Figure(data=data, layout=layout)\n",
    "fig.layout.legend.traceorder = 'normal' # Ensure legend is in original sequence\n",
    "\n",
    "iplot(fig)"
   ]
  },
  {
   "cell_type": "code",
   "execution_count": null,
   "metadata": {},
   "outputs": [],
   "source": [
    "data = []\n",
    "for column in df.columns:\n",
    "    data.append(go.Scattergl(\n",
    "        x = df.index,\n",
    "        y = df[column],\n",
    "        mode = 'lines',\n",
    "        name = column,\n",
    "        stackgroup='one', # Define stack group\n",
    "        groupnorm='percent' # Normalize into percentage value\n",
    "    ))\n",
    "    \n",
    "layout = go.Layout(\n",
    "    title = 'Stacked Area (Pencentage)',\n",
    "    xaxis = dict(\n",
    "        title='X',\n",
    "        gridcolor='rgb(159, 197, 232)'\n",
    "    ),\n",
    "    yaxis = dict(\n",
    "        title='Y',\n",
    "        gridcolor='rgb(159, 197, 232)',\n",
    "        ticksuffix='%'\n",
    "    ),\n",
    "    hovermode='x',\n",
    "    showlegend=True,\n",
    "    legend_orientation='h',\n",
    "    plot_bgcolor='rgba(0, 0, 0, 0)'\n",
    ")\n",
    "\n",
    "fig = go.Figure(data=data, layout=layout)\n",
    "fig.layout.legend.traceorder = 'normal' # Ensure legend is in original sequence\n",
    "\n",
    "iplot(fig)"
   ]
  },
  {
   "cell_type": "markdown",
   "metadata": {},
   "source": [
    "# Heatmap"
   ]
  },
  {
   "cell_type": "code",
   "execution_count": null,
   "metadata": {},
   "outputs": [],
   "source": [
    "import numpy as np\n",
    "import pandas as pd\n",
    "\n",
    "from bokeh.sampledata.unemployment1948 import data as unemp_df"
   ]
  },
  {
   "cell_type": "code",
   "execution_count": null,
   "metadata": {},
   "outputs": [],
   "source": [
    "unemp_df['Year'] = unemp_df['Year'].astype(int)\n",
    "df = unemp_df.set_index('Year')\n",
    "df.drop('Annual', axis=1, inplace=True)\n",
    "df.columns.name = 'Month'\n",
    "\n",
    "years = list(df.index)\n",
    "months = list(df.columns)\n",
    "\n",
    "# reshape to 1D array or rates with a month and year for each row.\n",
    "df = pd.DataFrame(df.stack(), columns=['rate']).reset_index()"
   ]
  },
  {
   "cell_type": "code",
   "execution_count": null,
   "metadata": {},
   "outputs": [],
   "source": [
    "df.at[df['Month'] == 'Jan', 'Month_Num'] = 1\n",
    "df.at[df['Month'] == 'Feb', 'Month_Num'] = 2\n",
    "df.at[df['Month'] == 'Mar', 'Month_Num'] = 3\n",
    "df.at[df['Month'] == 'Apr', 'Month_Num'] = 4\n",
    "df.at[df['Month'] == 'May', 'Month_Num'] = 5\n",
    "df.at[df['Month'] == 'Jun', 'Month_Num'] = 6\n",
    "df.at[df['Month'] == 'Jul', 'Month_Num'] = 7\n",
    "df.at[df['Month'] == 'Aug', 'Month_Num'] = 8\n",
    "df.at[df['Month'] == 'Sep', 'Month_Num'] = 9\n",
    "df.at[df['Month'] == 'Oct', 'Month_Num'] = 10\n",
    "df.at[df['Month'] == 'Nov', 'Month_Num'] = 11\n",
    "df.at[df['Month'] == 'Dec', 'Month_Num'] = 12\n",
    "\n",
    "# sort month descendingly to ensure it's showing ascendingly at heatmap\n",
    "df.sort_values(by=['Year', 'Month_Num'], ascending=[True, False], inplace=True)"
   ]
  },
  {
   "cell_type": "code",
   "execution_count": null,
   "metadata": {},
   "outputs": [],
   "source": [
    "data = go.Heatmap(\n",
    "    x = df['Year'],\n",
    "    y = df['Month'],\n",
    "    z = df['rate'],\n",
    "    colorscale='Reds'\n",
    ")\n",
    "\n",
    "layout = go.Layout(\n",
    "    title = f'US Unemployment ({years[0]} - {years[-1]})',\n",
    "    xaxis = dict(\n",
    "        title='',\n",
    "        gridcolor='rgb(159, 197, 232)',\n",
    "        side='top', # labels position\n",
    "        tickangle=-90, # labels rotation\n",
    "        nticks=len(years) # No. of labels\n",
    "    ),\n",
    "    yaxis = dict(\n",
    "        title='',\n",
    "        gridcolor='rgb(159, 197, 232)',\n",
    "    ),\n",
    "    plot_bgcolor='rgba(0, 0, 0, 0)'\n",
    ")\n",
    "\n",
    "fig = go.Figure(data=data, layout=layout)\n",
    "\n",
    "iplot(fig)"
   ]
  },
  {
   "cell_type": "markdown",
   "metadata": {},
   "source": [
    "# Linked Grid Plot"
   ]
  },
  {
   "cell_type": "code",
   "execution_count": null,
   "metadata": {},
   "outputs": [],
   "source": [
    "import numpy as np\n",
    "\n",
    "from plotly.subplots import make_subplots"
   ]
  },
  {
   "cell_type": "code",
   "execution_count": null,
   "metadata": {},
   "outputs": [],
   "source": [
    "N = 4\n",
    "X = 10\n",
    "x_range = [x for x in range(X)]\n",
    "y_range = np.random.randint(10, 50, size=(1, X)).reshape(-1)"
   ]
  },
  {
   "cell_type": "code",
   "execution_count": null,
   "metadata": {
    "scrolled": false
   },
   "outputs": [],
   "source": [
    "marker_dict = dict()\n",
    "marker_dict['circle'] = 0\n",
    "marker_dict['square'] = 1\n",
    "marker_dict['diamond'] = 2\n",
    "marker_dict['cross'] = 3\n",
    "marker_dict['x'] = 4\n",
    "marker_dict['triangle-up'] = 5\n",
    "marker_dict['triangle-down'] = 6\n",
    "marker_dict['triangle-left'] = 7\n",
    "marker_dict['triangle-right'] = 8\n",
    "marker_dict['triangle-ne'] = 9\n",
    "marker_dict['triangle-se'] = 10\n",
    "marker_dict['triangle-sw'] = 11\n",
    "marker_dict['triangle-nw'] = 12\n",
    "marker_dict['pentagon'] = 13\n",
    "marker_dict['hexagon'] = 14\n",
    "marker_dict['hexagon2'] = 15\n",
    "marker_dict['octagon'] = 16\n",
    "marker_dict['star'] = 17\n",
    "marker_dict['hexagram'] = 18\n",
    "marker_dict['star-triangle-up'] = 19\n",
    "marker_dict['star-triangle-down'] = 20\n",
    "marker_dict['star-square'] = 21\n",
    "marker_dict['star-diamond'] = 22\n",
    "marker_dict['diamond-tall'] = 23\n",
    "marker_dict['diamond-wide'] = 24\n",
    "marker_dict['hourglass'] = 25\n",
    "marker_dict['bowtie'] = 26\n",
    "marker_dict['circle-cross'] = 27\n",
    "marker_dict['circle-x'] = 28\n",
    "marker_dict['square-cross'] = 29\n",
    "marker_dict['square-x'] = 30\n",
    "marker_dict['diamond-cross'] = 31\n",
    "marker_dict['diamond-x'] = 32\n",
    "marker_dict['cross-thin'] = 33\n",
    "marker_dict['x-thin'] = 34\n",
    "marker_dict['asterisk'] = 35\n",
    "marker_dict['hash'] = 36\n",
    "marker_dict['y-up'] = 37\n",
    "marker_dict['y-down'] = 38\n",
    "marker_dict['y-left'] = 39\n",
    "marker_dict['y-right'] = 40\n",
    "marker_dict['line-ew'] = 41\n",
    "marker_dict['line-ns'] = 42\n",
    "marker_dict['line-ne'] = 43\n",
    "marker_dict['line-nw'] = 44\n",
    "\n",
    "data = []\n",
    "subplot_titles = []\n",
    "for key in marker_dict.keys():\n",
    "    data.append(go.Scattergl(\n",
    "        x = x_range,\n",
    "        y = y_range,\n",
    "        mode = 'markers',\n",
    "        name = key,\n",
    "        marker = dict(\n",
    "            symbol=marker_dict[key],\n",
    "            size=15,\n",
    "            line=dict(\n",
    "                width=1.5\n",
    "            )\n",
    "        )\n",
    "    ))\n",
    "    subplot_titles.append(key)\n",
    "\n",
    "cols = 3\n",
    "rows = round(len(marker_dict.keys()) / cols)\n",
    "fig = make_subplots(rows=rows, cols=cols, subplot_titles=subplot_titles, vertical_spacing=0.25/rows)\n",
    "for index, scatter in enumerate(data):\n",
    "    col = index+1\n",
    "    \n",
    "    if col <= cols:\n",
    "        row = 1\n",
    "    else:\n",
    "        quotient = int(col / cols)\n",
    "        col -= (cols * quotient)\n",
    "        if col == 0:\n",
    "            col = cols\n",
    "        elif col == 1:\n",
    "            row += 1\n",
    "    \n",
    "    fig.add_trace(scatter, row=row, col=col)\n",
    "\n",
    "fig.update_layout(showlegend=False, height=len(marker_dict.keys()) * 85)\n",
    "\n",
    "iplot(fig)"
   ]
  },
  {
   "cell_type": "code",
   "execution_count": null,
   "metadata": {},
   "outputs": [],
   "source": []
  }
 ],
 "metadata": {
  "kernelspec": {
   "display_name": "Python 3",
   "language": "python",
   "name": "python3"
  },
  "language_info": {
   "codemirror_mode": {
    "name": "ipython",
    "version": 3
   },
   "file_extension": ".py",
   "mimetype": "text/x-python",
   "name": "python",
   "nbconvert_exporter": "python",
   "pygments_lexer": "ipython3",
   "version": "3.7.3"
  }
 },
 "nbformat": 4,
 "nbformat_minor": 2
}
