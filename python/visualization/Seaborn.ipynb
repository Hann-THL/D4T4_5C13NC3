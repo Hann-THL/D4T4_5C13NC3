{
 "cells": [
  {
   "cell_type": "code",
   "execution_count": null,
   "metadata": {},
   "outputs": [],
   "source": [
    "import seaborn as sns\n",
    "import matplotlib.pyplot as plt"
   ]
  },
  {
   "cell_type": "markdown",
   "metadata": {},
   "source": [
    "# Statistical Relationship Plot"
   ]
  },
  {
   "cell_type": "code",
   "execution_count": null,
   "metadata": {},
   "outputs": [],
   "source": [
    "df = sns.load_dataset('flights')\n",
    "sns.relplot(data=df, x='passengers', y='month', hue='year', height=5) #.savefig('relplot.png')"
   ]
  },
  {
   "cell_type": "markdown",
   "metadata": {},
   "source": [
    "# Categorical Plot"
   ]
  },
  {
   "cell_type": "code",
   "execution_count": null,
   "metadata": {},
   "outputs": [],
   "source": [
    "df = sns.load_dataset('tips')\n",
    "sns.catplot(data=df, x='day', y='total_bill', hue='sex', alpha=.5) #.savefig('catplot - scatter.png')\n",
    "sns.catplot(data=df, x='day', y='total_bill', hue='sex', kind='violin') #.savefig('catplot - violin.png')\n",
    "sns.catplot(data=df, x='day', y='total_bill', hue='sex', kind='box') #.savefig('catplot - box.png')"
   ]
  },
  {
   "cell_type": "markdown",
   "metadata": {},
   "source": [
    "# Grid Plot"
   ]
  },
  {
   "cell_type": "code",
   "execution_count": null,
   "metadata": {},
   "outputs": [],
   "source": [
    "df = sns.load_dataset('iris')\n",
    "sns.FacetGrid(df, col='species').map(plt.hist, 'sepal_length') #.savefig('facetgrid.png')"
   ]
  },
  {
   "cell_type": "code",
   "execution_count": null,
   "metadata": {
    "scrolled": false
   },
   "outputs": [],
   "source": [
    "df = sns.load_dataset('iris')\n",
    "sns.PairGrid(df, hue='species')\\\n",
    ".map_diag(sns.distplot, hist=False)\\\n",
    ".map_upper(plt.scatter, alpha=.5)\\\n",
    ".map_lower(sns.kdeplot)\\\n",
    ".add_legend() #.savefig('pairgrid.png')\n",
    "\n",
    "# Use map_offdialog() if both map_upper() & map_upper() are same\n",
    "# .map_offdiag(plt.scatter, alpha=.5)\\"
   ]
  },
  {
   "cell_type": "code",
   "execution_count": null,
   "metadata": {},
   "outputs": [],
   "source": [
    "df = sns.load_dataset('flights')\n",
    "df = df.pivot('month', 'year', 'passengers')\n",
    "sns.heatmap(df, linewidths=1) #.get_figure().savefig('heatmap.png')"
   ]
  },
  {
   "cell_type": "code",
   "execution_count": null,
   "metadata": {
    "scrolled": false
   },
   "outputs": [],
   "source": [
    "df = sns.load_dataset('flights')\n",
    "df = df.pivot('month', 'year', 'passengers')\n",
    "sns.clustermap(df, linewidths=1) #.savefig('clustermap.png')\n",
    "sns.clustermap(df, linewidths=1, col_cluster=False) #.savefig('clustermap - row.png')\n",
    "sns.clustermap(df, linewidths=1, row_cluster=False) #.savefig('clustermap - col.png')"
   ]
  },
  {
   "cell_type": "code",
   "execution_count": null,
   "metadata": {},
   "outputs": [],
   "source": []
  }
 ],
 "metadata": {
  "kernelspec": {
   "display_name": "Python 3",
   "language": "python",
   "name": "python3"
  },
  "language_info": {
   "codemirror_mode": {
    "name": "ipython",
    "version": 3
   },
   "file_extension": ".py",
   "mimetype": "text/x-python",
   "name": "python",
   "nbconvert_exporter": "python",
   "pygments_lexer": "ipython3",
   "version": "3.7.3"
  }
 },
 "nbformat": 4,
 "nbformat_minor": 2
}
