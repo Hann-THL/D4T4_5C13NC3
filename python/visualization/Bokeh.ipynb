{
 "cells": [
  {
   "cell_type": "code",
   "execution_count": null,
   "metadata": {},
   "outputs": [],
   "source": [
    "import itertools\n",
    "\n",
    "# Bokeh\n",
    "from bokeh.plotting import figure, ColumnDataSource\n",
    "from bokeh.models import Legend, HoverTool\n",
    "from bokeh.palettes import Set1, Category10, Category20\n",
    "from bokeh.io import show, output_notebook\n",
    "output_notebook()"
   ]
  },
  {
   "cell_type": "markdown",
   "metadata": {},
   "source": [
    "# Line Chart"
   ]
  },
  {
   "cell_type": "code",
   "execution_count": null,
   "metadata": {},
   "outputs": [],
   "source": [
    "import numpy as np\n",
    "import pandas as pd\n",
    "\n",
    "from bokeh.sampledata.stocks import AAPL, GOOG, MSFT, IBM"
   ]
  },
  {
   "cell_type": "code",
   "execution_count": null,
   "metadata": {},
   "outputs": [],
   "source": [
    "df_dict = dict()\n",
    "df_dict['AAPL'] = pd.DataFrame.from_dict(AAPL).astype({ 'date': np.datetime64 })\n",
    "df_dict['GOOG'] = pd.DataFrame.from_dict(GOOG).astype({ 'date': np.datetime64 })\n",
    "df_dict['MSFT'] = pd.DataFrame.from_dict(MSFT).astype({ 'date': np.datetime64 })\n",
    "df_dict['IBM'] = pd.DataFrame.from_dict(IBM).astype({ 'date': np.datetime64 })"
   ]
  },
  {
   "cell_type": "code",
   "execution_count": null,
   "metadata": {},
   "outputs": [],
   "source": [
    "palette = Set1\n",
    "palette_colors = itertools.cycle(palette[max(palette.keys())])\n",
    "\n",
    "fig = figure(title='Stock Closing Prices',\n",
    "             x_axis_type='datetime',\n",
    "             x_axis_label='Date', y_axis_label='Price',\n",
    "             width=950, height=500,\n",
    "             toolbar_location='above')\n",
    "\n",
    "items = []\n",
    "for key in df_dict.keys():\n",
    "    df = df_dict[key]\n",
    "    \n",
    "    source = ColumnDataSource(data=dict(\n",
    "        dates=df['date'],\n",
    "        prices=df['adj_close'],\n",
    "    ))\n",
    "    glyph = fig.line('dates', 'prices', color=next(palette_colors), source=source)\n",
    "    items.append((key, [glyph]))\n",
    "    \n",
    "fig.add_layout(Legend(items=items, location='bottom_left', orientation='horizontal', click_policy='hide'), 'below')\n",
    "fig.add_tools(HoverTool(\n",
    "    tooltips = [\n",
    "        ('Date', '@dates{%F}'),\n",
    "        ('Price', '@prices{0.00000}'),\n",
    "    ],\n",
    "    formatters={\n",
    "        'dates': 'datetime',\n",
    "    },\n",
    "    mode='vline'\n",
    "))\n",
    "show(fig)"
   ]
  },
  {
   "cell_type": "markdown",
   "metadata": {},
   "source": [
    "# Candlestick Chart"
   ]
  },
  {
   "cell_type": "code",
   "execution_count": null,
   "metadata": {},
   "outputs": [],
   "source": [
    "import numpy as np\n",
    "import pandas as pd\n",
    "\n",
    "from bokeh.sampledata.stocks import AAPL"
   ]
  },
  {
   "cell_type": "code",
   "execution_count": null,
   "metadata": {},
   "outputs": [],
   "source": [
    "df = pd.DataFrame.from_dict(AAPL).astype({ 'date': np.datetime64 })"
   ]
  },
  {
   "cell_type": "code",
   "execution_count": null,
   "metadata": {},
   "outputs": [],
   "source": [
    "olch_indexes = df['close'] > df['open']\n",
    "ohcl_indexes = df['close'] <= df['open']\n",
    "candle_width = 12 * 60 * 60 * 1000 # half day in ms\n",
    "\n",
    "fig = figure(title='Apple Stock OHLC',\n",
    "             x_axis_type='datetime',\n",
    "             x_axis_label='Date', y_axis_label='Price',\n",
    "             width=950, height=500,\n",
    "             toolbar_location='above')\n",
    "\n",
    "items = []\n",
    "labels = ['Open-Low', 'Open-High']\n",
    "colors = ['#F8F8FF', '#3EF250']\n",
    "dates = df['date']\n",
    "\n",
    "glyph = fig.segment(dates, df['high'], dates, df['low'], color='black')\n",
    "items.append(('High-Low', [glyph]))\n",
    "\n",
    "for index, indexes in enumerate([olch_indexes, ohcl_indexes]):\n",
    "    source = ColumnDataSource(data=dict(\n",
    "        dates=[x for x in dates[indexes]],\n",
    "        open=df['open'][indexes],\n",
    "        close=df['close'][indexes],\n",
    "        high=df['high'][indexes],\n",
    "        low=df['low'][indexes],\n",
    "    ))\n",
    "\n",
    "    glyph = fig.vbar('dates', candle_width, 'open', 'close', fill_color=colors[index], line_color='black', source=source)\n",
    "    items.append((labels[index], [glyph]))\n",
    "    \n",
    "fig.add_layout(Legend(items=items, location='bottom_left', orientation='horizontal', click_policy='hide'), 'below')\n",
    "fig.add_tools(HoverTool(\n",
    "    tooltips = [\n",
    "        ('Date Time', '@dates{%F %H:%M:%S}'),\n",
    "        ('Open', '@open{0.00000}'),\n",
    "        ('High', '@high{0.00000}'),\n",
    "        ('Low', '@low{0.00000}'),\n",
    "        ('Close', '@close{0.00000}'),\n",
    "    ],\n",
    "    formatters={\n",
    "        'dates': 'datetime',\n",
    "    },\n",
    "    mode='vline'\n",
    "))\n",
    "show(fig)"
   ]
  },
  {
   "cell_type": "markdown",
   "metadata": {},
   "source": [
    "# Stacked Area Chart"
   ]
  },
  {
   "cell_type": "code",
   "execution_count": null,
   "metadata": {},
   "outputs": [],
   "source": [
    "import numpy as np\n",
    "import pandas as pd\n",
    "\n",
    "from bokeh.core.properties import value"
   ]
  },
  {
   "cell_type": "code",
   "execution_count": null,
   "metadata": {},
   "outputs": [],
   "source": [
    "N = 5\n",
    "X = 10\n",
    "prefix = 'Y'\n",
    "\n",
    "data = np.random.randint(10, 100, size=(X, N))\n",
    "df = pd.DataFrame(data).add_prefix(prefix)"
   ]
  },
  {
   "cell_type": "code",
   "execution_count": null,
   "metadata": {},
   "outputs": [],
   "source": [
    "palette = Category20\n",
    "palette_colors = palette[N]\n",
    "\n",
    "fig = figure(title='Stacked Area',\n",
    "             x_axis_label='X', y_axis_label='Y',\n",
    "             width=950, height=500,\n",
    "             toolbar_location='above')\n",
    "\n",
    "source = ColumnDataSource(data=df)\n",
    "\n",
    "stackers = [f'{prefix}{i}' for i in range(N)]\n",
    "fig.varea_stack(stackers=stackers, x='index', color=palette_colors, legend=[value(x) for x in stackers], source=source)\n",
    "\n",
    "fig.y_range.start = 0\n",
    "fig.x_range.range_padding = 0.01\n",
    "\n",
    "legend = fig.legend[0]\n",
    "legend.visible = False\n",
    "fig.add_layout(Legend(items=legend.items, location='bottom_left', orientation='horizontal', click_policy='hide'), 'below')\n",
    "show(fig)"
   ]
  },
  {
   "cell_type": "markdown",
   "metadata": {},
   "source": [
    "# Stacked Bar Chart"
   ]
  },
  {
   "cell_type": "code",
   "execution_count": null,
   "metadata": {},
   "outputs": [],
   "source": [
    "from bokeh.core.properties import value"
   ]
  },
  {
   "cell_type": "code",
   "execution_count": null,
   "metadata": {},
   "outputs": [],
   "source": [
    "fruits = ['Apples', 'Pears', 'Nectarines', 'Plums', 'Grapes', 'Strawberries']\n",
    "years = ['2015', '2016', '2017']\n",
    "values = [\n",
    "    [2, 1, 4, 3, 2, 4],\n",
    "    [5, 3, 4, 2, 4, 6],\n",
    "    [3, 2, 4, 4, 5, 3]\n",
    "]"
   ]
  },
  {
   "cell_type": "code",
   "execution_count": null,
   "metadata": {},
   "outputs": [],
   "source": [
    "palette = Category20\n",
    "palette_colors = palette[len(years)]\n",
    "\n",
    "fig = figure(title='Stacked Bar',\n",
    "             x_axis_label='X', y_axis_label='Y',\n",
    "             width=950, height=500,\n",
    "             toolbar_location='above',\n",
    "             tooltips=f'$name @fruits: @$name',\n",
    "             x_range=fruits)\n",
    "\n",
    "data_dict = dict()\n",
    "data_dict['fruits'] = fruits\n",
    "for index, year in enumerate(years):\n",
    "    data_dict[year] = values[index]\n",
    "    \n",
    "source = ColumnDataSource(data=data_dict)\n",
    "    \n",
    "fig.vbar_stack(years, x='fruits', width=0.9, color=palette_colors, source=source,\n",
    "               legend=[value(x) for x in years])\n",
    "\n",
    "fig.y_range.start = 0\n",
    "fig.x_range.range_padding = 0.01\n",
    "\n",
    "legend = fig.legend[0]\n",
    "legend.visible = False\n",
    "fig.add_layout(Legend(items=legend.items, location='bottom_left', orientation='horizontal', click_policy='hide'), 'below')\n",
    "show(fig)"
   ]
  },
  {
   "cell_type": "markdown",
   "metadata": {},
   "source": [
    "# Heatmap"
   ]
  },
  {
   "cell_type": "code",
   "execution_count": null,
   "metadata": {},
   "outputs": [],
   "source": [
    "import numpy as np\n",
    "import pandas as pd\n",
    "\n",
    "from bokeh.models import LinearColorMapper, BasicTicker, PrintfTickFormatter, ColorBar\n",
    "from bokeh.sampledata.unemployment1948 import data as unemp_df\n",
    "from bokeh.palettes import Reds, Greens, Blues"
   ]
  },
  {
   "cell_type": "code",
   "execution_count": null,
   "metadata": {},
   "outputs": [],
   "source": [
    "unemp_df['Year'] = unemp_df['Year'].astype(str)\n",
    "df = unemp_df.set_index('Year')\n",
    "df.drop('Annual', axis=1, inplace=True)\n",
    "df.columns.name = 'Month'\n",
    "\n",
    "years = list(df.index)\n",
    "months = list(df.columns)\n",
    "\n",
    "# reshape to 1D array or rates with a month and year for each row.\n",
    "df = pd.DataFrame(df.stack(), columns=['rate']).reset_index()"
   ]
  },
  {
   "cell_type": "code",
   "execution_count": null,
   "metadata": {},
   "outputs": [],
   "source": [
    "palette = Reds\n",
    "palette_colors = np.flip(palette[max(palette.keys())])\n",
    "mapper = LinearColorMapper(palette=palette_colors, low=df.rate.min(), high=df.rate.max())\n",
    "\n",
    "fig = figure(title=f'US Unemployment ({years[0]} - {years[-1]})',\n",
    "             width=950, height=500,\n",
    "             toolbar_location='above',\n",
    "             x_axis_location=\"above\",\n",
    "             x_range=years, y_range=np.flip(months),\n",
    "             tooltips=[('date', '@Month @Year'), ('rate', '@rate%')])\n",
    "\n",
    "fig.rect(x=\"Year\", y=\"Month\", width=1, height=1,\n",
    "         fill_color={'field': 'rate', 'transform': mapper},\n",
    "         line_color=None, source=df)\n",
    "\n",
    "fig.axis.axis_line_color = None\n",
    "fig.xaxis.major_label_orientation = np.pi / 3\n",
    "\n",
    "color_bar = ColorBar(color_mapper=mapper,\n",
    "                     major_label_text_font_size=\"8pt\", label_standoff=8,\n",
    "                     border_line_color=None, location=(0, 0),\n",
    "                     ticker=BasicTicker(desired_num_ticks=len(colors)),\n",
    "                     formatter=PrintfTickFormatter(format=\"%d%%\"))\n",
    "fig.add_layout(color_bar, 'right')\n",
    "show(fig)"
   ]
  },
  {
   "cell_type": "markdown",
   "metadata": {},
   "source": [
    "# Linked Grid Plot"
   ]
  },
  {
   "cell_type": "code",
   "execution_count": null,
   "metadata": {},
   "outputs": [],
   "source": [
    "import numpy as np\n",
    "\n",
    "from bokeh.layouts import gridplot"
   ]
  },
  {
   "cell_type": "code",
   "execution_count": null,
   "metadata": {},
   "outputs": [],
   "source": [
    "N = 4\n",
    "X = 10\n",
    "x_range = [x for x in range(X)]\n",
    "y_range = np.random.randint(10, 50, size=(1, X)).reshape(-1)"
   ]
  },
  {
   "cell_type": "code",
   "execution_count": null,
   "metadata": {
    "scrolled": false
   },
   "outputs": [],
   "source": [
    "palette = Category10\n",
    "palette_colors = itertools.cycle(palette[max(palette.keys())])\n",
    "\n",
    "markers = ['circle', 'circle_x', 'circle_cross', 'square', 'square_cross', 'square_x',\n",
    "           'diamond', 'diamond_cross', 'triangle', 'inverted_triangle',\n",
    "           'hex', 'asterisk', 'cross', 'dash', 'x']\n",
    "\n",
    "size = 15\n",
    "alpha = .5\n",
    "line_color='black'\n",
    "\n",
    "fig_dict = dict()\n",
    "for index, marker in enumerate(markers):\n",
    "    color = next(palette_colors)\n",
    "    fig = figure(title=marker)\n",
    "    \n",
    "    source = ColumnDataSource(data=dict(\n",
    "        x_range=x_range,\n",
    "        y_range=y_range,\n",
    "    ))\n",
    "    \n",
    "    if index == 0:\n",
    "        fig.circle('x_range', 'y_range', size=size, color=color, alpha=alpha, line_color=line_color, source=source)\n",
    "        \n",
    "    elif index == 1:\n",
    "        fig.circle_x('x_range', 'y_range', size=size, color=color, alpha=alpha, line_color=line_color, source=source)\n",
    "        \n",
    "    elif index == 2:\n",
    "        fig.circle_cross('x_range', 'y_range', size=size, color=color, alpha=alpha, line_color=line_color, source=source)\n",
    "        \n",
    "    elif index == 3:\n",
    "        fig.square('x_range', 'y_range', size=size, color=color, alpha=alpha, line_color=line_color, source=source)\n",
    "        \n",
    "    elif index == 4:\n",
    "        fig.square_cross('x_range', 'y_range', size=size, color=color, alpha=alpha, line_color=line_color, source=source)\n",
    "        \n",
    "    elif index == 5:\n",
    "        fig.square_x('x_range', 'y_range', size=size, color=color, alpha=alpha, line_color=line_color, source=source)\n",
    "        \n",
    "    elif index == 6:\n",
    "        fig.diamond('x_range', 'y_range', size=size, color=color, alpha=alpha, line_color=line_color, source=source)\n",
    "        \n",
    "    elif index == 7:\n",
    "        fig.diamond_cross('x_range', 'y_range', size=size, color=color, alpha=alpha, line_color=line_color, source=source)\n",
    "        \n",
    "    elif index == 8:\n",
    "        fig.triangle('x_range', 'y_range', size=size, color=color, alpha=alpha, line_color=line_color, source=source)\n",
    "        \n",
    "    elif index == 9:\n",
    "        fig.inverted_triangle('x_range', 'y_range', size=size, color=color, alpha=alpha, line_color=line_color, source=source)\n",
    "        \n",
    "    elif index == 10:\n",
    "        fig.hex('x_range', 'y_range', size=size, color=color, alpha=alpha, line_color=line_color, source=source)\n",
    "        \n",
    "    elif index == 11:\n",
    "        fig.asterisk('x_range', 'y_range', size=size, color=color, alpha=alpha, line_color=line_color, source=source)\n",
    "        \n",
    "    elif index == 12:\n",
    "        fig.cross('x_range', 'y_range', size=size, color=color, alpha=alpha, line_color=line_color, source=source)\n",
    "        \n",
    "    elif index == 13:\n",
    "        fig.dash('x_range', 'y_range', size=size, color=color, alpha=alpha, line_color=line_color, source=source)\n",
    "        \n",
    "    elif index == 14:\n",
    "        fig.x('x_range', 'y_range', size=size, color=color, alpha=alpha, line_color=line_color, source=source)\n",
    "    \n",
    "    fig.add_tools(HoverTool(\n",
    "        tooltips = [\n",
    "            ('index', '$index'),\n",
    "            ('x', '$x'),\n",
    "            ('y', '$y'),\n",
    "            ('x_range', '@x_range'),\n",
    "            ('y_range', '@y_range'),\n",
    "        ],\n",
    "        mode='vline'\n",
    "    ))\n",
    "    fig_dict[marker] = fig\n",
    "\n",
    "\n",
    "fig_list = [x for x in fig_dict.values()]\n",
    "fig_list1 = fig_list[:6]\n",
    "fig_list2 = fig_list[6:10]\n",
    "fig_list3 = fig_list[10:]\n",
    "\n",
    "for list_index, fig_list in enumerate([fig_list1, fig_list2, fig_list3]):\n",
    "    # link plot\n",
    "    for fig_index, fig in enumerate(fig_list):\n",
    "        if fig_index == 0:\n",
    "            continue\n",
    "            \n",
    "        prev_fig = fig_list[fig_index - 1]\n",
    "        fig.x_range = prev_fig.x_range\n",
    "        fig.y_range = prev_fig.y_range\n",
    "        \n",
    "    # grid plot\n",
    "    ncols = 2 if list_index == 1 else 3\n",
    "    grid = gridplot(fig_list, ncols=ncols, plot_width=250, plot_height=250)\n",
    "    show(grid)"
   ]
  },
  {
   "cell_type": "code",
   "execution_count": null,
   "metadata": {},
   "outputs": [],
   "source": []
  }
 ],
 "metadata": {
  "kernelspec": {
   "display_name": "Python 3",
   "language": "python",
   "name": "python3"
  },
  "language_info": {
   "codemirror_mode": {
    "name": "ipython",
    "version": 3
   },
   "file_extension": ".py",
   "mimetype": "text/x-python",
   "name": "python",
   "nbconvert_exporter": "python",
   "pygments_lexer": "ipython3",
   "version": "3.7.3"
  }
 },
 "nbformat": 4,
 "nbformat_minor": 2
}
