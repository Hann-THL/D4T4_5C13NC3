{
 "cells": [
  {
   "cell_type": "markdown",
   "metadata": {},
   "source": [
    "Refrence:\n",
    "- https://machinelearningmastery.com/feature-selection-with-categorical-data/\n",
    "- https://www.youtube.com/watch?v=xlHk4okO8Ls\n",
    "- https://towardsdatascience.com/multi-class-metrics-made-simple-part-ii-the-f1-score-ebe8b2c2ca1"
   ]
  },
  {
   "cell_type": "code",
   "execution_count": null,
   "metadata": {},
   "outputs": [],
   "source": [
    "import pandas as pd\n",
    "\n",
    "from sklearn.model_selection import train_test_split\n",
    "from sklearn.preprocessing import OrdinalEncoder, LabelEncoder\n",
    "\n",
    "from sklearn.feature_selection import SelectKBest, chi2\n",
    "from sklearn.feature_selection import RFE, RFECV\n",
    "from sklearn.model_selection import StratifiedKFold\n",
    "from sklearn.ensemble import ExtraTreesClassifier\n",
    "\n",
    "from sklearn.linear_model import LogisticRegression # For categorical outputs only (classification)\n",
    "from sklearn.metrics import classification_report, confusion_matrix\n",
    "\n",
    "from plotly.offline import init_notebook_mode, iplot\n",
    "import plotly.express as px\n",
    "init_notebook_mode(connected=True)"
   ]
  },
  {
   "cell_type": "markdown",
   "metadata": {},
   "source": [
    "# Data Loading"
   ]
  },
  {
   "cell_type": "code",
   "execution_count": null,
   "metadata": {},
   "outputs": [],
   "source": [
    "# Load dataset\n",
    "df = pd.read_csv('resources/data/breast-cancer.csv', header=None,\n",
    "                 names=['age', 'menopause', 'tumor_size', 'inv_nodes', 'node_caps',\n",
    "                        'deg_malig', 'breast', 'breast_quad', 'irradiat', 'class'])\n",
    "df.shape"
   ]
  },
  {
   "cell_type": "code",
   "execution_count": null,
   "metadata": {},
   "outputs": [],
   "source": [
    "df.isna().any()"
   ]
  },
  {
   "cell_type": "code",
   "execution_count": null,
   "metadata": {},
   "outputs": [],
   "source": [
    "df.dropna(inplace=True)\n",
    "df.shape"
   ]
  },
  {
   "cell_type": "markdown",
   "metadata": {},
   "source": [
    "# Categorical Values Distribution"
   ]
  },
  {
   "cell_type": "code",
   "execution_count": null,
   "metadata": {},
   "outputs": [],
   "source": [
    "df['age'].value_counts()"
   ]
  },
  {
   "cell_type": "code",
   "execution_count": null,
   "metadata": {},
   "outputs": [],
   "source": [
    "df['menopause'].value_counts()"
   ]
  },
  {
   "cell_type": "code",
   "execution_count": null,
   "metadata": {},
   "outputs": [],
   "source": [
    "df['tumor_size'].value_counts()"
   ]
  },
  {
   "cell_type": "code",
   "execution_count": null,
   "metadata": {},
   "outputs": [],
   "source": [
    "df['inv_nodes'].value_counts()"
   ]
  },
  {
   "cell_type": "code",
   "execution_count": null,
   "metadata": {},
   "outputs": [],
   "source": [
    "df['node_caps'].value_counts()"
   ]
  },
  {
   "cell_type": "code",
   "execution_count": null,
   "metadata": {},
   "outputs": [],
   "source": [
    "df['deg_malig'].value_counts()"
   ]
  },
  {
   "cell_type": "code",
   "execution_count": null,
   "metadata": {},
   "outputs": [],
   "source": [
    "df['breast'].value_counts()"
   ]
  },
  {
   "cell_type": "code",
   "execution_count": null,
   "metadata": {},
   "outputs": [],
   "source": [
    "df['breast_quad'].value_counts()"
   ]
  },
  {
   "cell_type": "code",
   "execution_count": null,
   "metadata": {},
   "outputs": [],
   "source": [
    "df['irradiat'].value_counts()"
   ]
  },
  {
   "cell_type": "code",
   "execution_count": null,
   "metadata": {},
   "outputs": [],
   "source": [
    "df['class'].value_counts()"
   ]
  },
  {
   "cell_type": "markdown",
   "metadata": {},
   "source": [
    "# Categorical Encoding"
   ]
  },
  {
   "cell_type": "code",
   "execution_count": null,
   "metadata": {},
   "outputs": [],
   "source": [
    "x_columns = [x for x in df.columns if x != 'class']\n",
    "X = df[x_columns].values\n",
    "y = df['class'].values\n",
    "\n",
    "X = OrdinalEncoder().fit_transform(X)\n",
    "y = LabelEncoder().fit_transform(y)"
   ]
  },
  {
   "cell_type": "markdown",
   "metadata": {},
   "source": [
    "# Train-Test Split"
   ]
  },
  {
   "cell_type": "code",
   "execution_count": null,
   "metadata": {},
   "outputs": [],
   "source": [
    "X_train, X_test, y_train, y_test = train_test_split(X, y, test_size=0.33, random_state=1)\n",
    "\n",
    "print('Train:', X_train.shape, y_train.shape)\n",
    "print('Test:', X_test.shape, y_test.shape)"
   ]
  },
  {
   "cell_type": "markdown",
   "metadata": {},
   "source": [
    "# Evaluation"
   ]
  },
  {
   "cell_type": "code",
   "execution_count": null,
   "metadata": {},
   "outputs": [],
   "source": [
    "def evaluate(model, x, y):\n",
    "    y_pred = model.predict(x)\n",
    "    cofmat_df = pd.DataFrame(confusion_matrix(y, y_pred))\n",
    "    cofmat_df.index.name = 'True'\n",
    "    cofmat_df.columns.name = 'Pred'\n",
    "    \n",
    "    print(cofmat_df)\n",
    "    print()\n",
    "    print(classification_report(y, y_pred, digits=5))"
   ]
  },
  {
   "cell_type": "code",
   "execution_count": null,
   "metadata": {},
   "outputs": [],
   "source": [
    "lr_model = LogisticRegression()\n",
    "lr_model = lr_model.fit(X_train, y_train)\n",
    "evaluate(lr_model, X_test, y_test)"
   ]
  },
  {
   "cell_type": "markdown",
   "metadata": {},
   "source": [
    "# Feature Selection"
   ]
  },
  {
   "cell_type": "markdown",
   "metadata": {},
   "source": [
    "### Chi-Square"
   ]
  },
  {
   "cell_type": "markdown",
   "metadata": {},
   "source": [
    "- Pearson’s chi-squared statistical hypothesis test is an example of a test for independence between categorical variables.\n",
    "- The results of this test can be used for feature selection, where those features that are independent of the target variable can be removed from the dataset.\n",
    "- Reference:\n",
    "  - https://machinelearningmastery.com/chi-squared-test-for-machine-learning/\n",
    "  - https://www.statisticshowto.datasciencecentral.com/probability-and-statistics/chi-square/"
   ]
  },
  {
   "cell_type": "code",
   "execution_count": null,
   "metadata": {},
   "outputs": [],
   "source": [
    "fs = SelectKBest(score_func=chi2, k='all')\n",
    "fs.fit(X_train, y_train)\n",
    "\n",
    "tmp_df = pd.DataFrame({\n",
    "    'feature': x_columns,\n",
    "    'score': fs.scores_\n",
    "})\n",
    "fig = px.bar(tmp_df, x='feature', y='score')\n",
    "fig.update_layout(height=300)\n",
    "fig.show()\n",
    "\n",
    "# Feature inv_nodes is most relevant as it's having highest score, followed by node_caps, irradiat, deg_malig, tumor_size, and breast_quad etc.\n",
    "# For experiment purpose, we select top 6 features\n",
    "fs = SelectKBest(score_func=chi2, k=6)\n",
    "fs.fit(X_train, y_train)\n",
    "\n",
    "X_train_fs = fs.transform(X_train)\n",
    "X_test_fs = fs.transform(X_test)\n",
    "\n",
    "X_train_fs.shape, X_test_fs.shape"
   ]
  },
  {
   "cell_type": "code",
   "execution_count": null,
   "metadata": {},
   "outputs": [],
   "source": [
    "lr_model = LogisticRegression()\n",
    "lr_model = lr_model.fit(X_train_fs, y_train)\n",
    "evaluate(lr_model, X_test_fs, y_test)"
   ]
  },
  {
   "cell_type": "markdown",
   "metadata": {},
   "source": [
    "### Recursive Feature Elimination"
   ]
  },
  {
   "cell_type": "markdown",
   "metadata": {},
   "source": [
    "- Removes N weakest features recursively, until the specified number of features is reached."
   ]
  },
  {
   "cell_type": "code",
   "execution_count": null,
   "metadata": {},
   "outputs": [],
   "source": [
    "lr_model = LogisticRegression()\n",
    "rfe = RFE(estimator=lr_model, step=1)\n",
    "rfe = rfe.fit(X_train, y_train)\n",
    "\n",
    "tmp_df = pd.DataFrame({\n",
    "    'feature': x_columns,\n",
    "    'ranking': rfe.ranking_\n",
    "})\n",
    "fig = px.bar(tmp_df, x='feature', y='ranking')\n",
    "fig.update_layout(height=300)\n",
    "fig.show()\n",
    "\n",
    "# Feature inv_nodes, deg_malig, breast, and irradiat are most useful features as they fall under rank 1\n",
    "# For experiment purpose, we select features with rank 1\n",
    "rfe = RFE(estimator=lr_model, step=1, n_features_to_select=4)\n",
    "rfe = rfe.fit(X_train, y_train)\n",
    "\n",
    "X_train_fs = rfe.transform(X_train)\n",
    "X_test_fs = rfe.transform(X_test)\n",
    "\n",
    "X_train_fs.shape, X_test_fs.shape"
   ]
  },
  {
   "cell_type": "code",
   "execution_count": null,
   "metadata": {},
   "outputs": [],
   "source": [
    "lr_model = LogisticRegression()\n",
    "lr_model = lr_model.fit(X_train_fs, y_train)\n",
    "evaluate(lr_model, X_test_fs, y_test)"
   ]
  },
  {
   "cell_type": "markdown",
   "metadata": {},
   "source": [
    "### Recursive Feature Elimination with Cross Validation"
   ]
  },
  {
   "cell_type": "code",
   "execution_count": null,
   "metadata": {},
   "outputs": [],
   "source": [
    "# Cross-Validation\n",
    "# Reference: https://www.youtube.com/watch?v=7062skdX05Y\n",
    "lr_model = LogisticRegression()\n",
    "rfecv = RFECV(estimator=lr_model, step=1, scoring='accuracy', cv=StratifiedKFold(2))\n",
    "rfecv = rfecv.fit(X_train, y_train)\n",
    "\n",
    "tmp_df = pd.DataFrame({\n",
    "    'feature': x_columns,\n",
    "    'ranking': rfecv.ranking_\n",
    "})\n",
    "fig = px.bar(tmp_df, x='feature', y='ranking')\n",
    "fig.update_layout(height=300)\n",
    "fig.show()\n",
    "\n",
    "tmp_df = pd.DataFrame({\n",
    "    'n_feature': [x+1 for x in range(len(rfecv.grid_scores_))],\n",
    "    'grid_score': rfecv.grid_scores_\n",
    "})\n",
    "fig = px.line(tmp_df, x='n_feature', y='grid_score')\n",
    "fig.update_layout(height=300)\n",
    "fig.show()\n",
    "\n",
    "print(f'Optimal Number of features: {rfecv.n_features_}')\n",
    "\n",
    "X_train_fs = rfecv.transform(X_train)\n",
    "X_test_fs = rfecv.transform(X_test)\n",
    "\n",
    "X_train_fs.shape, X_test_fs.shape"
   ]
  },
  {
   "cell_type": "code",
   "execution_count": null,
   "metadata": {},
   "outputs": [],
   "source": [
    "lr_model = LogisticRegression()\n",
    "lr_model = lr_model.fit(X_train_fs, y_train)\n",
    "evaluate(lr_model, X_test_fs, y_test)"
   ]
  },
  {
   "cell_type": "markdown",
   "metadata": {},
   "source": [
    "### Extra Tree Classifier"
   ]
  },
  {
   "cell_type": "code",
   "execution_count": null,
   "metadata": {},
   "outputs": [],
   "source": [
    "etc = ExtraTreesClassifier()\n",
    "etc = etc.fit(X_train, y_train)\n",
    "\n",
    "tmp_df = pd.DataFrame({\n",
    "    'feature': x_columns,\n",
    "    'importance': etc.feature_importances_\n",
    "})\n",
    "\n",
    "fig = px.bar(tmp_df, x='feature', y='importance')\n",
    "fig.update_layout(height=300)\n",
    "fig.show()\n",
    "\n",
    "\n",
    "top_indexes = tmp_df['importance'].nlargest(4).index\n",
    "X_train_fs = X_train[:, top_indexes]\n",
    "X_test_fs = X_test[:, top_indexes]\n",
    "\n",
    "X_train_fs.shape, X_test_fs.shape"
   ]
  },
  {
   "cell_type": "code",
   "execution_count": null,
   "metadata": {},
   "outputs": [],
   "source": [
    "lr_model = LogisticRegression()\n",
    "lr_model = lr_model.fit(X_train_fs, y_train)\n",
    "evaluate(lr_model, X_test_fs, y_test)"
   ]
  },
  {
   "cell_type": "code",
   "execution_count": null,
   "metadata": {},
   "outputs": [],
   "source": []
  }
 ],
 "metadata": {
  "kernelspec": {
   "display_name": "Python 3",
   "language": "python",
   "name": "python3"
  },
  "language_info": {
   "codemirror_mode": {
    "name": "ipython",
    "version": 3
   },
   "file_extension": ".py",
   "mimetype": "text/x-python",
   "name": "python",
   "nbconvert_exporter": "python",
   "pygments_lexer": "ipython3",
   "version": "3.7.3"
  }
 },
 "nbformat": 4,
 "nbformat_minor": 2
}
