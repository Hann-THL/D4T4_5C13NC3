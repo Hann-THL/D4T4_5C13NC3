{
 "cells": [
  {
   "cell_type": "code",
   "execution_count": null,
   "metadata": {},
   "outputs": [],
   "source": [
    "from sklearn.model_selection import train_test_split\n",
    "from sklearn.preprocessing import MinMaxScaler\n",
    "from sklearn import linear_model\n",
    "import numpy as np\n",
    "from matplotlib import pyplot as plt\n",
    "import random\n",
    "\n",
    "# interactive graphs on jupyter notebook\n",
    "import mpld3"
   ]
  },
  {
   "cell_type": "markdown",
   "metadata": {},
   "source": [
    "# 1. Data Preparation\n",
    "### 1.1 Populate Raw Data"
   ]
  },
  {
   "cell_type": "code",
   "execution_count": null,
   "metadata": {},
   "outputs": [],
   "source": [
    "size_dim1 = 100\n",
    "size_dim2 = 6\n",
    "multiplication = 1000\n",
    "\n",
    "raw_data = []\n",
    "for i in range(size_dim1):\n",
    "    tmp_list = [(i + j) * multiplication for j in range(size_dim2)]\n",
    "    raw_data.append(np.reshape(tmp_list, (-1, 1)))\n",
    "\n",
    "raw_data = np.array(raw_data, dtype=float)\n",
    "raw_data_shape = raw_data.shape"
   ]
  },
  {
   "cell_type": "markdown",
   "metadata": {},
   "source": [
    "### 1.2 Data Normalization"
   ]
  },
  {
   "cell_type": "code",
   "execution_count": null,
   "metadata": {},
   "outputs": [],
   "source": [
    "scaler = MinMaxScaler()\n",
    "data = scaler.fit_transform(raw_data.reshape(-1, 1))\n",
    "data = data.reshape(raw_data_shape)"
   ]
  },
  {
   "cell_type": "markdown",
   "metadata": {},
   "source": [
    "### 1.3 Input & Target Preparation"
   ]
  },
  {
   "cell_type": "code",
   "execution_count": null,
   "metadata": {},
   "outputs": [],
   "source": [
    "inputs = [x[:size_dim2 - 1] for x in data]\n",
    "targets = [x[size_dim2 - 1][0] for x in data]\n",
    "\n",
    "inputs = np.array(inputs, dtype=float)\n",
    "targets = np.array(targets, dtype=float)"
   ]
  },
  {
   "cell_type": "markdown",
   "metadata": {},
   "source": [
    "### 1.4 Train & Test Preparation"
   ]
  },
  {
   "cell_type": "code",
   "execution_count": null,
   "metadata": {},
   "outputs": [],
   "source": [
    "x_train, x_test, y_train, y_test = train_test_split(inputs, targets, test_size=0.20, random_state=4)\n",
    "\n",
    "print('x_train.shape:\\t', x_train.shape)\n",
    "print('y_train.shape:\\t', y_train.shape)"
   ]
  },
  {
   "cell_type": "markdown",
   "metadata": {},
   "source": [
    "# 2. Linear Regression"
   ]
  },
  {
   "cell_type": "code",
   "execution_count": null,
   "metadata": {},
   "outputs": [],
   "source": [
    "reg = linear_model.LinearRegression()\n",
    "reg.fit(x_train.reshape(-1, 5), y_train)\n",
    "results = reg.predict(x_test.reshape(-1, 5))"
   ]
  },
  {
   "cell_type": "markdown",
   "metadata": {},
   "source": [
    "# 3. Result Visualization\n",
    "### 3.1 Result Plotting"
   ]
  },
  {
   "cell_type": "code",
   "execution_count": null,
   "metadata": {},
   "outputs": [],
   "source": [
    "mpld3.enable_notebook()\n",
    "plt.rcParams['figure.figsize'] = [6, 4]\n",
    "\n",
    "plt.plot(range(results.shape[0]), results, c='r', marker='x', ls='none', label='Predict')\n",
    "plt.plot(range(results.shape[0]), y_test, c='g', marker='+', ls='none', label='Real')\n",
    "plt.legend()\n",
    "plt.show()"
   ]
  },
  {
   "cell_type": "markdown",
   "metadata": {},
   "source": [
    "### 3.2 Inverse Normalization"
   ]
  },
  {
   "cell_type": "code",
   "execution_count": null,
   "metadata": {
    "scrolled": false
   },
   "outputs": [],
   "source": [
    "scaler.inverse_transform(results.reshape(-1, 1))"
   ]
  },
  {
   "cell_type": "markdown",
   "metadata": {},
   "source": [
    "# 4. Additional Test - Input Shuffle"
   ]
  },
  {
   "cell_type": "code",
   "execution_count": null,
   "metadata": {},
   "outputs": [],
   "source": [
    "for x in x_test:\n",
    "    random.shuffle(x.reshape(-1))\n",
    "results = reg.predict(x_test.reshape(-1, 5))"
   ]
  },
  {
   "cell_type": "code",
   "execution_count": null,
   "metadata": {},
   "outputs": [],
   "source": [
    "plt.plot(range(results.shape[0]), results, c='r', marker='x', ls='none', label='Predict')\n",
    "plt.plot(range(results.shape[0]), y_test, c='g', marker='+', ls='none', label='Real')\n",
    "plt.legend()\n",
    "plt.show()"
   ]
  },
  {
   "cell_type": "code",
   "execution_count": null,
   "metadata": {},
   "outputs": [],
   "source": []
  }
 ],
 "metadata": {
  "kernelspec": {
   "display_name": "Python 3",
   "language": "python",
   "name": "python3"
  },
  "language_info": {
   "codemirror_mode": {
    "name": "ipython",
    "version": 3
   },
   "file_extension": ".py",
   "mimetype": "text/x-python",
   "name": "python",
   "nbconvert_exporter": "python",
   "pygments_lexer": "ipython3",
   "version": "3.7.3"
  }
 },
 "nbformat": 4,
 "nbformat_minor": 2
}
