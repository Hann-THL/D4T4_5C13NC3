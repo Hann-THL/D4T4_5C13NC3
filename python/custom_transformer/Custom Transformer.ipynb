{
 "cells": [
  {
   "cell_type": "code",
   "execution_count": null,
   "metadata": {},
   "outputs": [],
   "source": [
    "import pandas as pd\n",
    "import numpy as np\n",
    "\n",
    "from sklearn.base import BaseEstimator, TransformerMixin\n",
    "from sklearn.exceptions import NotFittedError\n",
    "from sklearn.preprocessing import OneHotEncoder\n",
    "from sklearn.pipeline import Pipeline"
   ]
  },
  {
   "cell_type": "markdown",
   "metadata": {},
   "source": [
    "# Mean Encoding (DataFrame)"
   ]
  },
  {
   "cell_type": "code",
   "execution_count": null,
   "metadata": {},
   "outputs": [],
   "source": [
    "class MeanEncoderDF(BaseEstimator, TransformerMixin):\n",
    "    def __init__(self, columns, weight=0, decimal=None):\n",
    "        self.columns      = columns\n",
    "        self.weight       = weight\n",
    "        self.decimal      = decimal\n",
    "        self.encoder_dict = None\n",
    "    \n",
    "    # Create function with y=None if y is not needed, to ensure compatibility with sklearn.pipeline.Pipeline\n",
    "    def fit(self, X, y):\n",
    "        dtypes = [pd.core.series.Series, pd.core.frame.DataFrame]\n",
    "        assert type(X) in dtypes, f'X dtype is not in valid list: {dtypes}'\n",
    "        assert type(y) in dtypes, f'y dtype is not in valid list: {dtypes}'\n",
    "        \n",
    "        self.encoder_dict = {}\n",
    "        \n",
    "        df       = pd.concat([X, y], axis=1)\n",
    "        target   = y.name\n",
    "\n",
    "        for column in self.columns:\n",
    "            agg_df = df.groupby(column)[target].agg(['count', 'mean'])\n",
    "            count  = agg_df['count']\n",
    "            estimate_mean = agg_df['mean']\n",
    "            overall_mean  = df[target].mean()\n",
    "            smooth_mean   = (count * estimate_mean + self.weight * overall_mean) / (count + self.weight)\n",
    "\n",
    "            mapper      = smooth_mean if self.decimal is None else np.round(smooth_mean, self.decimal)\n",
    "            mapper.name = 'encode'\n",
    "            self.encoder_dict[column] = mapper\n",
    "        \n",
    "        return self\n",
    "    \n",
    "    def transform(self, X):\n",
    "        dtypes = [pd.core.series.Series, pd.core.frame.DataFrame]\n",
    "        assert type(X) in dtypes, f'X dtype is not in valid list: {dtypes}'\n",
    "        \n",
    "        try:\n",
    "            new_X = X.copy() if type(X) == pd.core.frame.DataFrame else X.to_frame().copy()\n",
    "            for k,v in self.encoder_dict.items():\n",
    "                new_X[k] = new_X[k].map(v)\n",
    "                \n",
    "            return new_X\n",
    "        except AttributeError:\n",
    "            raise NotFittedError(f\"This {self.__class__.__name__} instance is not fitted yet. Call 'fit' with appropriate arguments before using this estimator.\")\n",
    "    \n",
    "    # Create function with y=None if y is not needed, to ensure compatibility with sklearn.pipeline.Pipeline\n",
    "    def fit_transform(self, X, y):\n",
    "        self.fit(X, y)\n",
    "        return self.transform(X)\n",
    "        \n",
    "    def inverse_transform(self, X):\n",
    "        dtypes = [pd.core.series.Series, pd.core.frame.DataFrame]\n",
    "        assert type(X) in dtypes, f'X dtype is not in valid list: {dtypes}'\n",
    "        \n",
    "        try:\n",
    "            new_X = X.copy() if type(X) == pd.core.frame.DataFrame else X.to_frame().copy()\n",
    "            for k,v in self.encoder_dict.items():\n",
    "                if k not in new_X.columns:\n",
    "                    continue\n",
    "\n",
    "                inverse_mapper = self.encoder_dict[k].reset_index().groupby('encode').agg({\n",
    "                    k: lambda x: ', '.join(x)\n",
    "                })[k]\n",
    "                new_X[k] = new_X[k].map(inverse_mapper)\n",
    "            \n",
    "            return new_X\n",
    "        except AttributeError:\n",
    "            raise NotFittedError(f\"This {self.__class__.__name__} instance is not fitted yet. Call 'fit' with appropriate arguments before using this estimator.\")"
   ]
  },
  {
   "cell_type": "code",
   "execution_count": null,
   "metadata": {},
   "outputs": [],
   "source": [
    "df = pd.DataFrame({\n",
    "    'temperature': ['Hot', 'Cold', 'Very Hot', 'Warm', 'Hot', 'Warm', 'Warm', 'Hot', 'Hot', 'Cold'],\n",
    "    'target': [1, 1, 1, 0, 1, 0, 1, 0, 1, 1]\n",
    "})\n",
    "df"
   ]
  },
  {
   "cell_type": "code",
   "execution_count": null,
   "metadata": {},
   "outputs": [],
   "source": [
    "encoder = MeanEncoderDF(columns=['temperature'])\n",
    "encoder"
   ]
  },
  {
   "cell_type": "code",
   "execution_count": null,
   "metadata": {},
   "outputs": [],
   "source": [
    "X = df[['temperature']]\n",
    "y = df['target']\n",
    "\n",
    "encode_df = encoder.fit_transform(X, y)\n",
    "encode_df"
   ]
  },
  {
   "cell_type": "code",
   "execution_count": null,
   "metadata": {},
   "outputs": [],
   "source": [
    "inverse_df = encoder.inverse_transform(encode_df)\n",
    "inverse_df"
   ]
  },
  {
   "cell_type": "markdown",
   "metadata": {},
   "source": [
    "# One-Hot Encoding (DataFrame)"
   ]
  },
  {
   "cell_type": "code",
   "execution_count": null,
   "metadata": {},
   "outputs": [],
   "source": [
    "class OneHotEncoderDF(BaseEstimator, TransformerMixin):\n",
    "    def __init__(self, columns, **kwargs):\n",
    "        self.columns = columns\n",
    "        self.model   = OneHotEncoder(**kwargs)\n",
    "        \n",
    "    def fit(self, X, y=None):\n",
    "        self.model.fit(X[self.columns])\n",
    "    \n",
    "    def transform(self, X):\n",
    "        new_df = pd.concat([\n",
    "            X,\n",
    "            pd.DataFrame(\n",
    "                self.model.transform(X[self.columns]).toarray(),\n",
    "                columns=[f'{self.columns[i]}_{y}' for i,x in enumerate(self.model.categories_) for y in x]\n",
    "            )\n",
    "        ], axis=1)\n",
    "        \n",
    "        return new_df.drop(columns=self.columns)\n",
    "    \n",
    "    def fit_transform(self, X, y=None):\n",
    "        self.fit(X)\n",
    "        return self.transform(X)\n",
    "    \n",
    "    def inverse_transform(self, X):\n",
    "        columns = [x for x in X.columns if any([y for y in self.columns if x.startswith(f'{y}_')])]\n",
    "        new_df  = pd.concat([\n",
    "            X,\n",
    "            pd.DataFrame(self.model.inverse_transform(X[columns]), columns=self.columns)\n",
    "        ], axis=1)\n",
    "        \n",
    "        return new_df.drop(columns=columns)"
   ]
  },
  {
   "cell_type": "code",
   "execution_count": null,
   "metadata": {},
   "outputs": [],
   "source": [
    "encoder = OneHotEncoderDF(columns=['temperature'], dtype=np.int8)\n",
    "encoder"
   ]
  },
  {
   "cell_type": "code",
   "execution_count": null,
   "metadata": {},
   "outputs": [],
   "source": [
    "encode_df = encoder.fit_transform(df)\n",
    "encode_df"
   ]
  },
  {
   "cell_type": "code",
   "execution_count": null,
   "metadata": {},
   "outputs": [],
   "source": [
    "encoder.inverse_transform(encode_df)"
   ]
  },
  {
   "cell_type": "markdown",
   "metadata": {},
   "source": [
    "# Pipeline"
   ]
  },
  {
   "cell_type": "code",
   "execution_count": null,
   "metadata": {},
   "outputs": [],
   "source": [
    "X = df[['temperature']]\n",
    "y = df['target']\n",
    "\n",
    "steps = [\n",
    "    ('mean_encoder', MeanEncoderDF(columns=['temperature'], decimal=3)),\n",
    "    ('onehot_encoder', OneHotEncoderDF(columns=['temperature'], dtype=np.int8))\n",
    "]\n",
    "pipeline = Pipeline(steps, verbose=True)\n",
    "pipeline.fit_transform(X, y)"
   ]
  },
  {
   "cell_type": "code",
   "execution_count": null,
   "metadata": {},
   "outputs": [],
   "source": []
  }
 ],
 "metadata": {
  "kernelspec": {
   "display_name": "Python 3",
   "language": "python",
   "name": "python3"
  },
  "language_info": {
   "codemirror_mode": {
    "name": "ipython",
    "version": 3
   },
   "file_extension": ".py",
   "mimetype": "text/x-python",
   "name": "python",
   "nbconvert_exporter": "python",
   "pygments_lexer": "ipython3",
   "version": "3.7.3"
  }
 },
 "nbformat": 4,
 "nbformat_minor": 2
}
