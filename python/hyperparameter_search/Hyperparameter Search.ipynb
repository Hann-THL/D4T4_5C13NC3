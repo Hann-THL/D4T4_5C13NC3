{
 "cells": [
  {
   "cell_type": "markdown",
   "metadata": {},
   "source": [
    "Referance: https://www.youtube.com/watch?v=HdlDYng8g9s"
   ]
  },
  {
   "cell_type": "code",
   "execution_count": null,
   "metadata": {},
   "outputs": [],
   "source": [
    "import lib._util.visualplot as vp\n",
    "import lib._util.mlpipe as mlpipe"
   ]
  },
  {
   "cell_type": "code",
   "execution_count": null,
   "metadata": {},
   "outputs": [],
   "source": [
    "import pandas as pd\n",
    "import numpy as np\n",
    "\n",
    "from sklearn import datasets\n",
    "from sklearn.model_selection import GridSearchCV, RandomizedSearchCV, StratifiedKFold\n",
    "from sklearn.svm import SVC"
   ]
  },
  {
   "cell_type": "code",
   "execution_count": null,
   "metadata": {},
   "outputs": [],
   "source": [
    "def load_data():\n",
    "    data_dict = datasets.load_iris()\n",
    "    \n",
    "    X = pd.DataFrame(\n",
    "        data_dict['data'],\n",
    "        columns=data_dict['feature_names']\n",
    "    )\n",
    "    y = pd.Series(\n",
    "        data_dict['target'],\n",
    "        name='target'\n",
    "    )\n",
    "    \n",
    "    return X, y"
   ]
  },
  {
   "cell_type": "code",
   "execution_count": null,
   "metadata": {},
   "outputs": [],
   "source": [
    "X, y = load_data()\n",
    "\n",
    "X.shape, y.shape"
   ]
  },
  {
   "cell_type": "code",
   "execution_count": null,
   "metadata": {},
   "outputs": [],
   "source": [
    "# Class distribution\n",
    "vp.value_count(y.to_frame(), 'target')"
   ]
  },
  {
   "cell_type": "markdown",
   "metadata": {},
   "source": [
    "# Best Hyperparameter (GridSearchCV)"
   ]
  },
  {
   "cell_type": "code",
   "execution_count": null,
   "metadata": {},
   "outputs": [],
   "source": [
    "search = GridSearchCV(\n",
    "    estimator=SVC(random_state=0),\n",
    "    param_grid={\n",
    "        'C': [1, 10, 20, 30, 40, 50],\n",
    "        'kernel': ['linear', 'poly', 'rbf', 'sigmoid'],\n",
    "        'gamma': ['scale', 'auto'],\n",
    "    },\n",
    "    scoring='f1_weighted',\n",
    "    cv=StratifiedKFold(n_splits=10),\n",
    "    n_jobs=-1,\n",
    "    verbose=10,\n",
    ")\n",
    "search.fit(X, y)"
   ]
  },
  {
   "cell_type": "code",
   "execution_count": null,
   "metadata": {
    "scrolled": false
   },
   "outputs": [],
   "source": [
    "result_df = pd.DataFrame(search.cv_results_)\n",
    "result_df[['params', 'mean_test_score', 'rank_test_score']].sort_values(by='mean_test_score', ascending=False)"
   ]
  },
  {
   "cell_type": "code",
   "execution_count": null,
   "metadata": {},
   "outputs": [],
   "source": [
    "search.best_params_"
   ]
  },
  {
   "cell_type": "code",
   "execution_count": null,
   "metadata": {},
   "outputs": [],
   "source": [
    "svc = SVC(**search.best_params_, random_state=0, probability=True)\n",
    "svc.fit(X, y)\n",
    "\n",
    "mlpipe.eval_classif(\n",
    "    y,\n",
    "    svc.predict(X),\n",
    "    y_prob=svc.predict_proba(X),\n",
    "    multi_class='ovr'\n",
    ")"
   ]
  },
  {
   "cell_type": "markdown",
   "metadata": {},
   "source": [
    "# Best Hyperparameter (RandomizedSearchCV)"
   ]
  },
  {
   "cell_type": "code",
   "execution_count": null,
   "metadata": {},
   "outputs": [],
   "source": [
    "search = RandomizedSearchCV(\n",
    "    estimator=SVC(random_state=0),\n",
    "    param_distributions={\n",
    "        'C': [1, 10, 20, 30, 40, 50],\n",
    "        'kernel': ['linear', 'poly', 'rbf', 'sigmoid'],\n",
    "        'gamma': ['scale', 'auto'],\n",
    "    },\n",
    "    scoring='f1_weighted',\n",
    "    cv=StratifiedKFold(n_splits=10),\n",
    "    n_jobs=-1,\n",
    "    verbose=10,\n",
    "    n_iter=10,\n",
    "    random_state=0\n",
    ")\n",
    "search.fit(X, y)"
   ]
  },
  {
   "cell_type": "code",
   "execution_count": null,
   "metadata": {},
   "outputs": [],
   "source": [
    "result_df = pd.DataFrame(search.cv_results_)\n",
    "result_df[['params', 'mean_test_score', 'rank_test_score']].sort_values(by='mean_test_score', ascending=False)"
   ]
  },
  {
   "cell_type": "code",
   "execution_count": null,
   "metadata": {},
   "outputs": [],
   "source": [
    "search.best_params_"
   ]
  },
  {
   "cell_type": "code",
   "execution_count": null,
   "metadata": {},
   "outputs": [],
   "source": [
    "svc = SVC(**search.best_params_, random_state=0, probability=True)\n",
    "svc.fit(X, y)\n",
    "\n",
    "mlpipe.eval_classif(\n",
    "    y,\n",
    "    svc.predict(X),\n",
    "    y_prob=svc.predict_proba(X),\n",
    "    multi_class='ovr'\n",
    ")"
   ]
  },
  {
   "cell_type": "markdown",
   "metadata": {},
   "source": [
    "# Best Model"
   ]
  },
  {
   "cell_type": "code",
   "execution_count": null,
   "metadata": {},
   "outputs": [],
   "source": [
    "from sklearn.svm import SVC\n",
    "from sklearn.ensemble import RandomForestClassifier\n",
    "from sklearn.linear_model import LogisticRegression"
   ]
  },
  {
   "cell_type": "code",
   "execution_count": null,
   "metadata": {
    "scrolled": true
   },
   "outputs": [],
   "source": [
    "model_dict = {\n",
    "    # Reference: https://medium.com/all-things-ai/in-depth-parameter-tuning-for-svc-758215394769\n",
    "    'svc': {\n",
    "        'model': SVC(random_state=0),\n",
    "        'param_dict': {\n",
    "            'C': np.logspace(-2, 2, 10),\n",
    "            'kernel': ['poly', 'rbf', 'sigmoid'],\n",
    "            'gamma': np.linspace(0.00001, 5, 10),\n",
    "        }\n",
    "    },\n",
    "    # Reference: https://medium.com/all-things-ai/in-depth-parameter-tuning-for-random-forest-d67bb7e920d\n",
    "    'random_forest': {\n",
    "        'model': RandomForestClassifier(random_state=0, n_jobs=-1),\n",
    "        'param_dict': {\n",
    "            'n_estimators': [10, 50, 100, 200, 300],\n",
    "            'max_depth': [None, 5, 10, 15, 20],\n",
    "            'min_samples_split': np.linspace(.1, 1, 10),\n",
    "            'min_samples_leaf': np.linspace(.1, .5, 5),\n",
    "            'max_features': ['sqrt', 'log2'] + list(np.linspace(.5, 1, 5)),\n",
    "        }\n",
    "    },\n",
    "    # Reference: https://towardsdatascience.com/logistic-regression-model-tuning-with-scikit-learn-part-1-425142e01af5\n",
    "    'logistic_regression': {\n",
    "        'model': LogisticRegression(max_iter=1_000, random_state=0, n_jobs=-1),\n",
    "        'param_dict': {\n",
    "            'C': np.logspace(-4, 4, 20),\n",
    "            'penalty': ['l1', 'l2'],\n",
    "        }\n",
    "    }\n",
    "}\n",
    "\n",
    "results = []\n",
    "for k,v in model_dict.items():\n",
    "    print(f'Searching {k}:')\n",
    "    \n",
    "    search = RandomizedSearchCV(\n",
    "        estimator=v['model'],\n",
    "        param_distributions=v['param_dict'],\n",
    "        scoring='f1_weighted',\n",
    "        cv=StratifiedKFold(n_splits=10),\n",
    "        n_jobs=-1,\n",
    "        verbose=10,\n",
    "        n_iter=100,\n",
    "        random_state=0\n",
    "    )\n",
    "    search.fit(X, y)\n",
    "    \n",
    "    results.append({\n",
    "        'model': k,\n",
    "        'best_score': search.best_score_,\n",
    "        'best_params': search.best_params_,\n",
    "    })"
   ]
  },
  {
   "cell_type": "code",
   "execution_count": null,
   "metadata": {},
   "outputs": [],
   "source": [
    "result_df = pd.DataFrame(results)\n",
    "result_df.sort_values(by='best_score', ascending=False)"
   ]
  },
  {
   "cell_type": "code",
   "execution_count": null,
   "metadata": {},
   "outputs": [],
   "source": [
    "model = SVC(**result_df['best_params'][0], random_state=0, probability=True)\n",
    "model.fit(X, y)\n",
    "\n",
    "mlpipe.eval_classif(\n",
    "    y,\n",
    "    model.predict(X),\n",
    "    y_prob=model.predict_proba(X),\n",
    "    multi_class='ovr'\n",
    ")"
   ]
  },
  {
   "cell_type": "code",
   "execution_count": null,
   "metadata": {},
   "outputs": [],
   "source": [
    "model = RandomForestClassifier(**result_df['best_params'][1], random_state=0, n_jobs=-1)\n",
    "model.fit(X, y)\n",
    "\n",
    "mlpipe.eval_classif(\n",
    "    y,\n",
    "    model.predict(X),\n",
    "    y_prob=model.predict_proba(X),\n",
    "    multi_class='ovr'\n",
    ")"
   ]
  },
  {
   "cell_type": "code",
   "execution_count": null,
   "metadata": {},
   "outputs": [],
   "source": [
    "model = LogisticRegression(**result_df['best_params'][2], max_iter=1_000, random_state=0, n_jobs=-1)\n",
    "model.fit(X, y)\n",
    "\n",
    "mlpipe.eval_classif(\n",
    "    y,\n",
    "    model.predict(X),\n",
    "    y_prob=model.predict_proba(X),\n",
    "    multi_class='ovr'\n",
    ")"
   ]
  },
  {
   "cell_type": "code",
   "execution_count": null,
   "metadata": {},
   "outputs": [],
   "source": []
  }
 ],
 "metadata": {
  "kernelspec": {
   "display_name": "Python 3",
   "language": "python",
   "name": "python3"
  },
  "language_info": {
   "codemirror_mode": {
    "name": "ipython",
    "version": 3
   },
   "file_extension": ".py",
   "mimetype": "text/x-python",
   "name": "python",
   "nbconvert_exporter": "python",
   "pygments_lexer": "ipython3",
   "version": "3.7.4"
  }
 },
 "nbformat": 4,
 "nbformat_minor": 2
}
