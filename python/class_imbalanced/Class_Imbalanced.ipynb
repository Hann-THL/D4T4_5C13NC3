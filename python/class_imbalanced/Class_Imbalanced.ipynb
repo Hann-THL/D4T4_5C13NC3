{
 "cells": [
  {
   "cell_type": "code",
   "execution_count": null,
   "metadata": {},
   "outputs": [],
   "source": [
    "import lib._util.visualplot as vp\n",
    "\n",
    "import numpy as np\n",
    "import pandas as pd\n",
    "from sklearn.datasets import make_blobs"
   ]
  },
  {
   "cell_type": "code",
   "execution_count": null,
   "metadata": {},
   "outputs": [],
   "source": [
    "def custom_blobs(n_samples, n_classes=2, n_features=2, center_box=(-10.0, 10.0), weights=None, random_state=None):\n",
    "    if weights is not None:\n",
    "        assert np.sum(weights) == 1, 'sum of weights must be 1.'\n",
    "        assert len(weights) == n_classes, 'no. of weights element must be same as n_classes.'\n",
    "    \n",
    "    # Generate balanced dataset\n",
    "    X, y = make_blobs(n_samples=n_samples * 2, centers=n_classes, n_features=n_features,\n",
    "                      center_box=center_box, random_state=random_state)\n",
    "    \n",
    "    data_df = to_frame(X, y)\n",
    "    X = data_df.drop(columns=['target']).copy()\n",
    "    y = data_df['target'].copy()\n",
    "    \n",
    "    if weights is None:\n",
    "        return X, y\n",
    "    \n",
    "    # Generate imbalance dataset\n",
    "    # Reference: # https://machinelearningmastery.com/how-to-develop-an-intuition-skewed-class-distributions/\n",
    "    proportions = {}\n",
    "    for x in range(n_classes):\n",
    "        proportions[x] = int(np.round(n_samples * weights[x]))\n",
    "    \n",
    "    # Collect the examples\n",
    "    new_X, new_y = [], []\n",
    "    for k, v in proportions.items():\n",
    "        indexes = np.where(y == k)[0]\n",
    "        selected_indexes = indexes[:v]\n",
    "        new_X.append(X[X.index.isin(selected_indexes)])\n",
    "        new_y.append(y[y.index.isin(selected_indexes)])\n",
    "        \n",
    "    X = np.vstack(new_X)\n",
    "    y = np.hstack(new_y)\n",
    "    \n",
    "    data_df = to_frame(X, y)\n",
    "    X = data_df.drop(columns=['target']).copy()\n",
    "    y = data_df['target'].copy()\n",
    "    \n",
    "    return X, y\n",
    "\n",
    "def to_frame(X, y):\n",
    "    data_df = pd.DataFrame(X, columns=[f'feature_{x+1}' for x in range(X.shape[1])])\n",
    "    data_df['target'] = y\n",
    "    \n",
    "    return data_df"
   ]
  },
  {
   "cell_type": "code",
   "execution_count": null,
   "metadata": {},
   "outputs": [],
   "source": [
    "X, y = custom_blobs(n_samples=1000, n_classes=3, n_features=2,\n",
    "                    center_box=(-10, 5), weights=[.75, .15, .1], random_state=0)\n",
    "data_df = to_frame(X, y)\n",
    "\n",
    "X.shape, y.shape"
   ]
  },
  {
   "cell_type": "code",
   "execution_count": null,
   "metadata": {},
   "outputs": [],
   "source": [
    "print(y.value_counts(normalize=True))\n",
    "print(y.value_counts())\n",
    "\n",
    "vp.scatter(data_df, x_col='feature_1', y_col='feature_2', category_col='target', layout_width=500, layout_height=350)"
   ]
  },
  {
   "cell_type": "markdown",
   "metadata": {},
   "source": [
    "# 1. Under-Sampling"
   ]
  },
  {
   "cell_type": "markdown",
   "metadata": {},
   "source": [
    "### 1.1. Condensed Nearest Neighbour"
   ]
  },
  {
   "cell_type": "code",
   "execution_count": null,
   "metadata": {},
   "outputs": [],
   "source": [
    "from imblearn.under_sampling import CondensedNearestNeighbour"
   ]
  },
  {
   "cell_type": "code",
   "execution_count": null,
   "metadata": {},
   "outputs": [],
   "source": [
    "sampling = CondensedNearestNeighbour(n_jobs=-1, random_state=0)\n",
    "new_X, new_y = sampling.fit_resample(X, y)\n",
    "new_data_df = to_frame(new_X, new_y)\n",
    "\n",
    "# Removed samples\n",
    "# X[X.index.isin(sampling.sample_indices_) == False]\n",
    "# y[y.index.isin(sampling.sample_indices_) == False]\n",
    "\n",
    "new_X.shape, new_y.shape"
   ]
  },
  {
   "cell_type": "code",
   "execution_count": null,
   "metadata": {},
   "outputs": [],
   "source": [
    "print(new_y.value_counts(normalize=True))\n",
    "print(new_y.value_counts())\n",
    "\n",
    "vp.scatter(new_data_df, x_col='feature_1', y_col='feature_2', category_col='target', layout_width=500, layout_height=350)"
   ]
  },
  {
   "cell_type": "markdown",
   "metadata": {},
   "source": [
    "### 1.2. Edited Nearest Neighbours"
   ]
  },
  {
   "cell_type": "code",
   "execution_count": null,
   "metadata": {},
   "outputs": [],
   "source": [
    "from imblearn.under_sampling import EditedNearestNeighbours"
   ]
  },
  {
   "cell_type": "code",
   "execution_count": null,
   "metadata": {},
   "outputs": [],
   "source": [
    "sampling = EditedNearestNeighbours(n_jobs=-1)\n",
    "new_X, new_y = sampling.fit_resample(X, y)\n",
    "new_data_df = to_frame(new_X, new_y)\n",
    "\n",
    "# Removed samples\n",
    "# X[X.index.isin(sampling.sample_indices_) == False]\n",
    "# y[y.index.isin(sampling.sample_indices_) == False]\n",
    "\n",
    "new_X.shape, new_y.shape"
   ]
  },
  {
   "cell_type": "code",
   "execution_count": null,
   "metadata": {},
   "outputs": [],
   "source": [
    "print(new_y.value_counts(normalize=True))\n",
    "print(new_y.value_counts())\n",
    "\n",
    "vp.scatter(new_data_df, x_col='feature_1', y_col='feature_2', category_col='target', layout_width=500, layout_height=350)"
   ]
  },
  {
   "cell_type": "markdown",
   "metadata": {},
   "source": [
    "### 1.3. Repeated Edited Nearest Neighbours"
   ]
  },
  {
   "cell_type": "code",
   "execution_count": null,
   "metadata": {},
   "outputs": [],
   "source": [
    "from imblearn.under_sampling import RepeatedEditedNearestNeighbours"
   ]
  },
  {
   "cell_type": "code",
   "execution_count": null,
   "metadata": {},
   "outputs": [],
   "source": [
    "sampling = RepeatedEditedNearestNeighbours(n_jobs=-1)\n",
    "new_X, new_y = sampling.fit_resample(X, y)\n",
    "new_data_df = to_frame(new_X, new_y)\n",
    "\n",
    "# Removed samples\n",
    "# X[X.index.isin(sampling.sample_indices_) == False]\n",
    "# y[y.index.isin(sampling.sample_indices_) == False]\n",
    "\n",
    "new_X.shape, new_y.shape"
   ]
  },
  {
   "cell_type": "code",
   "execution_count": null,
   "metadata": {},
   "outputs": [],
   "source": [
    "print(new_y.value_counts(normalize=True))\n",
    "print(new_y.value_counts())\n",
    "\n",
    "vp.scatter(new_data_df, x_col='feature_1', y_col='feature_2', category_col='target', layout_width=500, layout_height=350)"
   ]
  },
  {
   "cell_type": "markdown",
   "metadata": {},
   "source": [
    "### 1.4. All KNN"
   ]
  },
  {
   "cell_type": "code",
   "execution_count": null,
   "metadata": {},
   "outputs": [],
   "source": [
    "from imblearn.under_sampling import AllKNN"
   ]
  },
  {
   "cell_type": "code",
   "execution_count": null,
   "metadata": {},
   "outputs": [],
   "source": [
    "sampling = AllKNN(n_jobs=-1)\n",
    "new_X, new_y = sampling.fit_resample(X, y)\n",
    "new_data_df = to_frame(new_X, new_y)\n",
    "\n",
    "# Removed samples\n",
    "# X[X.index.isin(sampling.sample_indices_) == False]\n",
    "# y[y.index.isin(sampling.sample_indices_) == False]\n",
    "\n",
    "new_X.shape, new_y.shape"
   ]
  },
  {
   "cell_type": "code",
   "execution_count": null,
   "metadata": {},
   "outputs": [],
   "source": [
    "print(new_y.value_counts(normalize=True))\n",
    "print(new_y.value_counts())\n",
    "\n",
    "vp.scatter(new_data_df, x_col='feature_1', y_col='feature_2', category_col='target', layout_width=500, layout_height=350)"
   ]
  },
  {
   "cell_type": "markdown",
   "metadata": {},
   "source": [
    "### 1.5. Instance Hardness Threshold"
   ]
  },
  {
   "cell_type": "code",
   "execution_count": null,
   "metadata": {},
   "outputs": [],
   "source": [
    "from imblearn.under_sampling import InstanceHardnessThreshold\n",
    "from sklearn.ensemble import RandomForestClassifier"
   ]
  },
  {
   "cell_type": "code",
   "execution_count": null,
   "metadata": {},
   "outputs": [],
   "source": [
    "sampling = InstanceHardnessThreshold(estimator=RandomForestClassifier(), n_jobs=-1, random_state=0)\n",
    "new_X, new_y = sampling.fit_resample(X, y)\n",
    "new_data_df = to_frame(new_X, new_y)\n",
    "\n",
    "# Removed samples\n",
    "# X[X.index.isin(sampling.sample_indices_) == False]\n",
    "# y[y.index.isin(sampling.sample_indices_) == False]\n",
    "\n",
    "new_X.shape, new_y.shape"
   ]
  },
  {
   "cell_type": "code",
   "execution_count": null,
   "metadata": {},
   "outputs": [],
   "source": [
    "print(new_y.value_counts(normalize=True))\n",
    "print(new_y.value_counts())\n",
    "\n",
    "vp.scatter(new_data_df, x_col='feature_1', y_col='feature_2', category_col='target', layout_width=500, layout_height=350)"
   ]
  },
  {
   "cell_type": "markdown",
   "metadata": {},
   "source": [
    "### 1.6. Near Miss"
   ]
  },
  {
   "cell_type": "code",
   "execution_count": null,
   "metadata": {},
   "outputs": [],
   "source": [
    "from imblearn.under_sampling import NearMiss"
   ]
  },
  {
   "cell_type": "code",
   "execution_count": null,
   "metadata": {},
   "outputs": [],
   "source": [
    "sampling = NearMiss(version=1, n_jobs=-1)\n",
    "new_X, new_y = sampling.fit_resample(X, y)\n",
    "new_data_df = to_frame(new_X, new_y)\n",
    "\n",
    "# Removed samples\n",
    "# X[X.index.isin(sampling.sample_indices_) == False]\n",
    "# y[y.index.isin(sampling.sample_indices_) == False]\n",
    "\n",
    "new_X.shape, new_y.shape"
   ]
  },
  {
   "cell_type": "code",
   "execution_count": null,
   "metadata": {},
   "outputs": [],
   "source": [
    "print(new_y.value_counts(normalize=True))\n",
    "print(new_y.value_counts())\n",
    "\n",
    "vp.scatter(new_data_df, x_col='feature_1', y_col='feature_2', category_col='target', layout_width=500, layout_height=350)"
   ]
  },
  {
   "cell_type": "code",
   "execution_count": null,
   "metadata": {},
   "outputs": [],
   "source": [
    "sampling = NearMiss(version=2, n_jobs=-1)\n",
    "new_X, new_y = sampling.fit_resample(X, y)\n",
    "new_data_df = to_frame(new_X, new_y)\n",
    "\n",
    "# Removed samples\n",
    "# X[X.index.isin(sampling.sample_indices_) == False]\n",
    "# y[y.index.isin(sampling.sample_indices_) == False]\n",
    "\n",
    "new_X.shape, new_y.shape"
   ]
  },
  {
   "cell_type": "code",
   "execution_count": null,
   "metadata": {},
   "outputs": [],
   "source": [
    "print(new_y.value_counts(normalize=True))\n",
    "print(new_y.value_counts())\n",
    "\n",
    "vp.scatter(new_data_df, x_col='feature_1', y_col='feature_2', category_col='target', layout_width=500, layout_height=350)"
   ]
  },
  {
   "cell_type": "code",
   "execution_count": null,
   "metadata": {},
   "outputs": [],
   "source": [
    "sampling = NearMiss(version=3, n_jobs=-1)\n",
    "new_X, new_y = sampling.fit_resample(X, y)\n",
    "new_data_df = to_frame(new_X, new_y)\n",
    "\n",
    "# Removed samples\n",
    "# X[X.index.isin(sampling.sample_indices_) == False]\n",
    "# y[y.index.isin(sampling.sample_indices_) == False]\n",
    "\n",
    "new_X.shape, new_y.shape"
   ]
  },
  {
   "cell_type": "code",
   "execution_count": null,
   "metadata": {},
   "outputs": [],
   "source": [
    "print(new_y.value_counts(normalize=True))\n",
    "print(new_y.value_counts())\n",
    "\n",
    "vp.scatter(new_data_df, x_col='feature_1', y_col='feature_2', category_col='target', layout_width=500, layout_height=350)"
   ]
  },
  {
   "cell_type": "markdown",
   "metadata": {},
   "source": [
    "### 1.7. Neighbourhood Cleaning Rule"
   ]
  },
  {
   "cell_type": "code",
   "execution_count": null,
   "metadata": {},
   "outputs": [],
   "source": [
    "from imblearn.under_sampling import NeighbourhoodCleaningRule"
   ]
  },
  {
   "cell_type": "code",
   "execution_count": null,
   "metadata": {},
   "outputs": [],
   "source": [
    "sampling = NeighbourhoodCleaningRule(n_jobs=-1)\n",
    "new_X, new_y = sampling.fit_resample(X, y)\n",
    "new_data_df = to_frame(new_X, new_y)\n",
    "\n",
    "# Removed samples\n",
    "# X[X.index.isin(sampling.sample_indices_) == False]\n",
    "# y[y.index.isin(sampling.sample_indices_) == False]\n",
    "\n",
    "new_X.shape, new_y.shape"
   ]
  },
  {
   "cell_type": "code",
   "execution_count": null,
   "metadata": {},
   "outputs": [],
   "source": [
    "print(new_y.value_counts(normalize=True))\n",
    "print(new_y.value_counts())\n",
    "\n",
    "vp.scatter(new_data_df, x_col='feature_1', y_col='feature_2', category_col='target', layout_width=500, layout_height=350)"
   ]
  },
  {
   "cell_type": "markdown",
   "metadata": {},
   "source": [
    "### 1.8. One Sided Selection"
   ]
  },
  {
   "cell_type": "code",
   "execution_count": null,
   "metadata": {},
   "outputs": [],
   "source": [
    "from imblearn.under_sampling import OneSidedSelection"
   ]
  },
  {
   "cell_type": "code",
   "execution_count": null,
   "metadata": {},
   "outputs": [],
   "source": [
    "sampling = OneSidedSelection(random_state=0, n_jobs=-1)\n",
    "new_X, new_y = sampling.fit_resample(X, y)\n",
    "new_data_df = to_frame(new_X, new_y)\n",
    "\n",
    "# Removed samples\n",
    "# X[X.index.isin(sampling.sample_indices_) == False]\n",
    "# y[y.index.isin(sampling.sample_indices_) == False]\n",
    "\n",
    "new_X.shape, new_y.shape"
   ]
  },
  {
   "cell_type": "code",
   "execution_count": null,
   "metadata": {},
   "outputs": [],
   "source": [
    "print(new_y.value_counts(normalize=True))\n",
    "print(new_y.value_counts())\n",
    "\n",
    "vp.scatter(new_data_df, x_col='feature_1', y_col='feature_2', category_col='target', layout_width=500, layout_height=350)"
   ]
  },
  {
   "cell_type": "markdown",
   "metadata": {},
   "source": [
    "### 1.9. Random Under Sampler"
   ]
  },
  {
   "cell_type": "code",
   "execution_count": null,
   "metadata": {},
   "outputs": [],
   "source": [
    "from imblearn.under_sampling import RandomUnderSampler"
   ]
  },
  {
   "cell_type": "code",
   "execution_count": null,
   "metadata": {},
   "outputs": [],
   "source": [
    "sampling = RandomUnderSampler(random_state=0)\n",
    "new_X, new_y = sampling.fit_resample(X, y)\n",
    "new_data_df = to_frame(new_X, new_y)\n",
    "\n",
    "# Removed samples\n",
    "# X[X.index.isin(sampling.sample_indices_) == False]\n",
    "# y[y.index.isin(sampling.sample_indices_) == False]\n",
    "\n",
    "new_X.shape, new_y.shape"
   ]
  },
  {
   "cell_type": "code",
   "execution_count": null,
   "metadata": {},
   "outputs": [],
   "source": [
    "print(new_y.value_counts(normalize=True))\n",
    "print(new_y.value_counts())\n",
    "\n",
    "vp.scatter(new_data_df, x_col='feature_1', y_col='feature_2', category_col='target', layout_width=500, layout_height=350)"
   ]
  },
  {
   "cell_type": "markdown",
   "metadata": {},
   "source": [
    "### 1.10. Tomek Links"
   ]
  },
  {
   "cell_type": "code",
   "execution_count": null,
   "metadata": {},
   "outputs": [],
   "source": [
    "from imblearn.under_sampling import TomekLinks"
   ]
  },
  {
   "cell_type": "code",
   "execution_count": null,
   "metadata": {},
   "outputs": [],
   "source": [
    "sampling = TomekLinks(n_jobs=-1)\n",
    "new_X, new_y = sampling.fit_resample(X, y)\n",
    "new_data_df = to_frame(new_X, new_y)\n",
    "\n",
    "# Removed samples\n",
    "# X[X.index.isin(sampling.sample_indices_) == False]\n",
    "# y[y.index.isin(sampling.sample_indices_) == False]\n",
    "\n",
    "new_X.shape, new_y.shape"
   ]
  },
  {
   "cell_type": "code",
   "execution_count": null,
   "metadata": {},
   "outputs": [],
   "source": [
    "print(new_y.value_counts(normalize=True))\n",
    "print(new_y.value_counts())\n",
    "\n",
    "vp.scatter(new_data_df, x_col='feature_1', y_col='feature_2', category_col='target', layout_width=500, layout_height=350)"
   ]
  },
  {
   "cell_type": "markdown",
   "metadata": {},
   "source": [
    "# 2. Over-Sampling"
   ]
  },
  {
   "cell_type": "markdown",
   "metadata": {},
   "source": [
    "### 2.1. Adaptive Synthetic (ADASYN)"
   ]
  },
  {
   "cell_type": "code",
   "execution_count": null,
   "metadata": {},
   "outputs": [],
   "source": [
    "from imblearn.over_sampling import ADASYN"
   ]
  },
  {
   "cell_type": "code",
   "execution_count": null,
   "metadata": {},
   "outputs": [],
   "source": [
    "sampling = ADASYN(random_state=0, n_jobs=-1)\n",
    "new_X, new_y = sampling.fit_resample(X, y)\n",
    "new_data_df = to_frame(new_X, new_y)\n",
    "\n",
    "new_X.shape, new_y.shape"
   ]
  },
  {
   "cell_type": "code",
   "execution_count": null,
   "metadata": {},
   "outputs": [],
   "source": [
    "print(new_y.value_counts(normalize=True))\n",
    "print(new_y.value_counts())\n",
    "\n",
    "vp.scatter(new_data_df, x_col='feature_1', y_col='feature_2', category_col='target', layout_width=500, layout_height=350)"
   ]
  },
  {
   "cell_type": "markdown",
   "metadata": {},
   "source": [
    "### 2.2. Borderline SMOTE"
   ]
  },
  {
   "cell_type": "code",
   "execution_count": null,
   "metadata": {},
   "outputs": [],
   "source": [
    "from imblearn.over_sampling import BorderlineSMOTE"
   ]
  },
  {
   "cell_type": "code",
   "execution_count": null,
   "metadata": {},
   "outputs": [],
   "source": [
    "sampling = BorderlineSMOTE(random_state=0, n_jobs=-1)\n",
    "new_X, new_y = sampling.fit_resample(X, y)\n",
    "new_data_df = to_frame(new_X, new_y)\n",
    "\n",
    "new_X.shape, new_y.shape"
   ]
  },
  {
   "cell_type": "code",
   "execution_count": null,
   "metadata": {},
   "outputs": [],
   "source": [
    "print(new_y.value_counts(normalize=True))\n",
    "print(new_y.value_counts())\n",
    "\n",
    "vp.scatter(new_data_df, x_col='feature_1', y_col='feature_2', category_col='target', layout_width=500, layout_height=350)"
   ]
  },
  {
   "cell_type": "markdown",
   "metadata": {},
   "source": [
    "### 2.3. K-Means SMOTE"
   ]
  },
  {
   "cell_type": "code",
   "execution_count": null,
   "metadata": {},
   "outputs": [],
   "source": [
    "from imblearn.over_sampling import KMeansSMOTE"
   ]
  },
  {
   "cell_type": "code",
   "execution_count": null,
   "metadata": {},
   "outputs": [],
   "source": [
    "sampling = KMeansSMOTE(random_state=0, n_jobs=-1)\n",
    "new_X, new_y = sampling.fit_resample(X, y)\n",
    "new_data_df = to_frame(new_X, new_y)\n",
    "\n",
    "new_X.shape, new_y.shape"
   ]
  },
  {
   "cell_type": "code",
   "execution_count": null,
   "metadata": {},
   "outputs": [],
   "source": [
    "print(new_y.value_counts(normalize=True))\n",
    "print(new_y.value_counts())\n",
    "\n",
    "vp.scatter(new_data_df, x_col='feature_1', y_col='feature_2', category_col='target', layout_width=500, layout_height=350)"
   ]
  },
  {
   "cell_type": "markdown",
   "metadata": {},
   "source": [
    "### 2.4. Random Over Sampler"
   ]
  },
  {
   "cell_type": "code",
   "execution_count": null,
   "metadata": {},
   "outputs": [],
   "source": [
    "from imblearn.over_sampling import RandomOverSampler"
   ]
  },
  {
   "cell_type": "code",
   "execution_count": null,
   "metadata": {},
   "outputs": [],
   "source": [
    "sampling = RandomOverSampler(random_state=0)\n",
    "new_X, new_y = sampling.fit_resample(X, y)\n",
    "new_data_df = to_frame(new_X, new_y)\n",
    "\n",
    "new_X.shape, new_y.shape"
   ]
  },
  {
   "cell_type": "code",
   "execution_count": null,
   "metadata": {},
   "outputs": [],
   "source": [
    "print(new_y.value_counts(normalize=True))\n",
    "print(new_y.value_counts())\n",
    "\n",
    "vp.scatter(new_data_df, x_col='feature_1', y_col='feature_2', category_col='target', layout_width=500, layout_height=350)"
   ]
  },
  {
   "cell_type": "markdown",
   "metadata": {},
   "source": [
    "### 2.5. SMOTE"
   ]
  },
  {
   "cell_type": "code",
   "execution_count": null,
   "metadata": {},
   "outputs": [],
   "source": [
    "from imblearn.over_sampling import SMOTE"
   ]
  },
  {
   "cell_type": "code",
   "execution_count": null,
   "metadata": {},
   "outputs": [],
   "source": [
    "sampling = SMOTE(random_state=0, n_jobs=-1)\n",
    "new_X, new_y = sampling.fit_resample(X, y)\n",
    "new_data_df = to_frame(new_X, new_y)\n",
    "\n",
    "new_X.shape, new_y.shape"
   ]
  },
  {
   "cell_type": "code",
   "execution_count": null,
   "metadata": {},
   "outputs": [],
   "source": [
    "print(new_y.value_counts(normalize=True))\n",
    "print(new_y.value_counts())\n",
    "\n",
    "vp.scatter(new_data_df, x_col='feature_1', y_col='feature_2', category_col='target', layout_width=500, layout_height=350)"
   ]
  },
  {
   "cell_type": "markdown",
   "metadata": {},
   "source": [
    "### 2.6. SVM SMOTE"
   ]
  },
  {
   "cell_type": "code",
   "execution_count": null,
   "metadata": {},
   "outputs": [],
   "source": [
    "from imblearn.over_sampling import SVMSMOTE"
   ]
  },
  {
   "cell_type": "code",
   "execution_count": null,
   "metadata": {},
   "outputs": [],
   "source": [
    "sampling = SVMSMOTE(random_state=0, n_jobs=-1)\n",
    "new_X, new_y = sampling.fit_resample(X, y)\n",
    "new_data_df = to_frame(new_X, new_y)\n",
    "\n",
    "new_X.shape, new_y.shape"
   ]
  },
  {
   "cell_type": "code",
   "execution_count": null,
   "metadata": {},
   "outputs": [],
   "source": [
    "print(new_y.value_counts(normalize=True))\n",
    "print(new_y.value_counts())\n",
    "\n",
    "vp.scatter(new_data_df, x_col='feature_1', y_col='feature_2', category_col='target', layout_width=500, layout_height=350)"
   ]
  },
  {
   "cell_type": "markdown",
   "metadata": {},
   "source": [
    "# 3. Combination (Over+Under-Sampling)"
   ]
  },
  {
   "cell_type": "markdown",
   "metadata": {},
   "source": [
    "### 3.1. SMOTE+ENN"
   ]
  },
  {
   "cell_type": "code",
   "execution_count": null,
   "metadata": {},
   "outputs": [],
   "source": [
    "from imblearn.combine import SMOTEENN"
   ]
  },
  {
   "cell_type": "code",
   "execution_count": null,
   "metadata": {},
   "outputs": [],
   "source": [
    "sampling = SMOTEENN(random_state=0, n_jobs=-1)\n",
    "new_X, new_y = sampling.fit_resample(X, y)\n",
    "new_data_df = to_frame(new_X, new_y)\n",
    "\n",
    "new_X.shape, new_y.shape"
   ]
  },
  {
   "cell_type": "code",
   "execution_count": null,
   "metadata": {},
   "outputs": [],
   "source": [
    "print(new_y.value_counts(normalize=True))\n",
    "print(new_y.value_counts())\n",
    "\n",
    "vp.scatter(new_data_df, x_col='feature_1', y_col='feature_2', category_col='target', layout_width=500, layout_height=350)"
   ]
  },
  {
   "cell_type": "markdown",
   "metadata": {},
   "source": [
    "### 3.2. SMOTE+Tomek"
   ]
  },
  {
   "cell_type": "code",
   "execution_count": null,
   "metadata": {},
   "outputs": [],
   "source": [
    "from imblearn.combine import SMOTETomek"
   ]
  },
  {
   "cell_type": "code",
   "execution_count": null,
   "metadata": {},
   "outputs": [],
   "source": [
    "sampling = SMOTETomek(random_state=0, n_jobs=-1)\n",
    "new_X, new_y = sampling.fit_resample(X, y)\n",
    "new_data_df = to_frame(new_X, new_y)\n",
    "\n",
    "new_X.shape, new_y.shape"
   ]
  },
  {
   "cell_type": "code",
   "execution_count": null,
   "metadata": {},
   "outputs": [],
   "source": [
    "print(new_y.value_counts(normalize=True))\n",
    "print(new_y.value_counts())\n",
    "\n",
    "vp.scatter(new_data_df, x_col='feature_1', y_col='feature_2', category_col='target', layout_width=500, layout_height=350)"
   ]
  },
  {
   "cell_type": "markdown",
   "metadata": {},
   "source": [
    "# 4. Class Weights"
   ]
  },
  {
   "cell_type": "code",
   "execution_count": null,
   "metadata": {},
   "outputs": [],
   "source": []
  },
  {
   "cell_type": "code",
   "execution_count": null,
   "metadata": {},
   "outputs": [],
   "source": []
  },
  {
   "cell_type": "code",
   "execution_count": null,
   "metadata": {},
   "outputs": [],
   "source": []
  },
  {
   "cell_type": "code",
   "execution_count": null,
   "metadata": {},
   "outputs": [],
   "source": []
  },
  {
   "cell_type": "code",
   "execution_count": null,
   "metadata": {},
   "outputs": [],
   "source": []
  },
  {
   "cell_type": "code",
   "execution_count": null,
   "metadata": {},
   "outputs": [],
   "source": []
  }
 ],
 "metadata": {
  "kernelspec": {
   "display_name": "Python 3",
   "language": "python",
   "name": "python3"
  },
  "language_info": {
   "codemirror_mode": {
    "name": "ipython",
    "version": 3
   },
   "file_extension": ".py",
   "mimetype": "text/x-python",
   "name": "python",
   "nbconvert_exporter": "python",
   "pygments_lexer": "ipython3",
   "version": "3.7.4"
  }
 },
 "nbformat": 4,
 "nbformat_minor": 2
}
