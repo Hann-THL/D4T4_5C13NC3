{
 "cells": [
  {
   "cell_type": "code",
   "execution_count": null,
   "metadata": {},
   "outputs": [],
   "source": [
    "import lib._util.visualplot as vp\n",
    "\n",
    "# Feature scaling\n",
    "from lib._class.DFStandardScaler import DFStandardScaler"
   ]
  },
  {
   "cell_type": "code",
   "execution_count": null,
   "metadata": {},
   "outputs": [],
   "source": [
    "import numpy as np\n",
    "import pandas as pd\n",
    "\n",
    "# Imbalanced-Learn\n",
    "from imblearn.pipeline import Pipeline\n",
    "\n",
    "# Scikit-Learn\n",
    "from sklearn.datasets import make_blobs\n",
    "\n",
    "# Plotly\n",
    "import plotly.express as px"
   ]
  },
  {
   "cell_type": "code",
   "execution_count": null,
   "metadata": {},
   "outputs": [],
   "source": [
    "OUT_PATH_GRAPH = 'resources/output/graph/'\n",
    "\n",
    "def custom_blobs(n_samples, n_classes=2, n_features=2, center_box=(-10.0, 10.0), weights=None, random_state=None):\n",
    "    if weights is not None:\n",
    "        assert np.sum(weights) == 1, 'sum of weights must be 1.'\n",
    "        assert len(weights) == n_classes, 'no. of weights element must be same as n_classes.'\n",
    "    \n",
    "    # Generate balanced dataset\n",
    "    X, y = make_blobs(n_samples=n_samples * n_classes, centers=n_classes, n_features=n_features,\n",
    "                      center_box=center_box, random_state=random_state)\n",
    "    \n",
    "    data_df = to_frame(X, y)\n",
    "    X = data_df.drop(columns=['target']).copy()\n",
    "    y = data_df['target'].copy()\n",
    "    \n",
    "    if weights is None:\n",
    "        return X, y\n",
    "    \n",
    "    # Generate imbalance dataset\n",
    "    # Reference: # https://machinelearningmastery.com/how-to-develop-an-intuition-skewed-class-distributions/\n",
    "    proportions = {}\n",
    "    for x in range(n_classes):\n",
    "        proportions[x] = int(np.round(n_samples * weights[x]))\n",
    "    \n",
    "    # Collect the examples\n",
    "    new_X, new_y = [], []\n",
    "    for k, v in proportions.items():\n",
    "        indexes = np.where(y == k)[0]\n",
    "        selected_indexes = indexes[:v]\n",
    "        new_X.append(X[X.index.isin(selected_indexes)])\n",
    "        new_y.append(y[y.index.isin(selected_indexes)])\n",
    "        \n",
    "    X = np.vstack(new_X)\n",
    "    y = np.hstack(new_y)\n",
    "    \n",
    "    data_df = to_frame(X, y)\n",
    "    X = data_df.drop(columns=['target']).copy()\n",
    "    y = data_df['target'].copy()\n",
    "    \n",
    "    return X, y\n",
    "\n",
    "def to_frame(X, y):\n",
    "    data_df = pd.DataFrame(X, columns=[f'feature_{x+1}' for x in range(X.shape[1])])\n",
    "    data_df['target'] = y\n",
    "    \n",
    "    return data_df\n",
    "\n",
    "def class_ratio(y):\n",
    "    return {k: round(v,2) for k,v in sorted(y.value_counts(normalize=True).to_dict().items())}"
   ]
  },
  {
   "cell_type": "code",
   "execution_count": null,
   "metadata": {},
   "outputs": [],
   "source": [
    "data_groups    = []\n",
    "subplot_titles = []\n",
    "\n",
    "X, y = custom_blobs(n_samples=1000, n_classes=2, n_features=2,\n",
    "                    center_box=(-10, 5), weights=[.9, .1], random_state=0)\n",
    "\n",
    "X.shape, y.shape"
   ]
  },
  {
   "cell_type": "code",
   "execution_count": null,
   "metadata": {},
   "outputs": [],
   "source": [
    "vp.value_count(y.to_frame(), 'target')"
   ]
  },
  {
   "cell_type": "code",
   "execution_count": null,
   "metadata": {},
   "outputs": [],
   "source": [
    "fig = px.scatter(pd.concat([DFStandardScaler().fit_transform(X), y.astype(str)], axis=1).sort_values(by='target'),\n",
    "                 x='feature_1', y='feature_2', color='target')\n",
    "\n",
    "data_groups.append(fig['data'])\n",
    "subplot_titles.append(f'Original Dataset {class_ratio(y)}')"
   ]
  },
  {
   "cell_type": "markdown",
   "metadata": {},
   "source": [
    "# 1. Under-Sampling"
   ]
  },
  {
   "cell_type": "markdown",
   "metadata": {},
   "source": [
    "### 1.1. Condensed Nearest Neighbour"
   ]
  },
  {
   "cell_type": "code",
   "execution_count": null,
   "metadata": {},
   "outputs": [],
   "source": [
    "from imblearn.under_sampling import CondensedNearestNeighbour"
   ]
  },
  {
   "cell_type": "code",
   "execution_count": null,
   "metadata": {},
   "outputs": [],
   "source": [
    "model = CondensedNearestNeighbour(n_jobs=-1, random_state=0)\n",
    "\n",
    "steps = [\n",
    "    ('standard_scaler', DFStandardScaler()),\n",
    "    ('model', model),\n",
    "]\n",
    "new_X, new_y = Pipeline(steps, verbose=True).fit_resample(X, y)\n",
    "\n",
    "# Removed samples\n",
    "# X[X.index.isin(model.sample_indices_) == False]\n",
    "# y[y.index.isin(model.sample_indices_) == False]\n",
    "\n",
    "new_X.shape, new_y.shape"
   ]
  },
  {
   "cell_type": "code",
   "execution_count": null,
   "metadata": {},
   "outputs": [],
   "source": [
    "vp.value_count(new_y.to_frame(), 'target')"
   ]
  },
  {
   "cell_type": "code",
   "execution_count": null,
   "metadata": {},
   "outputs": [],
   "source": [
    "fig = px.scatter(pd.concat([new_X, new_y.astype(str)], axis=1).sort_values(by='target'),\n",
    "                 x='feature_1', y='feature_2', color='target')\n",
    "\n",
    "data_groups.append(fig['data'])\n",
    "subplot_titles.append(f'Condensed Nearest Neighbour {class_ratio(new_y)}')"
   ]
  },
  {
   "cell_type": "code",
   "execution_count": null,
   "metadata": {},
   "outputs": [],
   "source": [
    "subplot_titles"
   ]
  },
  {
   "cell_type": "markdown",
   "metadata": {},
   "source": [
    "### 1.2. Edited Nearest Neighbour"
   ]
  },
  {
   "cell_type": "code",
   "execution_count": null,
   "metadata": {},
   "outputs": [],
   "source": [
    "from imblearn.under_sampling import EditedNearestNeighbours"
   ]
  },
  {
   "cell_type": "code",
   "execution_count": null,
   "metadata": {},
   "outputs": [],
   "source": [
    "model = EditedNearestNeighbours(n_jobs=-1)\n",
    "\n",
    "steps = [\n",
    "    ('standard_scaler', DFStandardScaler()),\n",
    "    ('model', model),\n",
    "]\n",
    "new_X, new_y = Pipeline(steps, verbose=True).fit_resample(X, y)\n",
    "\n",
    "# Removed samples\n",
    "# X[X.index.isin(model.sample_indices_) == False]\n",
    "# y[y.index.isin(model.sample_indices_) == False]\n",
    "\n",
    "new_X.shape, new_y.shape"
   ]
  },
  {
   "cell_type": "code",
   "execution_count": null,
   "metadata": {},
   "outputs": [],
   "source": [
    "vp.value_count(new_y.to_frame(), 'target')"
   ]
  },
  {
   "cell_type": "code",
   "execution_count": null,
   "metadata": {},
   "outputs": [],
   "source": [
    "fig = px.scatter(pd.concat([new_X, new_y.astype(str)], axis=1).sort_values(by='target'),\n",
    "                 x='feature_1', y='feature_2', color='target')\n",
    "\n",
    "data_groups.append(fig['data'])\n",
    "subplot_titles.append(f'Edited Nearest Neighbours {class_ratio(new_y)}')"
   ]
  },
  {
   "cell_type": "markdown",
   "metadata": {},
   "source": [
    "### 1.3. Repeated Edited Nearest Neighbour"
   ]
  },
  {
   "cell_type": "code",
   "execution_count": null,
   "metadata": {},
   "outputs": [],
   "source": [
    "from imblearn.under_sampling import RepeatedEditedNearestNeighbours"
   ]
  },
  {
   "cell_type": "code",
   "execution_count": null,
   "metadata": {},
   "outputs": [],
   "source": [
    "model = RepeatedEditedNearestNeighbours(n_jobs=-1)\n",
    "\n",
    "steps = [\n",
    "    ('standard_scaler', DFStandardScaler()),\n",
    "    ('model', model),\n",
    "]\n",
    "new_X, new_y = Pipeline(steps, verbose=True).fit_resample(X, y)\n",
    "\n",
    "# Removed samples\n",
    "# X[X.index.isin(model.sample_indices_) == False]\n",
    "# y[y.index.isin(model.sample_indices_) == False]\n",
    "\n",
    "new_X.shape, new_y.shape"
   ]
  },
  {
   "cell_type": "code",
   "execution_count": null,
   "metadata": {},
   "outputs": [],
   "source": [
    "vp.value_count(new_y.to_frame(), 'target')"
   ]
  },
  {
   "cell_type": "code",
   "execution_count": null,
   "metadata": {},
   "outputs": [],
   "source": [
    "fig = px.scatter(pd.concat([new_X, new_y.astype(str)], axis=1).sort_values(by='target'),\n",
    "                 x='feature_1', y='feature_2', color='target')\n",
    "\n",
    "data_groups.append(fig['data'])\n",
    "subplot_titles.append(f'Repeated Edited Nearest Neighbours {class_ratio(new_y)}')"
   ]
  },
  {
   "cell_type": "markdown",
   "metadata": {},
   "source": [
    "### 1.4. All KNN"
   ]
  },
  {
   "cell_type": "code",
   "execution_count": null,
   "metadata": {},
   "outputs": [],
   "source": [
    "from imblearn.under_sampling import AllKNN"
   ]
  },
  {
   "cell_type": "code",
   "execution_count": null,
   "metadata": {},
   "outputs": [],
   "source": [
    "model = AllKNN(n_jobs=-1)\n",
    "\n",
    "steps = [\n",
    "    ('standard_scaler', DFStandardScaler()),\n",
    "    ('model', model),\n",
    "]\n",
    "new_X, new_y = Pipeline(steps, verbose=True).fit_resample(X, y)\n",
    "\n",
    "# Removed samples\n",
    "# X[X.index.isin(model.sample_indices_) == False]\n",
    "# y[y.index.isin(model.sample_indices_) == False]\n",
    "\n",
    "new_X.shape, new_y.shape"
   ]
  },
  {
   "cell_type": "code",
   "execution_count": null,
   "metadata": {},
   "outputs": [],
   "source": [
    "vp.value_count(new_y.to_frame(), 'target')"
   ]
  },
  {
   "cell_type": "code",
   "execution_count": null,
   "metadata": {},
   "outputs": [],
   "source": [
    "fig = px.scatter(pd.concat([new_X, new_y.astype(str)], axis=1).sort_values(by='target'),\n",
    "                 x='feature_1', y='feature_2', color='target')\n",
    "\n",
    "data_groups.append(fig['data'])\n",
    "subplot_titles.append(f'All KNN {class_ratio(new_y)}')"
   ]
  },
  {
   "cell_type": "markdown",
   "metadata": {},
   "source": [
    "### 1.5. Instance Hardness Threshold"
   ]
  },
  {
   "cell_type": "code",
   "execution_count": null,
   "metadata": {},
   "outputs": [],
   "source": [
    "from imblearn.under_sampling import InstanceHardnessThreshold\n",
    "from sklearn.ensemble import RandomForestClassifier"
   ]
  },
  {
   "cell_type": "code",
   "execution_count": null,
   "metadata": {},
   "outputs": [],
   "source": [
    "model = InstanceHardnessThreshold(estimator=RandomForestClassifier(), n_jobs=-1, random_state=0)\n",
    "\n",
    "steps = [\n",
    "    ('standard_scaler', DFStandardScaler()),\n",
    "    ('model', model),\n",
    "]\n",
    "new_X, new_y = Pipeline(steps, verbose=True).fit_resample(X, y)\n",
    "\n",
    "# Removed samples\n",
    "# X[X.index.isin(model.sample_indices_) == False]\n",
    "# y[y.index.isin(model.sample_indices_) == False]\n",
    "\n",
    "new_X.shape, new_y.shape"
   ]
  },
  {
   "cell_type": "code",
   "execution_count": null,
   "metadata": {},
   "outputs": [],
   "source": [
    "vp.value_count(new_y.to_frame(), 'target')"
   ]
  },
  {
   "cell_type": "code",
   "execution_count": null,
   "metadata": {},
   "outputs": [],
   "source": [
    "fig = px.scatter(pd.concat([new_X, new_y.astype(str)], axis=1).sort_values(by='target'),\n",
    "                 x='feature_1', y='feature_2', color='target')\n",
    "\n",
    "data_groups.append(fig['data'])\n",
    "subplot_titles.append(f'Instance Hardness Threshold {class_ratio(new_y)}')"
   ]
  },
  {
   "cell_type": "markdown",
   "metadata": {},
   "source": [
    "### 1.6. Near Miss - V1"
   ]
  },
  {
   "cell_type": "code",
   "execution_count": null,
   "metadata": {},
   "outputs": [],
   "source": [
    "from imblearn.under_sampling import NearMiss"
   ]
  },
  {
   "cell_type": "code",
   "execution_count": null,
   "metadata": {},
   "outputs": [],
   "source": [
    "model = NearMiss(version=1, n_jobs=-1)\n",
    "\n",
    "steps = [\n",
    "    ('standard_scaler', DFStandardScaler()),\n",
    "    ('model', model),\n",
    "]\n",
    "new_X, new_y = Pipeline(steps, verbose=True).fit_resample(X, y)\n",
    "\n",
    "# Removed samples\n",
    "# X[X.index.isin(model.sample_indices_) == False]\n",
    "# y[y.index.isin(model.sample_indices_) == False]\n",
    "\n",
    "new_X.shape, new_y.shape"
   ]
  },
  {
   "cell_type": "code",
   "execution_count": null,
   "metadata": {},
   "outputs": [],
   "source": [
    "vp.value_count(new_y.to_frame(), 'target')"
   ]
  },
  {
   "cell_type": "code",
   "execution_count": null,
   "metadata": {},
   "outputs": [],
   "source": [
    "fig = px.scatter(pd.concat([new_X, new_y.astype(str)], axis=1).sort_values(by='target'),\n",
    "                 x='feature_1', y='feature_2', color='target')\n",
    "\n",
    "data_groups.append(fig['data'])\n",
    "subplot_titles.append(f'Near Miss - V1 {class_ratio(new_y)}')"
   ]
  },
  {
   "cell_type": "markdown",
   "metadata": {},
   "source": [
    "### 1.6. Near Miss - V2"
   ]
  },
  {
   "cell_type": "code",
   "execution_count": null,
   "metadata": {},
   "outputs": [],
   "source": [
    "model = NearMiss(version=2, n_jobs=-1)\n",
    "\n",
    "steps = [\n",
    "    ('standard_scaler', DFStandardScaler()),\n",
    "    ('model', model),\n",
    "]\n",
    "new_X, new_y = Pipeline(steps, verbose=True).fit_resample(X, y)\n",
    "\n",
    "# Removed samples\n",
    "# X[X.index.isin(model.sample_indices_) == False]\n",
    "# y[y.index.isin(model.sample_indices_) == False]\n",
    "\n",
    "new_X.shape, new_y.shape"
   ]
  },
  {
   "cell_type": "code",
   "execution_count": null,
   "metadata": {},
   "outputs": [],
   "source": [
    "vp.value_count(new_y.to_frame(), 'target')"
   ]
  },
  {
   "cell_type": "code",
   "execution_count": null,
   "metadata": {},
   "outputs": [],
   "source": [
    "fig = px.scatter(pd.concat([new_X, new_y.astype(str)], axis=1).sort_values(by='target'),\n",
    "                 x='feature_1', y='feature_2', color='target')\n",
    "\n",
    "data_groups.append(fig['data'])\n",
    "subplot_titles.append(f'Near Miss - V2 {class_ratio(new_y)}')"
   ]
  },
  {
   "cell_type": "markdown",
   "metadata": {},
   "source": [
    "### 1.6. Near Miss - V3"
   ]
  },
  {
   "cell_type": "code",
   "execution_count": null,
   "metadata": {},
   "outputs": [],
   "source": [
    "model = NearMiss(version=3, n_jobs=-1)\n",
    "\n",
    "steps = [\n",
    "    ('standard_scaler', DFStandardScaler()),\n",
    "    ('model', model),\n",
    "]\n",
    "new_X, new_y = Pipeline(steps, verbose=True).fit_resample(X, y)\n",
    "\n",
    "# Removed samples\n",
    "# X[X.index.isin(model.sample_indices_) == False]\n",
    "# y[y.index.isin(model.sample_indices_) == False]\n",
    "\n",
    "new_X.shape, new_y.shape"
   ]
  },
  {
   "cell_type": "code",
   "execution_count": null,
   "metadata": {},
   "outputs": [],
   "source": [
    "vp.value_count(new_y.to_frame(), 'target')"
   ]
  },
  {
   "cell_type": "code",
   "execution_count": null,
   "metadata": {},
   "outputs": [],
   "source": [
    "fig = px.scatter(pd.concat([new_X, new_y.astype(str)], axis=1).sort_values(by='target'),\n",
    "                 x='feature_1', y='feature_2', color='target')\n",
    "\n",
    "data_groups.append(fig['data'])\n",
    "subplot_titles.append(f'Near Miss - V3 {class_ratio(new_y)}')"
   ]
  },
  {
   "cell_type": "markdown",
   "metadata": {},
   "source": [
    "### 1.7. Neighbourhood Cleaning Rule"
   ]
  },
  {
   "cell_type": "code",
   "execution_count": null,
   "metadata": {},
   "outputs": [],
   "source": [
    "from imblearn.under_sampling import NeighbourhoodCleaningRule"
   ]
  },
  {
   "cell_type": "code",
   "execution_count": null,
   "metadata": {},
   "outputs": [],
   "source": [
    "model = NeighbourhoodCleaningRule(n_jobs=-1)\n",
    "\n",
    "steps = [\n",
    "    ('standard_scaler', DFStandardScaler()),\n",
    "    ('model', model),\n",
    "]\n",
    "new_X, new_y = Pipeline(steps, verbose=True).fit_resample(X, y)\n",
    "\n",
    "# Removed samples\n",
    "# X[X.index.isin(model.sample_indices_) == False]\n",
    "# y[y.index.isin(model.sample_indices_) == False]\n",
    "\n",
    "new_X.shape, new_y.shape"
   ]
  },
  {
   "cell_type": "code",
   "execution_count": null,
   "metadata": {},
   "outputs": [],
   "source": [
    "vp.value_count(new_y.to_frame(), 'target')"
   ]
  },
  {
   "cell_type": "code",
   "execution_count": null,
   "metadata": {},
   "outputs": [],
   "source": [
    "fig = px.scatter(pd.concat([new_X, new_y.astype(str)], axis=1).sort_values(by='target'),\n",
    "                 x='feature_1', y='feature_2', color='target')\n",
    "\n",
    "data_groups.append(fig['data'])\n",
    "subplot_titles.append(f'Neighbourhood Cleaning Rule {class_ratio(new_y)}')"
   ]
  },
  {
   "cell_type": "markdown",
   "metadata": {},
   "source": [
    "### 1.8. One Sided Selection"
   ]
  },
  {
   "cell_type": "code",
   "execution_count": null,
   "metadata": {},
   "outputs": [],
   "source": [
    "from imblearn.under_sampling import OneSidedSelection"
   ]
  },
  {
   "cell_type": "code",
   "execution_count": null,
   "metadata": {},
   "outputs": [],
   "source": [
    "model = OneSidedSelection(random_state=0, n_jobs=-1)\n",
    "\n",
    "steps = [\n",
    "    ('standard_scaler', DFStandardScaler()),\n",
    "    ('model', model),\n",
    "]\n",
    "new_X, new_y = Pipeline(steps, verbose=True).fit_resample(X, y)\n",
    "\n",
    "# Removed samples\n",
    "# X[X.index.isin(model.sample_indices_) == False]\n",
    "# y[y.index.isin(model.sample_indices_) == False]\n",
    "\n",
    "new_X.shape, new_y.shape"
   ]
  },
  {
   "cell_type": "code",
   "execution_count": null,
   "metadata": {},
   "outputs": [],
   "source": [
    "vp.value_count(new_y.to_frame(), 'target')"
   ]
  },
  {
   "cell_type": "code",
   "execution_count": null,
   "metadata": {},
   "outputs": [],
   "source": [
    "fig = px.scatter(pd.concat([new_X, new_y.astype(str)], axis=1).sort_values(by='target'),\n",
    "                 x='feature_1', y='feature_2', color='target')\n",
    "\n",
    "data_groups.append(fig['data'])\n",
    "subplot_titles.append(f'One Sided Selection {class_ratio(new_y)}')"
   ]
  },
  {
   "cell_type": "markdown",
   "metadata": {},
   "source": [
    "### 1.9. Random Under Sampler"
   ]
  },
  {
   "cell_type": "code",
   "execution_count": null,
   "metadata": {},
   "outputs": [],
   "source": [
    "from imblearn.under_sampling import RandomUnderSampler"
   ]
  },
  {
   "cell_type": "code",
   "execution_count": null,
   "metadata": {},
   "outputs": [],
   "source": [
    "model = RandomUnderSampler(random_state=0)\n",
    "\n",
    "steps = [\n",
    "    ('standard_scaler', DFStandardScaler()),\n",
    "    ('model', model),\n",
    "]\n",
    "new_X, new_y = Pipeline(steps, verbose=True).fit_resample(X, y)\n",
    "\n",
    "# Removed samples\n",
    "# X[X.index.isin(model.sample_indices_) == False]\n",
    "# y[y.index.isin(model.sample_indices_) == False]\n",
    "\n",
    "new_X.shape, new_y.shape"
   ]
  },
  {
   "cell_type": "code",
   "execution_count": null,
   "metadata": {},
   "outputs": [],
   "source": [
    "vp.value_count(new_y.to_frame(), 'target')"
   ]
  },
  {
   "cell_type": "code",
   "execution_count": null,
   "metadata": {},
   "outputs": [],
   "source": [
    "fig = px.scatter(pd.concat([new_X, new_y.astype(str)], axis=1).sort_values(by='target'),\n",
    "                 x='feature_1', y='feature_2', color='target')\n",
    "\n",
    "data_groups.append(fig['data'])\n",
    "subplot_titles.append(f'Random Under Sampler {class_ratio(new_y)}')"
   ]
  },
  {
   "cell_type": "markdown",
   "metadata": {},
   "source": [
    "### 1.10. Tomek Links"
   ]
  },
  {
   "cell_type": "code",
   "execution_count": null,
   "metadata": {},
   "outputs": [],
   "source": [
    "from imblearn.under_sampling import TomekLinks"
   ]
  },
  {
   "cell_type": "code",
   "execution_count": null,
   "metadata": {},
   "outputs": [],
   "source": [
    "model = TomekLinks(n_jobs=-1)\n",
    "\n",
    "steps = [\n",
    "    ('standard_scaler', DFStandardScaler()),\n",
    "    ('model', model),\n",
    "]\n",
    "new_X, new_y = Pipeline(steps, verbose=True).fit_resample(X, y)\n",
    "\n",
    "# Removed samples\n",
    "# X[X.index.isin(model.sample_indices_) == False]\n",
    "# y[y.index.isin(model.sample_indices_) == False]\n",
    "\n",
    "new_X.shape, new_y.shape"
   ]
  },
  {
   "cell_type": "code",
   "execution_count": null,
   "metadata": {},
   "outputs": [],
   "source": [
    "vp.value_count(new_y.to_frame(), 'target')"
   ]
  },
  {
   "cell_type": "code",
   "execution_count": null,
   "metadata": {},
   "outputs": [],
   "source": [
    "fig = px.scatter(pd.concat([new_X, new_y.astype(str)], axis=1).sort_values(by='target'),\n",
    "                 x='feature_1', y='feature_2', color='target')\n",
    "\n",
    "data_groups.append(fig['data'])\n",
    "subplot_titles.append(f'Tomek Links {class_ratio(new_y)}')"
   ]
  },
  {
   "cell_type": "code",
   "execution_count": null,
   "metadata": {},
   "outputs": [],
   "source": [
    "# Scatter plot\n",
    "vp.datagroups_subplots(\n",
    "    data_groups,\n",
    "    max_col=3,\n",
    "    title='Under-Sampling',\n",
    "    out_path=OUT_PATH_GRAPH,\n",
    "    subplot_kwargs={\n",
    "        'subplot_titles': subplot_titles,\n",
    "        'vertical_spacing': .05\n",
    "    },\n",
    "    layout_kwargs={'height': 1500})"
   ]
  },
  {
   "cell_type": "markdown",
   "metadata": {},
   "source": [
    "# 2. Over-Sampling"
   ]
  },
  {
   "cell_type": "code",
   "execution_count": null,
   "metadata": {},
   "outputs": [],
   "source": [
    "data_groups    = []\n",
    "subplot_titles = []\n",
    "\n",
    "fig = px.scatter(pd.concat([DFStandardScaler().fit_transform(X), y.astype(str)], axis=1).sort_values(by='target'),\n",
    "                 x='feature_1', y='feature_2', color='target')\n",
    "\n",
    "data_groups.append(fig['data'])\n",
    "subplot_titles.append(f'Original Dataset {class_ratio(y)}')"
   ]
  },
  {
   "cell_type": "markdown",
   "metadata": {},
   "source": [
    "### 2.1. Adaptive Synthetic (ADASYN)"
   ]
  },
  {
   "cell_type": "code",
   "execution_count": null,
   "metadata": {},
   "outputs": [],
   "source": [
    "from imblearn.over_sampling import ADASYN"
   ]
  },
  {
   "cell_type": "code",
   "execution_count": null,
   "metadata": {},
   "outputs": [],
   "source": [
    "model = ADASYN(random_state=0, n_jobs=-1)\n",
    "\n",
    "steps = [\n",
    "    ('standard_scaler', DFStandardScaler()),\n",
    "    ('model', model),\n",
    "]\n",
    "new_X, new_y = Pipeline(steps, verbose=True).fit_resample(X, y)\n",
    "\n",
    "new_X.shape, new_y.shape"
   ]
  },
  {
   "cell_type": "code",
   "execution_count": null,
   "metadata": {},
   "outputs": [],
   "source": [
    "vp.value_count(new_y.to_frame(), 'target')"
   ]
  },
  {
   "cell_type": "code",
   "execution_count": null,
   "metadata": {},
   "outputs": [],
   "source": [
    "fig = px.scatter(pd.concat([new_X, new_y.astype(str)], axis=1).sort_values(by='target'),\n",
    "                 x='feature_1', y='feature_2', color='target')\n",
    "\n",
    "data_groups.append(fig['data'])\n",
    "subplot_titles.append(f'ADASYN {class_ratio(new_y)}')"
   ]
  },
  {
   "cell_type": "markdown",
   "metadata": {},
   "source": [
    "### 2.2. Borderline SMOTE"
   ]
  },
  {
   "cell_type": "code",
   "execution_count": null,
   "metadata": {},
   "outputs": [],
   "source": [
    "from imblearn.over_sampling import BorderlineSMOTE"
   ]
  },
  {
   "cell_type": "code",
   "execution_count": null,
   "metadata": {},
   "outputs": [],
   "source": [
    "model = BorderlineSMOTE(random_state=0, n_jobs=-1)\n",
    "\n",
    "steps = [\n",
    "    ('standard_scaler', DFStandardScaler()),\n",
    "    ('model', model),\n",
    "]\n",
    "new_X, new_y = Pipeline(steps, verbose=True).fit_resample(X, y)\n",
    "\n",
    "new_X.shape, new_y.shape"
   ]
  },
  {
   "cell_type": "code",
   "execution_count": null,
   "metadata": {},
   "outputs": [],
   "source": [
    "vp.value_count(new_y.to_frame(), 'target')"
   ]
  },
  {
   "cell_type": "code",
   "execution_count": null,
   "metadata": {},
   "outputs": [],
   "source": [
    "fig = px.scatter(pd.concat([new_X, new_y.astype(str)], axis=1).sort_values(by='target'),\n",
    "                 x='feature_1', y='feature_2', color='target')\n",
    "\n",
    "data_groups.append(fig['data'])\n",
    "subplot_titles.append(f'Borderline SMOTE {class_ratio(new_y)}')"
   ]
  },
  {
   "cell_type": "markdown",
   "metadata": {},
   "source": [
    "### 2.3. K-Means SMOTE"
   ]
  },
  {
   "cell_type": "code",
   "execution_count": null,
   "metadata": {},
   "outputs": [],
   "source": [
    "from imblearn.over_sampling import KMeansSMOTE"
   ]
  },
  {
   "cell_type": "code",
   "execution_count": null,
   "metadata": {},
   "outputs": [],
   "source": [
    "model = KMeansSMOTE(random_state=0, n_jobs=-1)\n",
    "\n",
    "steps = [\n",
    "    ('standard_scaler', DFStandardScaler()),\n",
    "    ('model', model),\n",
    "]\n",
    "new_X, new_y = Pipeline(steps, verbose=True).fit_resample(X, y)\n",
    "\n",
    "new_X.shape, new_y.shape"
   ]
  },
  {
   "cell_type": "code",
   "execution_count": null,
   "metadata": {},
   "outputs": [],
   "source": [
    "vp.value_count(new_y.to_frame(), 'target')"
   ]
  },
  {
   "cell_type": "code",
   "execution_count": null,
   "metadata": {},
   "outputs": [],
   "source": [
    "fig = px.scatter(pd.concat([new_X, new_y.astype(str)], axis=1).sort_values(by='target'),\n",
    "                 x='feature_1', y='feature_2', color='target')\n",
    "\n",
    "data_groups.append(fig['data'])\n",
    "subplot_titles.append(f'K-Means SMOTE {class_ratio(new_y)}')"
   ]
  },
  {
   "cell_type": "markdown",
   "metadata": {},
   "source": [
    "### 2.4. Random Over Sampler"
   ]
  },
  {
   "cell_type": "code",
   "execution_count": null,
   "metadata": {},
   "outputs": [],
   "source": [
    "from imblearn.over_sampling import RandomOverSampler"
   ]
  },
  {
   "cell_type": "code",
   "execution_count": null,
   "metadata": {},
   "outputs": [],
   "source": [
    "model = RandomOverSampler(random_state=0)\n",
    "\n",
    "steps = [\n",
    "    ('standard_scaler', DFStandardScaler()),\n",
    "    ('model', model),\n",
    "]\n",
    "new_X, new_y = Pipeline(steps, verbose=True).fit_resample(X, y)\n",
    "\n",
    "new_X.shape, new_y.shape"
   ]
  },
  {
   "cell_type": "code",
   "execution_count": null,
   "metadata": {},
   "outputs": [],
   "source": [
    "vp.value_count(new_y.to_frame(), 'target')"
   ]
  },
  {
   "cell_type": "code",
   "execution_count": null,
   "metadata": {},
   "outputs": [],
   "source": [
    "fig = px.scatter(pd.concat([new_X, new_y.astype(str)], axis=1).sort_values(by='target'),\n",
    "                 x='feature_1', y='feature_2', color='target')\n",
    "\n",
    "data_groups.append(fig['data'])\n",
    "subplot_titles.append(f'Random Over Sampler {class_ratio(new_y)}')"
   ]
  },
  {
   "cell_type": "markdown",
   "metadata": {},
   "source": [
    "### 2.5. SMOTE"
   ]
  },
  {
   "cell_type": "code",
   "execution_count": null,
   "metadata": {},
   "outputs": [],
   "source": [
    "from imblearn.over_sampling import SMOTE"
   ]
  },
  {
   "cell_type": "code",
   "execution_count": null,
   "metadata": {},
   "outputs": [],
   "source": [
    "model = SMOTE(random_state=0, n_jobs=-1)\n",
    "\n",
    "steps = [\n",
    "    ('standard_scaler', DFStandardScaler()),\n",
    "    ('model', model),\n",
    "]\n",
    "new_X, new_y = Pipeline(steps, verbose=True).fit_resample(X, y)\n",
    "\n",
    "new_X.shape, new_y.shape"
   ]
  },
  {
   "cell_type": "code",
   "execution_count": null,
   "metadata": {},
   "outputs": [],
   "source": [
    "vp.value_count(new_y.to_frame(), 'target')"
   ]
  },
  {
   "cell_type": "code",
   "execution_count": null,
   "metadata": {},
   "outputs": [],
   "source": [
    "fig = px.scatter(pd.concat([new_X, new_y.astype(str)], axis=1).sort_values(by='target'),\n",
    "                 x='feature_1', y='feature_2', color='target')\n",
    "\n",
    "data_groups.append(fig['data'])\n",
    "subplot_titles.append(f'SMOTE {class_ratio(new_y)}')"
   ]
  },
  {
   "cell_type": "markdown",
   "metadata": {},
   "source": [
    "### 2.6. SVM SMOTE"
   ]
  },
  {
   "cell_type": "code",
   "execution_count": null,
   "metadata": {},
   "outputs": [],
   "source": [
    "from imblearn.over_sampling import SVMSMOTE"
   ]
  },
  {
   "cell_type": "code",
   "execution_count": null,
   "metadata": {},
   "outputs": [],
   "source": [
    "model = SVMSMOTE(random_state=0, n_jobs=-1)\n",
    "\n",
    "steps = [\n",
    "    ('standard_scaler', DFStandardScaler()),\n",
    "    ('model', model),\n",
    "]\n",
    "new_X, new_y = Pipeline(steps, verbose=True).fit_resample(X, y)\n",
    "\n",
    "new_X.shape, new_y.shape"
   ]
  },
  {
   "cell_type": "code",
   "execution_count": null,
   "metadata": {},
   "outputs": [],
   "source": [
    "vp.value_count(new_y.to_frame(), 'target')"
   ]
  },
  {
   "cell_type": "code",
   "execution_count": null,
   "metadata": {},
   "outputs": [],
   "source": [
    "fig = px.scatter(pd.concat([new_X, new_y.astype(str)], axis=1).sort_values(by='target'),\n",
    "                 x='feature_1', y='feature_2', color='target')\n",
    "\n",
    "data_groups.append(fig['data'])\n",
    "subplot_titles.append(f'SVM SMOTE {class_ratio(new_y)}')"
   ]
  },
  {
   "cell_type": "code",
   "execution_count": null,
   "metadata": {},
   "outputs": [],
   "source": [
    "# Scatter plot\n",
    "vp.datagroups_subplots(\n",
    "    data_groups,\n",
    "    max_col=3,\n",
    "    title='Over-Sampling',\n",
    "    out_path=OUT_PATH_GRAPH,\n",
    "    subplot_kwargs={\n",
    "        'subplot_titles': subplot_titles,\n",
    "        'vertical_spacing': .09\n",
    "    },\n",
    "    layout_kwargs={'height': 950})"
   ]
  },
  {
   "cell_type": "markdown",
   "metadata": {},
   "source": [
    "# 3. Combination (Over+Under-Sampling)"
   ]
  },
  {
   "cell_type": "code",
   "execution_count": null,
   "metadata": {},
   "outputs": [],
   "source": [
    "data_groups    = []\n",
    "subplot_titles = []\n",
    "\n",
    "fig = px.scatter(pd.concat([DFStandardScaler().fit_transform(X), y.astype(str)], axis=1).sort_values(by='target'),\n",
    "                 x='feature_1', y='feature_2', color='target')\n",
    "\n",
    "data_groups.append(fig['data'])\n",
    "subplot_titles.append(f'Original Dataset {class_ratio(y)}')"
   ]
  },
  {
   "cell_type": "markdown",
   "metadata": {},
   "source": [
    "### 3.1. SMOTE+ENN"
   ]
  },
  {
   "cell_type": "code",
   "execution_count": null,
   "metadata": {},
   "outputs": [],
   "source": [
    "from imblearn.combine import SMOTEENN"
   ]
  },
  {
   "cell_type": "code",
   "execution_count": null,
   "metadata": {},
   "outputs": [],
   "source": [
    "model = SMOTEENN(random_state=0, n_jobs=-1)\n",
    "\n",
    "steps = [\n",
    "    ('standard_scaler', DFStandardScaler()),\n",
    "    ('model', model),\n",
    "]\n",
    "new_X, new_y = Pipeline(steps, verbose=True).fit_resample(X, y)\n",
    "\n",
    "new_X.shape, new_y.shape"
   ]
  },
  {
   "cell_type": "code",
   "execution_count": null,
   "metadata": {},
   "outputs": [],
   "source": [
    "vp.value_count(new_y.to_frame(), 'target')"
   ]
  },
  {
   "cell_type": "code",
   "execution_count": null,
   "metadata": {},
   "outputs": [],
   "source": [
    "fig = px.scatter(pd.concat([new_X, new_y.astype(str)], axis=1).sort_values(by='target'),\n",
    "                 x='feature_1', y='feature_2', color='target')\n",
    "\n",
    "data_groups.append(fig['data'])\n",
    "subplot_titles.append(f'SMOTE+ENN {class_ratio(new_y)}')"
   ]
  },
  {
   "cell_type": "markdown",
   "metadata": {},
   "source": [
    "### 3.2. SMOTE+Tomek"
   ]
  },
  {
   "cell_type": "code",
   "execution_count": null,
   "metadata": {},
   "outputs": [],
   "source": [
    "from imblearn.combine import SMOTETomek"
   ]
  },
  {
   "cell_type": "code",
   "execution_count": null,
   "metadata": {},
   "outputs": [],
   "source": [
    "model = SMOTETomek(random_state=0, n_jobs=-1)\n",
    "\n",
    "steps = [\n",
    "    ('standard_scaler', DFStandardScaler()),\n",
    "    ('model', model),\n",
    "]\n",
    "new_X, new_y = Pipeline(steps, verbose=True).fit_resample(X, y)\n",
    "\n",
    "new_X.shape, new_y.shape"
   ]
  },
  {
   "cell_type": "code",
   "execution_count": null,
   "metadata": {},
   "outputs": [],
   "source": [
    "vp.value_count(new_y.to_frame(), 'target')"
   ]
  },
  {
   "cell_type": "code",
   "execution_count": null,
   "metadata": {},
   "outputs": [],
   "source": [
    "fig = px.scatter(pd.concat([new_X, new_y.astype(str)], axis=1).sort_values(by='target'),\n",
    "                 x='feature_1', y='feature_2', color='target')\n",
    "\n",
    "data_groups.append(fig['data'])\n",
    "subplot_titles.append(f'SMOTE+Tomek {class_ratio(new_y)}')"
   ]
  },
  {
   "cell_type": "markdown",
   "metadata": {},
   "source": [
    "### 3.3. ADASYN+ENN"
   ]
  },
  {
   "cell_type": "code",
   "execution_count": null,
   "metadata": {},
   "outputs": [],
   "source": [
    "from imblearn.over_sampling import ADASYN\n",
    "from imblearn.under_sampling import EditedNearestNeighbours"
   ]
  },
  {
   "cell_type": "code",
   "execution_count": null,
   "metadata": {},
   "outputs": [],
   "source": [
    "steps = [\n",
    "    ('standard_scaler', DFStandardScaler()),\n",
    "    ('ADASYN', ADASYN(random_state=0, n_jobs=-1)),\n",
    "    ('ENN', EditedNearestNeighbours(n_jobs=-1, sampling_strategy='all')),\n",
    "]\n",
    "new_X, new_y = Pipeline(steps, verbose=True).fit_resample(X, y)\n",
    "\n",
    "new_X.shape, new_y.shape"
   ]
  },
  {
   "cell_type": "code",
   "execution_count": null,
   "metadata": {},
   "outputs": [],
   "source": [
    "vp.value_count(new_y.to_frame(), 'target')"
   ]
  },
  {
   "cell_type": "code",
   "execution_count": null,
   "metadata": {},
   "outputs": [],
   "source": [
    "fig = px.scatter(pd.concat([new_X, new_y.astype(str)], axis=1).sort_values(by='target'),\n",
    "                 x='feature_1', y='feature_2', color='target')\n",
    "\n",
    "data_groups.append(fig['data'])\n",
    "subplot_titles.append(f'ADASYN+ENN {class_ratio(new_y)}')"
   ]
  },
  {
   "cell_type": "markdown",
   "metadata": {},
   "source": [
    "### 3.4. ADASYN+Tomek"
   ]
  },
  {
   "cell_type": "code",
   "execution_count": null,
   "metadata": {},
   "outputs": [],
   "source": [
    "from imblearn.over_sampling import ADASYN\n",
    "from imblearn.under_sampling import TomekLinks"
   ]
  },
  {
   "cell_type": "code",
   "execution_count": null,
   "metadata": {},
   "outputs": [],
   "source": [
    "steps = [\n",
    "    ('standard_scaler', DFStandardScaler()),\n",
    "    ('ADASYN', ADASYN(random_state=0, n_jobs=-1)),\n",
    "    ('Tomek', TomekLinks(n_jobs=-1, sampling_strategy='all')),\n",
    "]\n",
    "new_X, new_y = Pipeline(steps, verbose=True).fit_resample(X, y)\n",
    "\n",
    "new_X.shape, new_y.shape"
   ]
  },
  {
   "cell_type": "code",
   "execution_count": null,
   "metadata": {},
   "outputs": [],
   "source": [
    "vp.value_count(new_y.to_frame(), 'target')"
   ]
  },
  {
   "cell_type": "code",
   "execution_count": null,
   "metadata": {},
   "outputs": [],
   "source": [
    "fig = px.scatter(pd.concat([new_X, new_y.astype(str)], axis=1).sort_values(by='target'),\n",
    "                 x='feature_1', y='feature_2', color='target')\n",
    "\n",
    "data_groups.append(fig['data'])\n",
    "subplot_titles.append(f'ADASYN+Tomek {class_ratio(new_y)}')"
   ]
  },
  {
   "cell_type": "markdown",
   "metadata": {},
   "source": [
    "### 3.5. Borderline SMOTE+ENN"
   ]
  },
  {
   "cell_type": "code",
   "execution_count": null,
   "metadata": {},
   "outputs": [],
   "source": [
    "from imblearn.over_sampling import BorderlineSMOTE\n",
    "from imblearn.under_sampling import EditedNearestNeighbours"
   ]
  },
  {
   "cell_type": "code",
   "execution_count": null,
   "metadata": {},
   "outputs": [],
   "source": [
    "steps = [\n",
    "    ('standard_scaler', DFStandardScaler()),\n",
    "    ('BorderlineSMOTE', BorderlineSMOTE(random_state=0, n_jobs=-1)),\n",
    "    ('ENN', EditedNearestNeighbours(n_jobs=-1, sampling_strategy='all')),\n",
    "]\n",
    "new_X, new_y = Pipeline(steps, verbose=True).fit_resample(X, y)\n",
    "\n",
    "new_X.shape, new_y.shape"
   ]
  },
  {
   "cell_type": "code",
   "execution_count": null,
   "metadata": {},
   "outputs": [],
   "source": [
    "vp.value_count(new_y.to_frame(), 'target')"
   ]
  },
  {
   "cell_type": "code",
   "execution_count": null,
   "metadata": {},
   "outputs": [],
   "source": [
    "fig = px.scatter(pd.concat([new_X, new_y.astype(str)], axis=1).sort_values(by='target'),\n",
    "                 x='feature_1', y='feature_2', color='target')\n",
    "\n",
    "data_groups.append(fig['data'])\n",
    "subplot_titles.append(f'Borderline SMOTE+ENN {class_ratio(new_y)}')"
   ]
  },
  {
   "cell_type": "markdown",
   "metadata": {},
   "source": [
    "### 3.6. Borderline SMOTE+Tomek"
   ]
  },
  {
   "cell_type": "code",
   "execution_count": null,
   "metadata": {},
   "outputs": [],
   "source": [
    "from imblearn.over_sampling import BorderlineSMOTE\n",
    "from imblearn.under_sampling import TomekLinks"
   ]
  },
  {
   "cell_type": "code",
   "execution_count": null,
   "metadata": {},
   "outputs": [],
   "source": [
    "steps = [\n",
    "    ('standard_scaler', DFStandardScaler()),\n",
    "    ('BorderlineSMOTE', BorderlineSMOTE(random_state=0, n_jobs=-1)),\n",
    "    ('Tomek', TomekLinks(n_jobs=-1, sampling_strategy='all')),\n",
    "]\n",
    "new_X, new_y = Pipeline(steps, verbose=True).fit_resample(X, y)\n",
    "\n",
    "new_X.shape, new_y.shape"
   ]
  },
  {
   "cell_type": "code",
   "execution_count": null,
   "metadata": {},
   "outputs": [],
   "source": [
    "vp.value_count(new_y.to_frame(), 'target')"
   ]
  },
  {
   "cell_type": "code",
   "execution_count": null,
   "metadata": {},
   "outputs": [],
   "source": [
    "fig = px.scatter(pd.concat([new_X, new_y.astype(str)], axis=1).sort_values(by='target'),\n",
    "                 x='feature_1', y='feature_2', color='target')\n",
    "\n",
    "data_groups.append(fig['data'])\n",
    "subplot_titles.append(f'Borderline SMOTE+Tomek {class_ratio(new_y)}')"
   ]
  },
  {
   "cell_type": "markdown",
   "metadata": {},
   "source": [
    "### 3.7. K-Means SMOTE+Tomek"
   ]
  },
  {
   "cell_type": "code",
   "execution_count": null,
   "metadata": {},
   "outputs": [],
   "source": [
    "from imblearn.over_sampling import KMeansSMOTE\n",
    "from imblearn.under_sampling import EditedNearestNeighbours"
   ]
  },
  {
   "cell_type": "code",
   "execution_count": null,
   "metadata": {},
   "outputs": [],
   "source": [
    "steps = [\n",
    "    ('standard_scaler', DFStandardScaler()),\n",
    "    ('KMeansSMOTE', KMeansSMOTE(random_state=0, n_jobs=-1)),\n",
    "    ('ENN', EditedNearestNeighbours(n_jobs=-1, sampling_strategy='all')),\n",
    "]\n",
    "new_X, new_y = Pipeline(steps, verbose=True).fit_resample(X, y)\n",
    "\n",
    "new_X.shape, new_y.shape"
   ]
  },
  {
   "cell_type": "code",
   "execution_count": null,
   "metadata": {},
   "outputs": [],
   "source": [
    "vp.value_count(new_y.to_frame(), 'target')"
   ]
  },
  {
   "cell_type": "code",
   "execution_count": null,
   "metadata": {},
   "outputs": [],
   "source": [
    "fig = px.scatter(pd.concat([new_X, new_y.astype(str)], axis=1).sort_values(by='target'),\n",
    "                 x='feature_1', y='feature_2', color='target')\n",
    "\n",
    "data_groups.append(fig['data'])\n",
    "subplot_titles.append(f'K-Means SMOTE+ENN {class_ratio(new_y)}')"
   ]
  },
  {
   "cell_type": "markdown",
   "metadata": {},
   "source": [
    "### 3.8. K-Means SMOTE+Tomek"
   ]
  },
  {
   "cell_type": "code",
   "execution_count": null,
   "metadata": {},
   "outputs": [],
   "source": [
    "from imblearn.over_sampling import KMeansSMOTE\n",
    "from imblearn.under_sampling import TomekLinks"
   ]
  },
  {
   "cell_type": "code",
   "execution_count": null,
   "metadata": {},
   "outputs": [],
   "source": [
    "steps = [\n",
    "    ('standard_scaler', DFStandardScaler()),\n",
    "    ('KMeansSMOTE', KMeansSMOTE(random_state=0, n_jobs=-1)),\n",
    "    ('Tomek', TomekLinks(n_jobs=-1, sampling_strategy='all')),\n",
    "]\n",
    "new_X, new_y = Pipeline(steps, verbose=True).fit_resample(X, y)\n",
    "\n",
    "new_X.shape, new_y.shape"
   ]
  },
  {
   "cell_type": "code",
   "execution_count": null,
   "metadata": {},
   "outputs": [],
   "source": [
    "vp.value_count(new_y.to_frame(), 'target')"
   ]
  },
  {
   "cell_type": "code",
   "execution_count": null,
   "metadata": {},
   "outputs": [],
   "source": [
    "fig = px.scatter(pd.concat([new_X, new_y.astype(str)], axis=1).sort_values(by='target'),\n",
    "                 x='feature_1', y='feature_2', color='target')\n",
    "\n",
    "data_groups.append(fig['data'])\n",
    "subplot_titles.append(f'K-Means SMOTE+Tomek {class_ratio(new_y)}')"
   ]
  },
  {
   "cell_type": "markdown",
   "metadata": {},
   "source": [
    "### 3.9. SVM SMOTE+ENN"
   ]
  },
  {
   "cell_type": "code",
   "execution_count": null,
   "metadata": {},
   "outputs": [],
   "source": [
    "from imblearn.over_sampling import SVMSMOTE\n",
    "from imblearn.under_sampling import EditedNearestNeighbours"
   ]
  },
  {
   "cell_type": "code",
   "execution_count": null,
   "metadata": {},
   "outputs": [],
   "source": [
    "steps = [\n",
    "    ('standard_scaler', DFStandardScaler()),\n",
    "    ('SVMSMOTE', SVMSMOTE(random_state=0, n_jobs=-1)),\n",
    "    ('ENN', EditedNearestNeighbours(n_jobs=-1, sampling_strategy='all')),\n",
    "]\n",
    "new_X, new_y = Pipeline(steps, verbose=True).fit_resample(X, y)\n",
    "\n",
    "new_X.shape, new_y.shape"
   ]
  },
  {
   "cell_type": "code",
   "execution_count": null,
   "metadata": {},
   "outputs": [],
   "source": [
    "vp.value_count(new_y.to_frame(), 'target')"
   ]
  },
  {
   "cell_type": "code",
   "execution_count": null,
   "metadata": {},
   "outputs": [],
   "source": [
    "fig = px.scatter(pd.concat([new_X, new_y.astype(str)], axis=1).sort_values(by='target'),\n",
    "                 x='feature_1', y='feature_2', color='target')\n",
    "\n",
    "data_groups.append(fig['data'])\n",
    "subplot_titles.append(f'SVM SMOTE+ENN {class_ratio(new_y)}')"
   ]
  },
  {
   "cell_type": "markdown",
   "metadata": {},
   "source": [
    "### 3.10. SVM SMOTE+Tomek"
   ]
  },
  {
   "cell_type": "code",
   "execution_count": null,
   "metadata": {},
   "outputs": [],
   "source": [
    "from imblearn.over_sampling import SVMSMOTE\n",
    "from imblearn.under_sampling import TomekLinks"
   ]
  },
  {
   "cell_type": "code",
   "execution_count": null,
   "metadata": {},
   "outputs": [],
   "source": [
    "steps = [\n",
    "    ('standard_scaler', DFStandardScaler()),\n",
    "    ('SVMSMOTE', SVMSMOTE(random_state=0, n_jobs=-1)),\n",
    "    ('Tomek', TomekLinks(n_jobs=-1, sampling_strategy='all')),\n",
    "]\n",
    "new_X, new_y = Pipeline(steps, verbose=True).fit_resample(X, y)\n",
    "\n",
    "new_X.shape, new_y.shape"
   ]
  },
  {
   "cell_type": "code",
   "execution_count": null,
   "metadata": {},
   "outputs": [],
   "source": [
    "vp.value_count(new_y.to_frame(), 'target')"
   ]
  },
  {
   "cell_type": "code",
   "execution_count": null,
   "metadata": {},
   "outputs": [],
   "source": [
    "fig = px.scatter(pd.concat([new_X, new_y.astype(str)], axis=1).sort_values(by='target'),\n",
    "                 x='feature_1', y='feature_2', color='target')\n",
    "\n",
    "data_groups.append(fig['data'])\n",
    "subplot_titles.append(f'SVM SMOTE+Tomek {class_ratio(new_y)}')"
   ]
  },
  {
   "cell_type": "code",
   "execution_count": null,
   "metadata": {},
   "outputs": [],
   "source": [
    "# Scatter plot\n",
    "vp.datagroups_subplots(\n",
    "    data_groups,\n",
    "    max_col=3,\n",
    "    title='Combination-Sampling',\n",
    "    out_path=OUT_PATH_GRAPH,\n",
    "    subplot_kwargs={\n",
    "        'subplot_titles': subplot_titles,\n",
    "        'vertical_spacing': .07\n",
    "    },\n",
    "    layout_kwargs={'height': 1250})"
   ]
  },
  {
   "cell_type": "code",
   "execution_count": null,
   "metadata": {},
   "outputs": [],
   "source": []
  }
 ],
 "metadata": {
  "kernelspec": {
   "display_name": "Python 3",
   "language": "python",
   "name": "python3"
  },
  "language_info": {
   "codemirror_mode": {
    "name": "ipython",
    "version": 3
   },
   "file_extension": ".py",
   "mimetype": "text/x-python",
   "name": "python",
   "nbconvert_exporter": "python",
   "pygments_lexer": "ipython3",
   "version": "3.7.4"
  }
 },
 "nbformat": 4,
 "nbformat_minor": 2
}
